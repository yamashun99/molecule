{
 "cells": [
  {
   "cell_type": "code",
   "execution_count": 1,
   "metadata": {},
   "outputs": [],
   "source": [
    "import numpy as np\n",
    "import sympy as sp"
   ]
  },
  {
   "cell_type": "code",
   "execution_count": 2,
   "metadata": {},
   "outputs": [],
   "source": [
    "# 変数の定義\n",
    "r, alpha1, alpha2 = sp.symbols(\"r alpha1 alpha2\", real=True, positive=True)\n",
    "variable = [r, alpha1, alpha2]\n",
    "\n",
    "# 分数を使ってべき乗を定義\n",
    "phi_1 = (2 * alpha1 / sp.pi) ** sp.Rational(3, 4) * sp.exp(-alpha1 * r**2)\n",
    "phi_2 = (2 * alpha2 / sp.pi) ** sp.Rational(3, 4) * sp.exp(-alpha2 * r**2)"
   ]
  },
  {
   "cell_type": "code",
   "execution_count": 3,
   "metadata": {},
   "outputs": [
    {
     "data": {
      "text/latex": [
       "$\\displaystyle \\frac{2 \\sqrt{2} \\alpha_{1}^{\\frac{3}{4}} \\alpha_{2}^{\\frac{3}{4}}}{\\left(\\alpha_{1} + \\alpha_{2}\\right)^{\\frac{3}{2}}}$"
      ],
      "text/plain": [
       "2*sqrt(2)*alpha1**(3/4)*alpha2**(3/4)/(alpha1 + alpha2)**(3/2)"
      ]
     },
     "metadata": {},
     "output_type": "display_data"
    }
   ],
   "source": [
    "# 演算子の定義\n",
    "integral_expr = 4 * sp.pi * r**2 * phi_1 * phi_2\n",
    "\n",
    "# 積分を実行\n",
    "result = sp.integrate(integral_expr, (r, 0, sp.oo))\n",
    "\n",
    "# 結果をシンプルにし、べき乗を分数で表示\n",
    "simplified_result = result.simplify()\n",
    "display(simplified_result)"
   ]
  },
  {
   "cell_type": "code",
   "execution_count": 4,
   "metadata": {},
   "outputs": [
    {
     "data": {
      "text/latex": [
       "$\\displaystyle \\frac{6 \\sqrt{2} \\alpha_{1}^{\\frac{7}{4}} \\alpha_{2}^{\\frac{7}{4}}}{\\left(\\alpha_{1} + \\alpha_{2}\\right)^{\\frac{5}{2}}}$"
      ],
      "text/plain": [
       "6*sqrt(2)*alpha1**(7/4)*alpha2**(7/4)/(alpha1 + alpha2)**(5/2)"
      ]
     },
     "metadata": {},
     "output_type": "display_data"
    }
   ],
   "source": [
    "# 演算子の定義\n",
    "integral_expr = (\n",
    "    -4\n",
    "    * sp.pi\n",
    "    * r**2\n",
    "    * phi_1\n",
    "    * sp.Rational(1, 2)\n",
    "    / r**2\n",
    "    * sp.diff(r**2 * sp.diff(phi_2, r), r)\n",
    ")\n",
    "\n",
    "# 積分を実行\n",
    "result = sp.integrate(integral_expr, (r, 0, sp.oo))\n",
    "\n",
    "# 結果をシンプルにし、べき乗を分数で表示\n",
    "simplified_result = result.simplify()\n",
    "display(simplified_result)\n",
    "python_function = sp.lambdify(variable, result, modules=\"sympy\")"
   ]
  },
  {
   "cell_type": "code",
   "execution_count": 5,
   "metadata": {},
   "outputs": [
    {
     "data": {
      "text/latex": [
       "$\\displaystyle - \\frac{4 \\sqrt{2} \\alpha_{1}^{\\frac{3}{4}} \\alpha_{2}^{\\frac{3}{4}}}{\\sqrt{\\pi} \\left(\\alpha_{1} + \\alpha_{2}\\right)}$"
      ],
      "text/plain": [
       "-4*sqrt(2)*alpha1**(3/4)*alpha2**(3/4)/(sqrt(pi)*(alpha1 + alpha2))"
      ]
     },
     "metadata": {},
     "output_type": "display_data"
    }
   ],
   "source": [
    "# 演算子の定義\n",
    "integral_expr = -4 * sp.pi * r**2 * phi_1 / r * phi_2\n",
    "\n",
    "# 積分を実行\n",
    "result = sp.integrate(integral_expr, (r, 0, sp.oo))\n",
    "\n",
    "# 結果をシンプルにし、べき乗を分数で表示\n",
    "simplified_result = result.simplify()\n",
    "display(simplified_result)\n",
    "python_function = sp.lambdify(variable, result, modules=\"sympy\")"
   ]
  }
 ],
 "metadata": {
  "kernelspec": {
   "display_name": "physics",
   "language": "python",
   "name": "python3"
  },
  "language_info": {
   "codemirror_mode": {
    "name": "ipython",
    "version": 3
   },
   "file_extension": ".py",
   "mimetype": "text/x-python",
   "name": "python",
   "nbconvert_exporter": "python",
   "pygments_lexer": "ipython3",
   "version": "3.10.12"
  }
 },
 "nbformat": 4,
 "nbformat_minor": 2
}
