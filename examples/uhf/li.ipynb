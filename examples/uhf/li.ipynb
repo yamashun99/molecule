{
 "cells": [
  {
   "cell_type": "code",
   "execution_count": 7,
   "metadata": {},
   "outputs": [],
   "source": [
    "import sys\n",
    "\n",
    "sys.path.append(\"../../src\")"
   ]
  },
  {
   "cell_type": "code",
   "execution_count": 8,
   "metadata": {},
   "outputs": [],
   "source": [
    "import numpy as np\n",
    "import gaussian_overlap\n",
    "import importlib\n",
    "import h5py\n",
    "import pandas as pd\n",
    "from scipy.linalg import eigh\n",
    "import matplotlib.pyplot as plt\n",
    "import copy\n",
    "\n",
    "from scipy.optimize import minimize\n",
    "\n",
    "importlib.reload(gaussian_overlap)\n",
    "from gaussian_overlap import *\n",
    "from sto_ng_matrix import *"
   ]
  },
  {
   "cell_type": "code",
   "execution_count": 9,
   "metadata": {},
   "outputs": [
    {
     "data": {
      "text/html": [
       "<div>\n",
       "<style scoped>\n",
       "    .dataframe tbody tr th:only-of-type {\n",
       "        vertical-align: middle;\n",
       "    }\n",
       "\n",
       "    .dataframe tbody tr th {\n",
       "        vertical-align: top;\n",
       "    }\n",
       "\n",
       "    .dataframe thead th {\n",
       "        text-align: right;\n",
       "    }\n",
       "</style>\n",
       "<table border=\"1\" class=\"dataframe\">\n",
       "  <thead>\n",
       "    <tr style=\"text-align: right;\">\n",
       "      <th></th>\n",
       "      <th>exps_1</th>\n",
       "      <th>coefs_1s</th>\n",
       "      <th>exps_2</th>\n",
       "      <th>coefs_2s</th>\n",
       "      <th>coefs_2p</th>\n",
       "    </tr>\n",
       "  </thead>\n",
       "  <tbody>\n",
       "    <tr>\n",
       "      <th>0</th>\n",
       "      <td>0.109987</td>\n",
       "      <td>0.445576</td>\n",
       "      <td>0.074759</td>\n",
       "      <td>0.694673</td>\n",
       "      <td>0.387976</td>\n",
       "    </tr>\n",
       "    <tr>\n",
       "      <th>1</th>\n",
       "      <td>0.407154</td>\n",
       "      <td>0.535362</td>\n",
       "      <td>0.229124</td>\n",
       "      <td>0.405616</td>\n",
       "      <td>0.608867</td>\n",
       "    </tr>\n",
       "    <tr>\n",
       "      <th>2</th>\n",
       "      <td>2.246014</td>\n",
       "      <td>0.153482</td>\n",
       "      <td>0.979606</td>\n",
       "      <td>-0.100240</td>\n",
       "      <td>0.158557</td>\n",
       "    </tr>\n",
       "  </tbody>\n",
       "</table>\n",
       "</div>"
      ],
      "text/plain": [
       "     exps_1  coefs_1s    exps_2  coefs_2s  coefs_2p\n",
       "0  0.109987  0.445576  0.074759  0.694673  0.387976\n",
       "1  0.407154  0.535362  0.229124  0.405616  0.608867\n",
       "2  2.246014  0.153482  0.979606 -0.100240  0.158557"
      ]
     },
     "execution_count": 9,
     "metadata": {},
     "output_type": "execute_result"
    }
   ],
   "source": [
    "df = pd.read_csv(\"../make_base/sto_3g.csv\")\n",
    "df"
   ]
  },
  {
   "cell_type": "code",
   "execution_count": 10,
   "metadata": {},
   "outputs": [],
   "source": [
    "zeta_1s = 2.69\n",
    "zeta_2sp = 0.75\n",
    "param1s = {\n",
    "    \"center\": np.array([0, 0, 0]),\n",
    "    \"lmn\": (0, 0, 0),\n",
    "    \"exps\": np.array(df[\"exps_1\"]) * zeta_1s**2,\n",
    "    \"coefs\": np.array(df[\"coefs_1s\"]),\n",
    "}\n",
    "param2s = {\n",
    "    \"center\": np.array([0, 0, 0]),\n",
    "    \"lmn\": (0, 0, 0),\n",
    "    \"exps\": np.array(df[\"exps_2\"]) * zeta_2sp**2,\n",
    "    \"coefs\": np.array(df[\"coefs_2s\"]),\n",
    "}\n",
    "param2px = {\n",
    "    \"center\": np.array([0, 0, 0]),\n",
    "    \"lmn\": (1, 0, 0),\n",
    "    \"exps\": np.array(df[\"exps_2\"]) * zeta_2sp**2,\n",
    "    \"coefs\": np.array(df[\"coefs_2p\"]),\n",
    "}\n",
    "param2py = {\n",
    "    \"center\": np.array([0, 0, 0]),\n",
    "    \"lmn\": (0, 1, 0),\n",
    "    \"exps\": np.array(df[\"exps_2\"]) * zeta_2sp**2,\n",
    "    \"coefs\": np.array(df[\"coefs_2p\"]),\n",
    "}\n",
    "param2pz = {\n",
    "    \"center\": np.array([0, 0, 0]),\n",
    "    \"lmn\": (0, 0, 1),\n",
    "    \"exps\": np.array(df[\"exps_2\"]) * zeta_2sp**2,\n",
    "    \"coefs\": np.array(df[\"coefs_2p\"]),\n",
    "}\n",
    "base1s = BasisFunction(**param1s)\n",
    "base2s = BasisFunction(**param2s)\n",
    "base2px = BasisFunction(**param2px)\n",
    "base2py = BasisFunction(**param2py)\n",
    "base2pz = BasisFunction(**param2pz)\n",
    "basis = [base1s, base2s, base2px, base2py, base2pz]\n",
    "Tmat = get_Tmat(basis)\n",
    "Vmat = -3 * get_Vmat(basis, np.array([0, 0, 0]))\n",
    "ERImat = get_ERImat(basis)\n",
    "Smat = get_Smat(basis)"
   ]
  },
  {
   "cell_type": "code",
   "execution_count": 11,
   "metadata": {},
   "outputs": [],
   "source": [
    "hmat = Tmat + Vmat\n",
    "n_up = 2\n",
    "n_dn = 1\n",
    "c_up = np.array([[1, 0, 0, 0, 0], [0, 1, 0, 0, 0]])\n",
    "# c_up = np.array([[1, 0, 0, 0, 0]])\n",
    "c_dn = np.array([[1, 0, 0, 0, 0]])\n",
    "new_energy = 0\n",
    "for i in range(10000):\n",
    "    Jmat_up = sum(\n",
    "        np.einsum(\"ijkl,k, l->ij\", ERImat, c_up[i], c_up[i]) for i in range(n_up)\n",
    "    ) + sum(np.einsum(\"ijkl,k, l->ij\", ERImat, c_dn[i], c_dn[i]) for i in range(n_dn))\n",
    "    Kmat_up = sum(\n",
    "        np.einsum(\"ijkl,j, k->il\", ERImat, c_up[i], c_up[i]) for i in range(n_up)\n",
    "    )\n",
    "    Fmat_up = hmat + Jmat_up - Kmat_up\n",
    "    Jmat_dn = sum(\n",
    "        np.einsum(\"ijkl,k, l->ij\", ERImat, c_up[i], c_up[i]) for i in range(n_up)\n",
    "    ) + sum(np.einsum(\"ijkl,k, l->ij\", ERImat, c_dn[i], c_dn[i]) for i in range(n_dn))\n",
    "    Kmat_dn = sum(\n",
    "        np.einsum(\"ijkl,j, k->il\", ERImat, c_dn[i], c_dn[i]) for i in range(n_dn)\n",
    "    )\n",
    "    Fmat_dn = hmat + Jmat_dn - Kmat_dn\n",
    "    val_up, vec_up = eigh(Fmat_up, Smat)\n",
    "    val_dn, vec_dn = eigh(Fmat_dn, Smat)\n",
    "    c_up = 0.9 * c_up + 0.1 * vec_up[:, :n_up].T\n",
    "    c_dn = 0.9 * c_dn + 0.1 * vec_dn[:, :n_dn].T\n",
    "    old_energy = new_energy\n",
    "    new_energy = (\n",
    "        sum(val_up[:n_up])\n",
    "        + sum(val_dn[:n_dn])\n",
    "        - 0.5\n",
    "        * sum(\n",
    "            np.einsum(\"ij, i, j\", (Jmat_up - Kmat_up), c_up[i], c_up[i])\n",
    "            for i in range(n_up)\n",
    "        )\n",
    "        - 0.5\n",
    "        * sum(\n",
    "            np.einsum(\"ij, i, j\", (Jmat_dn - Kmat_dn), c_dn[i], c_dn[i])\n",
    "            for i in range(n_dn)\n",
    "        )\n",
    "    )\n",
    "    if abs(new_energy - old_energy) < 1e-10:\n",
    "        break"
   ]
  },
  {
   "cell_type": "code",
   "execution_count": 12,
   "metadata": {},
   "outputs": [
    {
     "name": "stdout",
     "output_type": "stream",
     "text": [
      "[[-0.99370152 -0.02715819  0.          0.          0.        ]\n",
      " [ 0.25085589 -1.02451638  0.          0.          0.        ]]\n",
      "[[-0.99277956 -0.03089636  0.          0.          0.        ]]\n",
      "-7.323591052201479\n",
      "[-2.3873879  -0.1877699   0.10563892  0.10563892  0.10563892]\n",
      "[-2.36157061  0.07792582  0.16335958  0.16335958  0.16335958]\n"
     ]
    }
   ],
   "source": [
    "print(c_up)\n",
    "print(c_dn)\n",
    "print(new_energy)\n",
    "print(val_up)\n",
    "print(val_dn)"
   ]
  },
  {
   "cell_type": "code",
   "execution_count": null,
   "metadata": {},
   "outputs": [],
   "source": []
  }
 ],
 "metadata": {
  "kernelspec": {
   "display_name": "physics",
   "language": "python",
   "name": "python3"
  },
  "language_info": {
   "codemirror_mode": {
    "name": "ipython",
    "version": 3
   },
   "file_extension": ".py",
   "mimetype": "text/x-python",
   "name": "python",
   "nbconvert_exporter": "python",
   "pygments_lexer": "ipython3",
   "version": "3.10.12"
  }
 },
 "nbformat": 4,
 "nbformat_minor": 2
}
