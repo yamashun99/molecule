{
 "cells": [
  {
   "cell_type": "code",
   "execution_count": 11,
   "metadata": {},
   "outputs": [],
   "source": [
    "import sys\n",
    "\n",
    "sys.path.append(\"../../src/stong_core_cython\")"
   ]
  },
  {
   "cell_type": "code",
   "execution_count": 12,
   "metadata": {},
   "outputs": [],
   "source": [
    "import numpy as np\n",
    "import pandas as pd\n",
    "import hartree_fock\n",
    "import basis_data\n",
    "import importlib\n",
    "from scipy.optimize import minimize\n",
    "\n",
    "importlib.reload(hartree_fock)\n",
    "importlib.reload(basis_data)\n",
    "\n",
    "from atom import *\n",
    "from hartree_fock import *\n",
    "from basis_data import *"
   ]
  },
  {
   "cell_type": "code",
   "execution_count": 13,
   "metadata": {},
   "outputs": [],
   "source": [
    "df = pd.read_csv(\"../make_base/sto_3g.csv\")"
   ]
  },
  {
   "cell_type": "code",
   "execution_count": 14,
   "metadata": {},
   "outputs": [],
   "source": [
    "def solve(zetas, atom_symbol):\n",
    "    atoms = [Atom(atom_symbol, np.array([0.0, 0.0, 0.0]))]\n",
    "    molecule = Molecule(atoms)\n",
    "    basis_data = {atom_symbol: create_basis_data(df, zetas, 2, 1)}\n",
    "    hartreefock = HartreeFock(molecule, basis_data, max_iter=10000, tol=1e-10)\n",
    "    hartreefock.scf()\n",
    "    hartreefock.calculate_total_energy()\n",
    "    results = hartreefock.get_results()\n",
    "    return results, hartreefock\n",
    "\n",
    "\n",
    "def get_energy(zetas, atom_symbol):\n",
    "    results, _ = solve(zetas, atom_symbol)\n",
    "    return results[\"energy\"]"
   ]
  },
  {
   "cell_type": "code",
   "execution_count": 15,
   "metadata": {},
   "outputs": [
    {
     "name": "stdout",
     "output_type": "stream",
     "text": [
      "H\n",
      "[1.34826568 1.18246847]\n",
      "He\n",
      "[2.41160998 1.77710959]\n",
      "Li\n",
      "[2.69209868 0.65224709]\n",
      "Be\n",
      "[3.6918977  0.96952017]\n",
      "B\n",
      "[4.69250686 1.28008946]\n",
      "C\n",
      "[5.69264837 1.58789393]\n",
      "N\n",
      "[6.69122752 1.91394711]\n",
      "O\n",
      "[7.68983164 2.23314354]\n",
      "F\n",
      "[8.68731557 2.56256126]\n",
      "Ne\n",
      "[9.68505199 2.88587467]\n"
     ]
    }
   ],
   "source": [
    "elements = [\"H\", \"He\", \"Li\", \"Be\", \"B\", \"C\", \"N\", \"O\", \"F\", \"Ne\"]\n",
    "zetas = {}\n",
    "for element in elements:\n",
    "    print(element)\n",
    "    results = minimize(get_energy, [2.69, 0.75], args=(element))\n",
    "    zetas[element] = results.x\n",
    "    print(zetas[element])"
   ]
  },
  {
   "cell_type": "code",
   "execution_count": 16,
   "metadata": {},
   "outputs": [],
   "source": [
    "df_zetas = pd.DataFrame(zetas)\n",
    "df_zetas.to_csv(\"zetas.csv\", index=False)"
   ]
  }
 ],
 "metadata": {
  "kernelspec": {
   "display_name": "physics",
   "language": "python",
   "name": "python3"
  },
  "language_info": {
   "codemirror_mode": {
    "name": "ipython",
    "version": 3
   },
   "file_extension": ".py",
   "mimetype": "text/x-python",
   "name": "python",
   "nbconvert_exporter": "python",
   "pygments_lexer": "ipython3",
   "version": "3.10.12"
  }
 },
 "nbformat": 4,
 "nbformat_minor": 2
}
