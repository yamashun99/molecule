{
 "cells": [
  {
   "cell_type": "code",
   "execution_count": 26,
   "metadata": {},
   "outputs": [],
   "source": [
    "import sys\n",
    "\n",
    "sys.path.append(\"../../src/stong_core_cython\")"
   ]
  },
  {
   "cell_type": "code",
   "execution_count": 27,
   "metadata": {},
   "outputs": [],
   "source": [
    "import numpy as np\n",
    "import pandas as pd\n",
    "import matplotlib.pyplot as plt\n",
    "import hartree_fock\n",
    "import basis_data\n",
    "import importlib\n",
    "from scipy.constants import physical_constants\n",
    "from scipy.optimize import minimize\n",
    "\n",
    "importlib.reload(hartree_fock)\n",
    "importlib.reload(basis_data)\n",
    "\n",
    "from atom import *\n",
    "from hartree_fock import *\n",
    "from basis_data import *"
   ]
  },
  {
   "cell_type": "code",
   "execution_count": 28,
   "metadata": {},
   "outputs": [],
   "source": [
    "df = pd.read_csv(\"../make_base/sto_3g.csv\")"
   ]
  },
  {
   "cell_type": "code",
   "execution_count": 29,
   "metadata": {},
   "outputs": [],
   "source": [
    "df_zetas = pd.read_csv(\"./zetas.csv\")"
   ]
  },
  {
   "cell_type": "code",
   "execution_count": 30,
   "metadata": {},
   "outputs": [],
   "source": [
    "def solve(zetas, atom_symbol):\n",
    "    atoms = [Atom(atom_symbol, np.array([0.0, 0.0, 0.0]))]\n",
    "    molecule = Molecule(atoms)\n",
    "    basis_data = {atom_symbol: create_basis_data(df, zetas, 3, 1)}\n",
    "    hartreefock = HartreeFock(molecule, basis_data, max_iter=10000, tol=1e-10)\n",
    "    hartreefock.scf()\n",
    "    hartreefock.calculate_total_energy()\n",
    "    results = hartreefock.get_results()\n",
    "    return results, hartreefock\n",
    "\n",
    "\n",
    "def get_ionization_energy(df_zetas, atom_symbol, n_occ):\n",
    "    results, _ = solve(df_zetas[atom_symbol], atom_symbol)\n",
    "    energy_lebels = np.hstack((results[\"val_up\"], results[\"val_dn\"]))\n",
    "    energy_lebels = np.sort(energy_lebels)\n",
    "    return -energy_lebels[n_occ]"
   ]
  },
  {
   "cell_type": "code",
   "execution_count": 31,
   "metadata": {},
   "outputs": [
    {
     "name": "stdout",
     "output_type": "stream",
     "text": [
      "Start SCF for Molecule(atoms=[Atom(symbol=Na, atomic_number=11, position=[0. 0. 0.])])\n",
      "(13, 13)\n",
      "-156.68219194731455\n"
     ]
    }
   ],
   "source": [
    "df_zetas_4 = pd.read_csv(\"./zetas_4.csv\")\n",
    "atoms = [Atom(\"Na\", np.array([0.0, 0.0, 0.0]))]\n",
    "molecule = Molecule(atoms)\n",
    "basis_data = {\"Na\": create_basis_data(df, df_zetas_4[\"Na\"], 4, 1)}\n",
    "hartreefock = HartreeFock(molecule, basis_data, max_iter=10000, tol=1e-10)\n",
    "hartreefock.scf()\n",
    "hartreefock.calculate_total_energy()\n",
    "results = hartreefock.get_results()\n",
    "print(results[\"P_up\"].shape)\n",
    "print(results[\"energy\"])"
   ]
  },
  {
   "cell_type": "code",
   "execution_count": 36,
   "metadata": {},
   "outputs": [
    {
     "name": "stdout",
     "output_type": "stream",
     "text": [
      "Start SCF for Molecule(atoms=[Atom(symbol=Na, atomic_number=11, position=[0. 0. 0.])])\n",
      "-159.81614186316983\n"
     ]
    }
   ],
   "source": [
    "df_zetas = pd.read_csv(\"./zetas.csv\")\n",
    "atoms = [Atom(\"Na\", np.array([0.0, 0.0, 0.0]))]\n",
    "molecule = Molecule(atoms)\n",
    "basis_data = {\"Na\": create_basis_data(df, df_zetas[\"Na\"], 3, 1)}\n",
    "hartreefock = HartreeFock(molecule, basis_data, max_iter=10000, tol=1e-10)\n",
    "hartreefock.scf()\n",
    "hartreefock.calculate_total_energy()\n",
    "results = hartreefock.get_results()\n",
    "print(results[\"energy\"])"
   ]
  },
  {
   "cell_type": "code",
   "execution_count": 32,
   "metadata": {},
   "outputs": [
    {
     "name": "stdout",
     "output_type": "stream",
     "text": [
      "Start SCF for Molecule(atoms=[Atom(symbol=Na, atomic_number=11, position=[0. 0. 0.])])\n"
     ]
    },
    {
     "name": "stdout",
     "output_type": "stream",
     "text": [
      "-159.81614186317486\n"
     ]
    }
   ],
   "source": [
    "atoms = [Atom(\"Na\", np.array([0.0, 0.0, 0.0]))]\n",
    "molecule = Molecule(atoms)\n",
    "basis_data = {\"Na\": create_basis_data(df, df_zetas[\"Na\"], 3, 1)}\n",
    "hartreefock = HartreeFock(molecule, basis_data, max_iter=10000, tol=1e-10)\n",
    "hartreefock.scf()\n",
    "hartreefock.calculate_total_energy()\n",
    "results = hartreefock.get_results()\n",
    "print(results[\"energy\"])"
   ]
  }
 ],
 "metadata": {
  "kernelspec": {
   "display_name": "physics",
   "language": "python",
   "name": "python3"
  },
  "language_info": {
   "codemirror_mode": {
    "name": "ipython",
    "version": 3
   },
   "file_extension": ".py",
   "mimetype": "text/x-python",
   "name": "python",
   "nbconvert_exporter": "python",
   "pygments_lexer": "ipython3",
   "version": "3.10.12"
  }
 },
 "nbformat": 4,
 "nbformat_minor": 2
}
