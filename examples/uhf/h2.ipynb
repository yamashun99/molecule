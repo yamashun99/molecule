{
 "cells": [
  {
   "cell_type": "code",
   "execution_count": 4,
   "metadata": {},
   "outputs": [],
   "source": [
    "import sys\n",
    "\n",
    "sys.path.append(\"../../src\")"
   ]
  },
  {
   "cell_type": "code",
   "execution_count": 26,
   "metadata": {},
   "outputs": [],
   "source": [
    "import numpy as np\n",
    "import matplotlib.pyplot as plt\n",
    "import importlib\n",
    "from scipy.integrate import quad\n",
    "from scipy.optimize import minimize\n",
    "from scipy.linalg import eigh\n",
    "import sto_ng\n",
    "import sto_ng_overlap_function\n",
    "import h5py\n",
    "import gaussian_overlap_function\n",
    "import os\n",
    "\n",
    "\n",
    "importlib.reload(sto_ng)\n",
    "importlib.reload(sto_ng_overlap_function)\n",
    "importlib.reload(gaussian_overlap_function)\n",
    "from sto_ng import *\n",
    "from sto_ng_overlap_function import *\n",
    "from gaussian_overlap_function import *"
   ]
  },
  {
   "cell_type": "code",
   "execution_count": 6,
   "metadata": {},
   "outputs": [],
   "source": [
    "with h5py.File(\"../make_base/sto_ng.h5\", \"r\") as f:\n",
    "    alphas = f[\"1s/sto-3g/alpha\"][:]\n",
    "    cs = f[\"1s/sto-3g/c\"][:]\n",
    "alphas = np.array(alphas)\n",
    "cs = np.array(cs)\n",
    "cs_new = cs * (2 * alphas / np.pi) ** (3 / 4)"
   ]
  },
  {
   "cell_type": "code",
   "execution_count": 14,
   "metadata": {},
   "outputs": [],
   "source": [
    "def get_total_energy(stong, zetas, Rs, initial_c_sto3g_up, initial_c_sto3g_dn):\n",
    "    stongmatrix = StoNGMatrix(stong, zetas, Rs)\n",
    "    s_mat = stongmatrix.get_smat()\n",
    "    h_mat = stongmatrix.get_h_mat([1, 1])\n",
    "    new_total_energy = 0\n",
    "    c_sto3g_up = initial_c_sto3g_up\n",
    "    c_sto3g_dn = initial_c_sto3g_dn\n",
    "    for i in range(1000):\n",
    "        J_mat_up = stongmatrix.get_J_mat(c_sto3g_dn)\n",
    "        fock_mat_up = h_mat + J_mat_up\n",
    "\n",
    "        J_mat_dn = stongmatrix.get_J_mat(c_sto3g_up)\n",
    "        fock_mat_dn = h_mat + J_mat_dn\n",
    "\n",
    "        valup, vecup = eigh(fock_mat_up, s_mat)\n",
    "        valdn, vecdn = eigh(fock_mat_dn, s_mat)\n",
    "\n",
    "        c_sto3g_up = 0.9 * c_sto3g_up + 0.1 * vecup[:, 0]\n",
    "        c_sto3g_dn = 0.9 * c_sto3g_dn + 0.1 * vecdn[:, 0]\n",
    "        old_total_energy = new_total_energy\n",
    "        new_total_energy = (\n",
    "            valup[0]\n",
    "            + valdn[0]\n",
    "            - vecup[:, 0] @ J_mat_up @ vecup[:, 0] / 2\n",
    "            - vecdn[:, 0] @ J_mat_dn @ vecdn[:, 0] / 2\n",
    "        )\n",
    "        if i > 0 and abs(new_total_energy - old_total_energy) < 1e-6:\n",
    "            break\n",
    "    return new_total_energy + 1 / np.linalg.norm(Rs[1] - Rs[0]), c_sto3g_up, c_sto3g_dn"
   ]
  },
  {
   "cell_type": "code",
   "execution_count": 24,
   "metadata": {},
   "outputs": [
    {
     "name": "stdout",
     "output_type": "stream",
     "text": [
      "0\n",
      "1\n",
      "2\n",
      "3\n",
      "4\n",
      "5\n",
      "6\n",
      "7\n",
      "8\n",
      "9\n",
      "10\n",
      "11\n",
      "12\n",
      "13\n",
      "14\n",
      "15\n",
      "16\n",
      "17\n",
      "18\n",
      "19\n",
      "20\n",
      "21\n",
      "22\n",
      "23\n",
      "24\n",
      "25\n",
      "26\n",
      "27\n",
      "28\n",
      "29\n",
      "30\n",
      "31\n",
      "32\n",
      "33\n",
      "34\n",
      "35\n",
      "36\n",
      "37\n",
      "38\n",
      "39\n",
      "40\n",
      "41\n",
      "42\n",
      "43\n",
      "44\n",
      "45\n",
      "46\n",
      "47\n",
      "48\n",
      "49\n",
      "50\n",
      "51\n",
      "52\n",
      "53\n",
      "54\n",
      "55\n",
      "56\n",
      "57\n",
      "58\n",
      "59\n",
      "60\n",
      "61\n",
      "62\n",
      "63\n",
      "64\n",
      "65\n",
      "66\n",
      "67\n",
      "68\n",
      "69\n",
      "70\n",
      "71\n",
      "72\n",
      "73\n",
      "74\n",
      "75\n",
      "76\n",
      "77\n",
      "78\n",
      "79\n",
      "80\n",
      "81\n",
      "82\n",
      "83\n",
      "84\n",
      "85\n",
      "86\n",
      "87\n",
      "88\n",
      "89\n",
      "90\n",
      "91\n",
      "92\n",
      "93\n",
      "94\n",
      "95\n",
      "96\n",
      "97\n",
      "98\n",
      "99\n"
     ]
    }
   ],
   "source": [
    "stong = StoNG(cs_new, alphas)\n",
    "zetaH = 1.24\n",
    "zetas = [zetaH, zetaH]\n",
    "rs = np.linspace(0.5, 6, 100)\n",
    "Rs = [np.array([[0, 0, 0], [0, 0, r]]) for r in rs]\n",
    "total_energies = []\n",
    "# total_energies = np.array([get_total_energy(stong, zetas, R) for R in Rs])\n",
    "c_sto3g_up = np.array([0.6, 0.4])\n",
    "c_sto3g_dn = np.array([0.4, 0.6])\n",
    "for i, r in enumerate(reversed(rs)):\n",
    "    print(i)\n",
    "    Rs = np.array([[0, 0, 0], [0, 0, r]])\n",
    "    total_energy, c_sto3g_up, c_sto3g_dn = get_total_energy(\n",
    "        stong, zetas, Rs, c_sto3g_up, c_sto3g_dn\n",
    "    )\n",
    "    total_energies.insert(0, total_energy)"
   ]
  },
  {
   "cell_type": "code",
   "execution_count": 25,
   "metadata": {},
   "outputs": [
    {
     "data": {
      "text/plain": [
       "Text(0, 0.5, 'E(H2) - 2E(H) (a. u.)')"
      ]
     },
     "execution_count": 25,
     "metadata": {},
     "output_type": "execute_result"
    },
    {
     "data": {
      "image/png": "[encoded data removed]",
      "text/plain": [
       "<Figure size 640x480 with 1 Axes>"
      ]
     },
     "metadata": {},
     "output_type": "display_data"
    }
   ],
   "source": [
    "fig, ax = plt.subplots()\n",
    "ax.plot(rs, np.array(total_energies) + 2 * 0.4666)\n",
    "ax.axhline(0, color=\"black\", linestyle=\"--\")\n",
    "ax.set_xlabel(\"R\")\n",
    "ax.set_ylabel(\"E(H2) - 2E(H) (a. u.)\")"
   ]
  },
  {
   "cell_type": "code",
   "execution_count": 29,
   "metadata": {},
   "outputs": [],
   "source": [
    "os.makedirs(\"../data/total_energies\", exist_ok=True)\n",
    "np.save(\"../data/total_energies/uhf.npy\", np.array(total_energies) + 2 * 0.4666)"
   ]
  }
 ],
 "metadata": {
  "kernelspec": {
   "display_name": "physics",
   "language": "python",
   "name": "python3"
  },
  "language_info": {
   "codemirror_mode": {
    "name": "ipython",
    "version": 3
   },
   "file_extension": ".py",
   "mimetype": "text/x-python",
   "name": "python",
   "nbconvert_exporter": "python",
   "pygments_lexer": "ipython3",
   "version": "3.10.12"
  }
 },
 "nbformat": 4,
 "nbformat_minor": 2
}
