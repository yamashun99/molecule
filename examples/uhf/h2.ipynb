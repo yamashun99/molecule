{
 "cells": [
  {
   "cell_type": "code",
   "execution_count": 5,
   "metadata": {},
   "outputs": [],
   "source": [
    "import sys\n",
    "\n",
    "sys.path.append(\"../../src\")"
   ]
  },
  {
   "cell_type": "code",
   "execution_count": 6,
   "metadata": {},
   "outputs": [],
   "source": [
    "import numpy as np\n",
    "import gaussian_overlap\n",
    "import importlib\n",
    "import h5py\n",
    "import pandas as pd\n",
    "from scipy.linalg import eigh\n",
    "\n",
    "from scipy.optimize import minimize\n",
    "\n",
    "importlib.reload(gaussian_overlap)\n",
    "from gaussian_overlap import *\n",
    "from sto_ng_overlap import *"
   ]
  },
  {
   "cell_type": "code",
   "execution_count": 7,
   "metadata": {},
   "outputs": [
    {
     "data": {
      "text/html": [
       "<div>\n",
       "<style scoped>\n",
       "    .dataframe tbody tr th:only-of-type {\n",
       "        vertical-align: middle;\n",
       "    }\n",
       "\n",
       "    .dataframe tbody tr th {\n",
       "        vertical-align: top;\n",
       "    }\n",
       "\n",
       "    .dataframe thead th {\n",
       "        text-align: right;\n",
       "    }\n",
       "</style>\n",
       "<table border=\"1\" class=\"dataframe\">\n",
       "  <thead>\n",
       "    <tr style=\"text-align: right;\">\n",
       "      <th></th>\n",
       "      <th>exps_1</th>\n",
       "      <th>coefs_1s</th>\n",
       "      <th>exps_2</th>\n",
       "      <th>coefs_2s</th>\n",
       "      <th>coefs_2p</th>\n",
       "    </tr>\n",
       "  </thead>\n",
       "  <tbody>\n",
       "    <tr>\n",
       "      <th>0</th>\n",
       "      <td>0.109987</td>\n",
       "      <td>0.445576</td>\n",
       "      <td>0.074759</td>\n",
       "      <td>0.694673</td>\n",
       "      <td>0.387976</td>\n",
       "    </tr>\n",
       "    <tr>\n",
       "      <th>1</th>\n",
       "      <td>0.407154</td>\n",
       "      <td>0.535362</td>\n",
       "      <td>0.229124</td>\n",
       "      <td>0.405616</td>\n",
       "      <td>0.608867</td>\n",
       "    </tr>\n",
       "    <tr>\n",
       "      <th>2</th>\n",
       "      <td>2.246014</td>\n",
       "      <td>0.153482</td>\n",
       "      <td>0.979606</td>\n",
       "      <td>-0.100240</td>\n",
       "      <td>0.158557</td>\n",
       "    </tr>\n",
       "  </tbody>\n",
       "</table>\n",
       "</div>"
      ],
      "text/plain": [
       "     exps_1  coefs_1s    exps_2  coefs_2s  coefs_2p\n",
       "0  0.109987  0.445576  0.074759  0.694673  0.387976\n",
       "1  0.407154  0.535362  0.229124  0.405616  0.608867\n",
       "2  2.246014  0.153482  0.979606 -0.100240  0.158557"
      ]
     },
     "execution_count": 7,
     "metadata": {},
     "output_type": "execute_result"
    }
   ],
   "source": [
    "df = pd.read_csv(\"../make_base/sto_3g.csv\")\n",
    "df"
   ]
  },
  {
   "cell_type": "code",
   "execution_count": 8,
   "metadata": {},
   "outputs": [
    {
     "data": {
      "text/plain": [
       "array([[[[0.77477928, 0.56890626],\n",
       "         [0.56890626, 0.65026855]],\n",
       "\n",
       "        [[0.56890626, 0.45589   ],\n",
       "         [0.45589   , 0.56890626]]],\n",
       "\n",
       "\n",
       "       [[[0.56890626, 0.45589   ],\n",
       "         [0.45589   , 0.56890626]],\n",
       "\n",
       "        [[0.65026855, 0.56890626],\n",
       "         [0.56890626, 0.77477928]]]])"
      ]
     },
     "execution_count": 8,
     "metadata": {},
     "output_type": "execute_result"
    }
   ],
   "source": [
    "zetaH = 1.24\n",
    "r = 1.0\n",
    "param1 = {\n",
    "    \"center\": np.array([0, 0, 0]),\n",
    "    \"lmn\": (0, 0, 0),\n",
    "    \"exps\": np.array(df[\"exps_1\"]) * zetaH**2,\n",
    "    \"coefs\": np.array(df[\"coefs_1s\"]),\n",
    "}\n",
    "param2 = {\n",
    "    \"center\": np.array([r, 0, 0]),\n",
    "    \"lmn\": (0, 0, 0),\n",
    "    \"exps\": np.array(df[\"exps_1\"]) * zetaH**2,\n",
    "    \"coefs\": np.array(df[\"coefs_1s\"]),\n",
    "}\n",
    "a = BasisFunction(**param1)\n",
    "b = BasisFunction(**param2)\n",
    "\n",
    "basis = [a, b]\n",
    "get_ERImat(basis)"
   ]
  },
  {
   "cell_type": "code",
   "execution_count": 9,
   "metadata": {},
   "outputs": [],
   "source": [
    "def get_energy(r, c_up_init, c_dn_init):\n",
    "    zetaH = 1.24\n",
    "    param1 = {\n",
    "        \"center\": np.array([0, 0, 0]),\n",
    "        \"lmn\": (0, 0, 0),\n",
    "        \"exps\": np.array(df[\"exps_1\"]) * zetaH**2,\n",
    "        \"coefs\": np.array(df[\"coefs_1s\"]),\n",
    "    }\n",
    "    param2 = {\n",
    "        \"center\": np.array([r, 0, 0]),\n",
    "        \"lmn\": (0, 0, 0),\n",
    "        \"exps\": np.array(df[\"exps_1\"]) * zetaH**2,\n",
    "        \"coefs\": np.array(df[\"coefs_1s\"]),\n",
    "    }\n",
    "    basea = BasisFunction(**param1)\n",
    "    baseb = BasisFunction(**param2)\n",
    "    basis = [basea, baseb]\n",
    "    Tmat = get_Tmat(basis)\n",
    "    Vmat = -get_Vmat(basis, [0, 0, 0]) - get_Vmat(basis, [r, 0, 0])\n",
    "    ERImat = get_ERImat(basis)\n",
    "    Smat = get_Smat(basis)\n",
    "    hmat = Tmat + Vmat\n",
    "    new_energy = 0\n",
    "    c_up = c_up_init\n",
    "    c_dn = c_dn_init\n",
    "    iteration = 10000\n",
    "    for i in range(iteration):\n",
    "        J_mat_up = np.einsum(\"ijkl, k, l -> ij\", ERImat, c_dn, c_dn)\n",
    "        fock_mat_up = hmat + J_mat_up\n",
    "        J_mat_dn = np.einsum(\"ijkl, k, l -> ij\", ERImat, c_up, c_up)\n",
    "        fock_mat_dn = hmat + J_mat_dn\n",
    "\n",
    "        valup, vecup = eigh(fock_mat_up, Smat)\n",
    "        valdn, vecdn = eigh(fock_mat_dn, Smat)\n",
    "\n",
    "        if iteration < 1000:\n",
    "            c_up = 0.9 * c_up + 0.1 * vecup[:, 0]\n",
    "            c_dn = 0.9 * c_dn + 0.1 * vecdn[:, 0]\n",
    "        else:\n",
    "            c_up = 0.99 * c_up + 0.01 * vecup[:, 0]\n",
    "            c_dn = 0.99 * c_dn + 0.01 * vecdn[:, 0]\n",
    "\n",
    "        c_up = c_up / (c_up @ Smat @ c_up)\n",
    "        c_dn = c_dn / (c_dn @ Smat @ c_dn)\n",
    "\n",
    "        old_energy = new_energy\n",
    "        new_energy = (\n",
    "            valup[0]\n",
    "            + valdn[0]\n",
    "            - vecup[:, 0] @ J_mat_up @ vecup[:, 0] * 0.5\n",
    "            - vecdn[:, 0] @ J_mat_dn @ vecdn[:, 0] * 0.5\n",
    "        )\n",
    "        if np.abs(new_energy - old_energy) < 1e-6:\n",
    "            break\n",
    "        if i == iteration - 1:\n",
    "            print(\"Not converged\")\n",
    "\n",
    "    return new_energy + 1 / r, c_up, c_dn"
   ]
  },
  {
   "cell_type": "code",
   "execution_count": 10,
   "metadata": {},
   "outputs": [
    {
     "name": "stdout",
     "output_type": "stream",
     "text": [
      "[1 0] [0 1]\n",
      "[0.00699432 0.99988707] [-0.99988629 -0.00699018]\n",
      "[0.00725151 0.99987865] [-0.99987839 -0.00725012]\n",
      "[0.00769512 0.99986252] [-0.99986247 -0.00769487]\n",
      "[0.00814031 0.99984506] [-0.99984505 -0.00814027]\n",
      "[0.00860313 0.99982568] [-0.99982568 -0.00860312]\n",
      "[0.00908766 0.99980408] [-0.99980408 -0.00908766]\n",
      "[0.00959704 0.99977995] [-0.99977995 -0.00959704]\n"
     ]
    },
    {
     "name": "stdout",
     "output_type": "stream",
     "text": [
      "[0.0101298  0.99975313] [-0.99975313 -0.0101298 ]\n",
      "[0.01068842 0.99972326] [-0.99972326 -0.01068842]\n",
      "[0.01127556 0.99968995] [-0.99968995 -0.01127556]\n",
      "[0.01189038 0.99965296] [-0.99965296 -0.01189038]\n",
      "[0.01253543 0.99961181] [-0.99961181 -0.01253543]\n",
      "[0.01321335 0.99956601] [-0.99956601 -0.01321335]\n",
      "[0.01392399 0.99951516] [-0.99951516 -0.01392399]\n",
      "[0.0146709  0.99945862] [-0.99945862 -0.0146709 ]\n",
      "[0.01545447 0.99939589] [-0.99939589 -0.01545447]\n",
      "[0.01627834 0.99932617] [-0.99932617 -0.01627834]\n",
      "[0.0171434  0.99924885] [-0.99924885 -0.0171434 ]\n",
      "[0.01805348 0.99916298] [-0.99916298 -0.01805348]\n",
      "[0.01901    0.99906775] [-0.99906775 -0.01901   ]\n",
      "[0.02001706 0.99896204] [-0.99896204 -0.02001706]\n",
      "[0.02107668 0.99884483] [-0.99884483 -0.02107668]\n",
      "[0.02219332 0.99871474] [-0.99871474 -0.02219332]\n",
      "[0.02336968 0.9985705 ] [-0.9985705  -0.02336968]\n",
      "[0.0246107  0.99841041] [-0.99841041 -0.0246107 ]\n",
      "[0.0259198  0.99823288] [-0.99823288 -0.0259198 ]\n",
      "[0.02730253 0.99803583] [-0.99803583 -0.02730253]\n",
      "[0.02876316 0.99781723] [-0.99781723 -0.02876316]\n",
      "[0.03030794 0.99757456] [-0.99757456 -0.03030794]\n",
      "[0.03194211 0.99730523] [-0.99730523 -0.03194211]\n",
      "[0.0336728  0.99700614] [-0.99700614 -0.0336728 ]\n",
      "[0.03550632 0.99667401] [-0.99667401 -0.03550632]\n",
      "[0.03745087 0.996305  ] [-0.996305   -0.03745087]\n",
      "[0.03951399 0.99589499] [-0.99589499 -0.03951399]\n",
      "[0.04170515 0.99543918] [-0.99543918 -0.04170515]\n",
      "[0.04403362 0.99493232] [-0.99493232 -0.04403362]\n",
      "[0.04650956 0.99436857] [-0.99436857 -0.04650956]\n",
      "[0.04914478 0.99374115] [-0.99374115 -0.04914478]\n",
      "[0.05195129 0.99304267] [-0.99304267 -0.05195129]\n",
      "[0.05494221 0.9922648 ] [-0.9922648  -0.05494221]\n",
      "[0.05813255 0.99139797] [-0.99139797 -0.05813255]\n",
      "[0.06153799 0.9904316 ] [-0.9904316  -0.06153799]\n",
      "[0.06517593 0.98935367] [-0.98935367 -0.06517593]\n",
      "[0.06906548 0.98815063] [-0.98815063 -0.06906548]\n",
      "[0.07322745 0.98680714] [-0.98680714 -0.07322745]\n",
      "[0.07768552 0.98530566] [-0.98530566 -0.07768552]\n",
      "[0.08246522 0.98362639] [-0.98362639 -0.08246522]\n",
      "[0.08759523 0.98174673] [-0.98174673 -0.08759523]\n",
      "[0.09310755 0.97964082] [-0.97964082 -0.09310755]\n",
      "[0.09903815 0.97727897] [-0.97727897 -0.09903815]\n",
      "[0.10542758 0.97462702] [-0.97462702 -0.10542758]\n",
      "[0.11232185 0.97164548] [-0.97164548 -0.11232185]\n",
      "[0.11977376 0.96828834] [-0.96828834 -0.11977376]\n",
      "[0.12784303 0.96450224] [-0.96450224 -0.12784303]\n",
      "[0.13659967 0.9602241 ] [-0.9602241  -0.13659967]\n",
      "[0.146125   0.95537945] [-0.95537945 -0.146125  ]\n",
      "[0.15651471 0.94987943] [-0.94987943 -0.15651471]\n",
      "[0.16788255 0.94361712] [-0.94361712 -0.16788255]\n",
      "[0.18036534 0.93646233] [-0.93646233 -0.18036534]\n",
      "[0.19412984 0.92825459] [-0.92825459 -0.19412984]\n",
      "[0.20938248 0.91879304] [-0.91879304 -0.20938248]\n",
      "[0.22638146 0.90782271] [-0.90782271 -0.22638146]\n",
      "[0.24546096 0.89501066] [-0.89501066 -0.24546096]\n",
      "[0.26705345 0.87991662] [-0.87991662 -0.26705345]\n",
      "[0.29173467 0.86194131] [-0.86194131 -0.29173467]\n",
      "[0.32028463 0.84024755] [-0.84024755 -0.32028463]\n",
      "[0.35372951 0.81366666] [-0.81366666 -0.35372951]\n",
      "[0.39334752 0.78059545] [-0.78059545 -0.39334752]\n",
      "Not converged\n",
      "[0.37416573 0.78596267] [-0.77986414 -0.3878023 ]\n",
      "Not converged\n",
      "[0.32615412 0.84372546] [-0.79760797 -0.35725783]\n",
      "[0.24331056 0.87098411] [-0.81820801 -0.32215229]\n",
      "[0.13146893 0.95465796] [-0.84206148 -0.28161052]\n",
      "[-0.58804503 -0.58129851] [-0.58129816 -0.58804467]\n",
      "[-0.58184907 -0.58083866] [-0.58083866 -0.58184907]\n",
      "[-0.5780527  -0.57795093] [-0.57795093 -0.5780527 ]\n",
      "[-0.5746573  -0.57465029] [-0.57465029 -0.5746573 ]\n",
      "[-0.5713057  -0.57130536] [-0.57130536 -0.5713057 ]\n",
      "[-0.56796111 -0.5679611 ] [-0.5679611  -0.56796111]\n",
      "[-0.56462783 -0.56462783] [-0.56462783 -0.56462783]\n",
      "[-0.56130966 -0.56130966] [-0.56130966 -0.56130966]\n",
      "[-0.55801409 -0.55801409] [-0.55801409 -0.55801409]\n",
      "[-0.55474532 -0.55474532] [-0.55474532 -0.55474532]\n",
      "[-0.55151051 -0.55151051] [-0.55151051 -0.55151051]\n",
      "[-0.54831519 -0.54831519] [-0.54831519 -0.54831519]\n",
      "[-0.54516533 -0.54516533] [-0.54516533 -0.54516533]\n",
      "[-0.54206691 -0.54206691] [-0.54206691 -0.54206691]\n",
      "[-0.53902592 -0.53902592] [-0.53902592 -0.53902592]\n",
      "[-0.53604876 -0.53604876] [-0.53604876 -0.53604876]\n",
      "[-0.53314037 -0.53314037] [-0.53314037 -0.53314037]\n",
      "[-0.530308 -0.530308] [-0.530308 -0.530308]\n",
      "[-0.5275579 -0.5275579] [-0.5275579 -0.5275579]\n",
      "[-0.52489573 -0.52489573] [-0.52489573 -0.52489573]\n",
      "[-0.52232807 -0.52232807] [-0.52232807 -0.52232807]\n",
      "[-0.5198624 -0.5198624] [-0.5198624 -0.5198624]\n",
      "[-0.51750535 -0.51750535] [-0.51750535 -0.51750535]\n",
      "[-0.51526417 -0.51526417] [-0.51526417 -0.51526417]\n",
      "[-0.51314629 -0.51314629] [-0.51314629 -0.51314629]\n",
      "[-0.51115931 -0.51115931] [-0.51115931 -0.51115931]\n",
      "[-0.50931097 -0.50931097] [-0.50931097 -0.50931097]\n"
     ]
    }
   ],
   "source": [
    "rs = np.linspace(0.5, 6, 100)\n",
    "c_up = np.array([1, 0])\n",
    "c_dn = np.array([0, 1])\n",
    "es = []\n",
    "for i, r in enumerate(reversed(rs)):\n",
    "    print(c_up, c_dn)\n",
    "    e, c_up, c_dn = get_energy(r, c_up, c_dn)\n",
    "    es.insert(0, e)"
   ]
  },
  {
   "cell_type": "code",
   "execution_count": 11,
   "metadata": {},
   "outputs": [
    {
     "data": {
      "text/plain": [
       "Text(0, 0.5, 'E(H2) - 2E(H) (a. u.)')"
      ]
     },
     "execution_count": 11,
     "metadata": {},
     "output_type": "execute_result"
    },
    {
     "data": {
      "image/png": "[encoded data removed]",
      "text/plain": [
       "<Figure size 640x480 with 1 Axes>"
      ]
     },
     "metadata": {},
     "output_type": "display_data"
    }
   ],
   "source": [
    "import matplotlib.pyplot as plt\n",
    "\n",
    "fig, ax = plt.subplots()\n",
    "ax.plot(rs, np.array(es) + 2 * 0.4666)\n",
    "ax.axhline(0, color=\"black\", linestyle=\"--\")\n",
    "ax.set_xlabel(\"R\")\n",
    "ax.set_ylabel(\"E(H2) - 2E(H) (a. u.)\")"
   ]
  },
  {
   "cell_type": "code",
   "execution_count": null,
   "metadata": {},
   "outputs": [],
   "source": []
  },
  {
   "cell_type": "code",
   "execution_count": null,
   "metadata": {},
   "outputs": [],
   "source": []
  }
 ],
 "metadata": {
  "kernelspec": {
   "display_name": "physics",
   "language": "python",
   "name": "python3"
  },
  "language_info": {
   "codemirror_mode": {
    "name": "ipython",
    "version": 3
   },
   "file_extension": ".py",
   "mimetype": "text/x-python",
   "name": "python",
   "nbconvert_exporter": "python",
   "pygments_lexer": "ipython3",
   "version": "3.10.12"
  }
 },
 "nbformat": 4,
 "nbformat_minor": 2
}
