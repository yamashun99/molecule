{
 "cells": [
  {
   "cell_type": "code",
   "execution_count": 21,
   "metadata": {},
   "outputs": [],
   "source": [
    "import sys\n",
    "\n",
    "sys.path.append(\"../../src\")"
   ]
  },
  {
   "cell_type": "code",
   "execution_count": 22,
   "metadata": {},
   "outputs": [],
   "source": [
    "import numpy as np\n",
    "import gaussian_overlap\n",
    "import importlib\n",
    "import h5py\n",
    "import pandas as pd\n",
    "from scipy.linalg import eigh\n",
    "import matplotlib.pyplot as plt\n",
    "import copy\n",
    "\n",
    "from scipy.optimize import minimize\n",
    "\n",
    "importlib.reload(gaussian_overlap)\n",
    "from gaussian_overlap import *\n",
    "from sto_ng_matrix import *"
   ]
  },
  {
   "cell_type": "code",
   "execution_count": 23,
   "metadata": {},
   "outputs": [
    {
     "data": {
      "text/html": [
       "<div>\n",
       "<style scoped>\n",
       "    .dataframe tbody tr th:only-of-type {\n",
       "        vertical-align: middle;\n",
       "    }\n",
       "\n",
       "    .dataframe tbody tr th {\n",
       "        vertical-align: top;\n",
       "    }\n",
       "\n",
       "    .dataframe thead th {\n",
       "        text-align: right;\n",
       "    }\n",
       "</style>\n",
       "<table border=\"1\" class=\"dataframe\">\n",
       "  <thead>\n",
       "    <tr style=\"text-align: right;\">\n",
       "      <th></th>\n",
       "      <th>exps_1</th>\n",
       "      <th>coefs_1s</th>\n",
       "      <th>exps_2</th>\n",
       "      <th>coefs_2s</th>\n",
       "      <th>coefs_2p</th>\n",
       "    </tr>\n",
       "  </thead>\n",
       "  <tbody>\n",
       "    <tr>\n",
       "      <th>0</th>\n",
       "      <td>0.109987</td>\n",
       "      <td>0.445576</td>\n",
       "      <td>0.074759</td>\n",
       "      <td>0.694673</td>\n",
       "      <td>0.387976</td>\n",
       "    </tr>\n",
       "    <tr>\n",
       "      <th>1</th>\n",
       "      <td>0.407154</td>\n",
       "      <td>0.535362</td>\n",
       "      <td>0.229124</td>\n",
       "      <td>0.405616</td>\n",
       "      <td>0.608867</td>\n",
       "    </tr>\n",
       "    <tr>\n",
       "      <th>2</th>\n",
       "      <td>2.246014</td>\n",
       "      <td>0.153482</td>\n",
       "      <td>0.979606</td>\n",
       "      <td>-0.100240</td>\n",
       "      <td>0.158557</td>\n",
       "    </tr>\n",
       "  </tbody>\n",
       "</table>\n",
       "</div>"
      ],
      "text/plain": [
       "     exps_1  coefs_1s    exps_2  coefs_2s  coefs_2p\n",
       "0  0.109987  0.445576  0.074759  0.694673  0.387976\n",
       "1  0.407154  0.535362  0.229124  0.405616  0.608867\n",
       "2  2.246014  0.153482  0.979606 -0.100240  0.158557"
      ]
     },
     "execution_count": 23,
     "metadata": {},
     "output_type": "execute_result"
    }
   ],
   "source": [
    "df = pd.read_csv(\"../make_base/sto_3g.csv\")\n",
    "df"
   ]
  },
  {
   "cell_type": "code",
   "execution_count": 27,
   "metadata": {},
   "outputs": [],
   "source": [
    "zeta = 1.685\n",
    "param1s = {\n",
    "    \"center\": np.array([0, 0, 0]),\n",
    "    \"lmn\": (0, 0, 0),\n",
    "    \"exps\": np.array(df[\"exps_1\"]) * zeta**2,\n",
    "    \"coefs\": np.array(df[\"coefs_1s\"]),\n",
    "}\n",
    "param2s = {\n",
    "    \"center\": np.array([0, 0, 0]),\n",
    "    \"lmn\": (0, 0, 0),\n",
    "    \"exps\": np.array(df[\"exps_2\"]) * zeta**2,\n",
    "    \"coefs\": np.array(df[\"coefs_2s\"]),\n",
    "}\n",
    "param2px = {\n",
    "    \"center\": np.array([0, 0, 0]),\n",
    "    \"lmn\": (1, 0, 0),\n",
    "    \"exps\": np.array(df[\"exps_2\"]) * zeta**2,\n",
    "    \"coefs\": np.array(df[\"coefs_2p\"]),\n",
    "}\n",
    "param2py = {\n",
    "    \"center\": np.array([0, 0, 0]),\n",
    "    \"lmn\": (0, 1, 0),\n",
    "    \"exps\": np.array(df[\"exps_2\"]) * zeta**2,\n",
    "    \"coefs\": np.array(df[\"coefs_2p\"]),\n",
    "}\n",
    "param2pz = {\n",
    "    \"center\": np.array([0, 0, 0]),\n",
    "    \"lmn\": (0, 0, 1),\n",
    "    \"exps\": np.array(df[\"exps_2\"]) * zeta**2,\n",
    "    \"coefs\": np.array(df[\"coefs_2p\"]),\n",
    "}\n",
    "base1s = BasisFunction(**param1s)\n",
    "base2s = BasisFunction(**param2s)\n",
    "base2px = BasisFunction(**param2px)\n",
    "base2py = BasisFunction(**param2py)\n",
    "base2pz = BasisFunction(**param2pz)\n",
    "# basis = [base1s, base2s, base2px, base2py, base2pz]\n",
    "basis = [base1s]\n",
    "Tmat = get_Tmat(basis)\n",
    "Vmat = -2 * get_Vmat(basis, np.array([0, 0, 0]))\n",
    "ERImat = get_ERImat(basis)\n",
    "Smat = get_Smat(basis)"
   ]
  },
  {
   "cell_type": "code",
   "execution_count": 32,
   "metadata": {},
   "outputs": [
    {
     "name": "stdout",
     "output_type": "stream",
     "text": [
      "[[1.]]\n",
      "[[1.]]\n"
     ]
    },
    {
     "data": {
      "text/plain": [
       "array([[-2.80825178]])"
      ]
     },
     "execution_count": 32,
     "metadata": {},
     "output_type": "execute_result"
    }
   ],
   "source": [
    "hmat = Tmat + Vmat\n",
    "c_up = [[1]]\n",
    "c_dn = [[1]]\n",
    "new_energy = 0\n",
    "for i in range(1000):\n",
    "    Jmat_up = sum(\n",
    "        np.einsum(\"ijkl,k, l->ij\", ERImat, c_up[i], c_up[i]) for i in range(len(c_up))\n",
    "    ) + sum(\n",
    "        np.einsum(\"ijkl,k, l->ij\", ERImat, c_dn[i], c_dn[i]) for i in range(len(c_dn))\n",
    "    )\n",
    "    Kmat_up = sum(\n",
    "        np.einsum(\"ijkl,i, l->jk\", ERImat, c_up[i], c_up[i]) for i in range(len(c_up))\n",
    "    )\n",
    "    Fmat_up = hmat + Jmat_up - Kmat_up\n",
    "    Jmat_dn = sum(\n",
    "        np.einsum(\"ijkl,i, l->jk\", ERImat, c_up[i], c_up[i]) for i in range(len(c_up))\n",
    "    ) + sum(\n",
    "        np.einsum(\"ijkl,k, l->ij\", ERImat, c_dn[i], c_dn[i]) for i in range(len(c_dn))\n",
    "    )\n",
    "    Kmat_dn = sum(\n",
    "        np.einsum(\"ijkl,i, l->jk\", ERImat, c_dn[i], c_dn[i]) for i in range(len(c_dn))\n",
    "    )\n",
    "    Fmat_dn = hmat + Jmat_dn - Kmat_dn\n",
    "    val_up, vec_up = eigh(Fmat_up, Smat)\n",
    "    val_dn, vec_dn = eigh(Fmat_dn, Smat)\n",
    "    c_up = vec_up[:, :1].T\n",
    "    c_dn = vec_dn[:, :1].T\n",
    "    old_energy = new_energy\n",
    "    new_energy = (\n",
    "        val_up[0]\n",
    "        + val_dn[0]\n",
    "        - c_up @ (Jmat_up - Kmat_up) @ c_up.T * 0.5\n",
    "        - c_dn @ (Jmat_dn - Kmat_dn) @ c_dn.T * 0.5\n",
    "    )\n",
    "\n",
    "\n",
    "print(c_up)\n",
    "print(c_dn)\n",
    "new_energy"
   ]
  },
  {
   "cell_type": "code",
   "execution_count": null,
   "metadata": {},
   "outputs": [],
   "source": []
  }
 ],
 "metadata": {
  "kernelspec": {
   "display_name": "physics",
   "language": "python",
   "name": "python3"
  },
  "language_info": {
   "codemirror_mode": {
    "name": "ipython",
    "version": 3
   },
   "file_extension": ".py",
   "mimetype": "text/x-python",
   "name": "python",
   "nbconvert_exporter": "python",
   "pygments_lexer": "ipython3",
   "version": "3.10.12"
  }
 },
 "nbformat": 4,
 "nbformat_minor": 2
}
