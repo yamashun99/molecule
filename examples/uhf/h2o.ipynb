{
 "cells": [
  {
   "cell_type": "code",
   "execution_count": 44,
   "metadata": {},
   "outputs": [],
   "source": [
    "import sys\n",
    "\n",
    "sys.path.append(\"../../src/stong_core_cython\")"
   ]
  },
  {
   "cell_type": "code",
   "execution_count": 45,
   "metadata": {},
   "outputs": [],
   "source": [
    "import numpy as np\n",
    "import pandas as pd\n",
    "import matplotlib.pyplot as plt\n",
    "import hartree_fock\n",
    "import basis_data\n",
    "import importlib\n",
    "from scipy.constants import physical_constants\n",
    "from scipy.optimize import minimize\n",
    "\n",
    "importlib.reload(hartree_fock)\n",
    "importlib.reload(basis_data)\n",
    "\n",
    "from atom import *\n",
    "from hartree_fock import *\n",
    "from basis_data import *"
   ]
  },
  {
   "cell_type": "code",
   "execution_count": 46,
   "metadata": {},
   "outputs": [],
   "source": [
    "df = pd.read_csv(\"../make_base/sto_3g.csv\")"
   ]
  },
  {
   "cell_type": "code",
   "execution_count": 47,
   "metadata": {},
   "outputs": [],
   "source": [
    "def solve(r, df_zetas):\n",
    "    atoms = [\n",
    "        Atom(\"H\", np.array([-r, 0.0, 0.0])),\n",
    "        Atom(\"H\", np.array([r, 0.0, 0.0])),\n",
    "        Atom(\"O\", np.array([0.0, 0.0, 0.0])),\n",
    "    ]\n",
    "    molecule = Molecule(atoms)\n",
    "    basis_data = {\n",
    "        \"H\": create_basis_data(df, df_zetas[\"H\"], 2, 1),\n",
    "        \"O\": create_basis_data(df, df_zetas[\"O\"], 2, 2),\n",
    "    }\n",
    "    hartreefock = HartreeFock(molecule, basis_data, max_iter=10000, tol=1e-10)\n",
    "    hartreefock.scf()\n",
    "    hartreefock.calculate_total_energy()\n",
    "    results = hartreefock.get_results()\n",
    "    return results, hartreefock\n",
    "\n",
    "\n",
    "def get_energy(r, zetas):\n",
    "    results, _ = solve(r, zetas)\n",
    "    return results[\"energy\"] + 1 / (2 * r) + 6 / r * 2"
   ]
  },
  {
   "cell_type": "code",
   "execution_count": 48,
   "metadata": {},
   "outputs": [],
   "source": [
    "df_zetas = pd.read_csv(\"zetas.csv\")"
   ]
  },
  {
   "cell_type": "code",
   "execution_count": 49,
   "metadata": {},
   "outputs": [
    {
     "data": {
      "text/plain": [
       "-77.7159594419978"
      ]
     },
     "execution_count": 49,
     "metadata": {},
     "output_type": "execute_result"
    }
   ],
   "source": [
    "get_energy(1.0, df_zetas)"
   ]
  }
 ],
 "metadata": {
  "kernelspec": {
   "display_name": "physics",
   "language": "python",
   "name": "python3"
  },
  "language_info": {
   "codemirror_mode": {
    "name": "ipython",
    "version": 3
   },
   "file_extension": ".py",
   "mimetype": "text/x-python",
   "name": "python",
   "nbconvert_exporter": "python",
   "pygments_lexer": "ipython3",
   "version": "3.10.12"
  }
 },
 "nbformat": 4,
 "nbformat_minor": 2
}
