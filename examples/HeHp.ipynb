{
 "cells": [
  {
   "cell_type": "code",
   "execution_count": 154,
   "metadata": {},
   "outputs": [],
   "source": [
    "import sys\n",
    "\n",
    "sys.path.append(\"../src\")"
   ]
  },
  {
   "cell_type": "code",
   "execution_count": 155,
   "metadata": {},
   "outputs": [],
   "source": [
    "import numpy as np\n",
    "import matplotlib.pyplot as plt\n",
    "import importlib\n",
    "from scipy.integrate import quad\n",
    "from scipy.optimize import minimize\n",
    "from scipy.linalg import eigh\n",
    "import sto_ng\n",
    "import sto_ng_overlap_function\n",
    "import h5py\n",
    "import gaussian_overlap_function\n",
    "\n",
    "\n",
    "importlib.reload(sto_ng)\n",
    "importlib.reload(sto_ng_overlap_function)\n",
    "importlib.reload(gaussian_overlap_function)\n",
    "from sto_ng import *\n",
    "from sto_ng_overlap_function import *\n",
    "from gaussian_overlap_function import *"
   ]
  },
  {
   "cell_type": "code",
   "execution_count": 156,
   "metadata": {},
   "outputs": [],
   "source": [
    "with h5py.File(\"sto_ng.h5\", \"r\") as f:\n",
    "    alphas = f[\"1s/sto-3g/alpha\"][:]\n",
    "    cs = f[\"1s/sto-3g/c\"][:]\n",
    "alphas = np.array(alphas)\n",
    "cs = np.array(cs)\n",
    "cs_new = cs * (2 * alphas / np.pi) ** (3 / 4)"
   ]
  },
  {
   "cell_type": "code",
   "execution_count": 157,
   "metadata": {},
   "outputs": [],
   "source": [
    "def get_smat(cs, alphabetas, Rs):\n",
    "    s_mat = np.zeros((2, 2))\n",
    "    for i in range(2):\n",
    "        for j in range(2):\n",
    "            s_mat[i, j] = Sto3g.norm(cs, alphabetas[i], alphabetas[j], Rs[i], Rs[j])\n",
    "    return s_mat"
   ]
  },
  {
   "cell_type": "code",
   "execution_count": 158,
   "metadata": {},
   "outputs": [],
   "source": [
    "def get_kinetic_mat(cs, alphabetas, Rs):\n",
    "    kinetic_mat = np.zeros((2, 2))\n",
    "    for i in range(2):\n",
    "        for j in range(2):\n",
    "            kinetic_mat[i, j] = Sto3g.kinetic(\n",
    "                cs, alphabetas[i], alphabetas[j], Rs[i], Rs[j]\n",
    "            )\n",
    "    return kinetic_mat"
   ]
  },
  {
   "cell_type": "code",
   "execution_count": 159,
   "metadata": {},
   "outputs": [],
   "source": [
    "def get_potential_mat_0(cs, alphabetas, Rs):\n",
    "    potential_mat = np.zeros((2, 2))\n",
    "    for i in range(2):\n",
    "        for j in range(2):\n",
    "            potential_mat[i, j] = 2 * Sto3g.potential(\n",
    "                cs, alphabetas[i], alphabetas[j], Rs[i], Rs[j], Rs[0]\n",
    "            )\n",
    "    return potential_mat\n",
    "\n",
    "\n",
    "def get_potential_mat_1(cs, alphabetas, Rs):\n",
    "    potential_mat = np.zeros((2, 2))\n",
    "    for i in range(2):\n",
    "        for j in range(2):\n",
    "            potential_mat[i, j] = Sto3g.potential(\n",
    "                cs, alphabetas[i], alphabetas[j], Rs[i], Rs[j], Rs[1]\n",
    "            )\n",
    "    return potential_mat\n",
    "\n",
    "\n",
    "def get_potential_mat(cs, alphabetas, Rs):\n",
    "    return get_potential_mat_0(cs, alphabetas, Rs) + get_potential_mat_1(\n",
    "        cs, alphabetas, Rs\n",
    "    )"
   ]
  },
  {
   "cell_type": "code",
   "execution_count": 160,
   "metadata": {},
   "outputs": [
    {
     "data": {
      "text/plain": [
       "array([[ 20.74788356,  41.21098099],\n",
       "       [ 41.21098099, 107.58155944]])"
      ]
     },
     "execution_count": 160,
     "metadata": {},
     "output_type": "execute_result"
    }
   ],
   "source": [
    "def get_ee_coulomb_mat(cs, alphabetas, Rs):\n",
    "    ee_coulomb_mat = np.zeros((2, 2, 2, 2))\n",
    "    for i in range(2):\n",
    "        for j in range(2):\n",
    "            for k in range(2):\n",
    "                for l in range(2):\n",
    "                    ee_coulomb_mat[i, j, k, l] = Sto3g.ee_coulomb(\n",
    "                        cs,\n",
    "                        alphabetas[i],\n",
    "                        alphabetas[j],\n",
    "                        alphabetas[k],\n",
    "                        alphabetas[l],\n",
    "                        Rs[i],\n",
    "                        Rs[j],\n",
    "                        Rs[k],\n",
    "                        Rs[l],\n",
    "                    )\n",
    "    return ee_coulomb_mat\n",
    "\n",
    "\n",
    "c_chi = np.array([1, 1])\n",
    "c_chi @ get_ee_coulomb_mat(cs, alphabetas, Rs) @ c_chi"
   ]
  },
  {
   "cell_type": "code",
   "execution_count": 161,
   "metadata": {},
   "outputs": [],
   "source": [
    "def get_1e_mat(cs, alphabetas, Rs):\n",
    "    kinetic_mat = get_kinetic_mat(cs, alphabetas, Rs)\n",
    "    potential_mat = get_potential_mat(cs, alphabetas, Rs)\n",
    "    return kinetic_mat + potential_mat\n",
    "\n",
    "\n",
    "def get_2e_mat(c_chi, cs, alphabetas, Rs):\n",
    "    ee_coulomb_mat = get_ee_coulomb_mat(cs, alphabetas, Rs)\n",
    "    return c_chi @ ee_coulomb_mat @ c_chi\n",
    "\n",
    "\n",
    "def get_fock_mat(c_chi, cs, alphabetas, Rs):\n",
    "    kinetic_mat = get_kinetic_mat(cs, alphabetas, Rs)\n",
    "    potential_mat = get_potential_mat(cs, alphabetas, Rs)\n",
    "    ee_coulomb_mat = c_chi @ get_ee_coulomb_mat(cs, alphabetas, Rs) @ c_chi\n",
    "    fock_mat = kinetic_mat + potential_mat + ee_coulomb_mat\n",
    "    return fock_mat"
   ]
  },
  {
   "cell_type": "code",
   "execution_count": 162,
   "metadata": {},
   "outputs": [
    {
     "name": "stdout",
     "output_type": "stream",
     "text": [
      "-6.21560129522436\n",
      "-6.298714603815002\n",
      "-5.438081123987764\n",
      "-4.821918295635054\n",
      "-4.5282569355639986\n",
      "-4.385675442070957\n",
      "-4.306741809836334\n",
      "-4.267839167677576\n",
      "-4.247553952623891\n",
      "-4.237673998237873\n",
      "-4.232559026048069\n",
      "-4.230084765340621\n",
      "-4.228800498769577\n",
      "-4.2281832019007775\n",
      "-4.227860954795278\n",
      "-4.227707164469928\n",
      "-4.227626281845904\n",
      "-4.227588001834613\n",
      "-4.227567688255461\n",
      "-4.22755816828694\n",
      "-4.2275530626085125\n",
      "-4.227550697401321\n",
      "-4.227549412948412\n",
      "-4.227548826005633\n",
      "-4.227548502525796\n",
      "-4.227548357074623\n",
      "-4.227548275507382\n",
      "-4.227548239523072\n",
      "-4.227548218925817\n",
      "-4.227548210041256\n",
      "-4.22754820483141\n",
      "-4.227548202643128\n",
      "-4.227548201322833\n",
      "-4.22754820078544\n",
      "-4.227548200450113\n",
      "-4.227548200318617\n",
      "-4.227548200233236\n",
      "-4.227548200201204\n",
      "-4.2275482001794025\n",
      "-4.227548200171642\n",
      "-4.227548200166056\n",
      "-4.227548200164188\n",
      "-4.227548200162754\n",
      "-4.227548200162307\n",
      "-4.227548200161937\n",
      "-4.227548200161831\n",
      "-4.227548200161737\n",
      "-4.227548200161712\n",
      "-4.227548200161686\n",
      "-4.2275482001616815\n",
      "-4.227548200161674\n",
      "-4.227548200161675\n",
      "-4.227548200161671\n",
      "-4.227548200161673\n",
      "-4.227548200161671\n",
      "-4.227548200161672\n",
      "-4.22754820016167\n",
      "-4.227548200161672\n",
      "-4.22754820016167\n",
      "-4.227548200161672\n",
      "-4.22754820016167\n",
      "-4.227548200161672\n",
      "-4.22754820016167\n",
      "-4.227548200161672\n",
      "-4.22754820016167\n",
      "-4.227548200161672\n",
      "-4.22754820016167\n",
      "-4.227548200161672\n",
      "-4.22754820016167\n",
      "-4.227548200161672\n",
      "-4.22754820016167\n",
      "-4.227548200161672\n",
      "-4.22754820016167\n",
      "-4.227548200161672\n",
      "-4.22754820016167\n",
      "-4.227548200161672\n",
      "-4.22754820016167\n",
      "-4.227548200161672\n",
      "-4.22754820016167\n",
      "-4.227548200161672\n",
      "-4.22754820016167\n",
      "-4.227548200161672\n",
      "-4.22754820016167\n",
      "-4.227548200161672\n",
      "-4.22754820016167\n",
      "-4.227548200161672\n",
      "-4.22754820016167\n",
      "-4.227548200161672\n",
      "-4.22754820016167\n",
      "-4.227548200161672\n",
      "-4.22754820016167\n",
      "-4.227548200161672\n",
      "-4.22754820016167\n",
      "-4.227548200161672\n",
      "-4.22754820016167\n",
      "-4.227548200161672\n",
      "-4.22754820016167\n",
      "-4.227548200161672\n",
      "-4.22754820016167\n",
      "-4.227548200161672\n"
     ]
    },
    {
     "data": {
      "text/plain": [
       "array([[ 2.2352247 ,  2.79292795],\n",
       "       [ 2.79292795, 10.74119331]])"
      ]
     },
     "execution_count": 162,
     "metadata": {},
     "output_type": "execute_result"
    }
   ],
   "source": [
    "zetaHe = 2.0925\n",
    "zetaH = 1.24\n",
    "alphabetas = [alphas * zetaHe**2, alphas * zetaH**2]\n",
    "Rs = [np.array([0, 0, 0]), np.array([0, 0, 1.4632])]\n",
    "c_chi = np.array([1, 0.1])\n",
    "for i in range(100):\n",
    "    s_mat = get_smat(cs_new, alphabetas, Rs)\n",
    "    fock_mat = get_fock_mat(c_chi, cs_new, alphabetas, Rs)\n",
    "    val, vec = eigh(fock_mat, s_mat)\n",
    "    c_chi = 0.5 * c_chi + 0.5 * vec[:, 0]\n",
    "    print(\n",
    "        val[0] * 2\n",
    "        - vec[:, 0]\n",
    "        @ (vec[:, 0] @ get_ee_coulomb_mat(cs_new, alphabetas, Rs) @ vec[:, 0])\n",
    "        @ vec[:, 0]\n",
    "    )\n",
    "c_chi\n",
    "s_mat = get_smat(cs, alphabetas, Rs)\n",
    "s_mat"
   ]
  },
  {
   "cell_type": "code",
   "execution_count": 163,
   "metadata": {},
   "outputs": [
    {
     "data": {
      "text/plain": [
       "array([[-2.42732989,  2.36781597],\n",
       "       [-0.46505623, -1.4753095 ]])"
      ]
     },
     "execution_count": 163,
     "metadata": {},
     "output_type": "execute_result"
    }
   ],
   "source": [
    "vec"
   ]
  },
  {
   "cell_type": "code",
   "execution_count": 164,
   "metadata": {},
   "outputs": [
    {
     "data": {
      "text/plain": [
       "array([-1.59745951, -1.1370558 ])"
      ]
     },
     "execution_count": 164,
     "metadata": {},
     "output_type": "execute_result"
    }
   ],
   "source": [
    "val"
   ]
  },
  {
   "cell_type": "code",
   "execution_count": 177,
   "metadata": {},
   "outputs": [
    {
     "data": {
      "text/plain": [
       "array([[5.89193041, 1.12884489],\n",
       "       [1.12884489, 0.2162773 ]])"
      ]
     },
     "execution_count": 177,
     "metadata": {},
     "output_type": "execute_result"
    }
   ],
   "source": [
    "np.outer(c_chi, c_chi)"
   ]
  },
  {
   "cell_type": "code",
   "execution_count": 170,
   "metadata": {},
   "outputs": [
    {
     "data": {
      "text/plain": [
       "array([[ 2.2352247 ,  2.79292795],\n",
       "       [ 2.79292795, 10.74119331]])"
      ]
     },
     "execution_count": 170,
     "metadata": {},
     "output_type": "execute_result"
    }
   ],
   "source": [
    "s_mat"
   ]
  },
  {
   "cell_type": "code",
   "execution_count": 174,
   "metadata": {},
   "outputs": [
    {
     "data": {
      "text/plain": [
       "2.635945461732266"
      ]
     },
     "execution_count": 174,
     "metadata": {},
     "output_type": "execute_result"
    }
   ],
   "source": [
    "c_chi[0] ** 2 / s_mat[0, 0]"
   ]
  }
 ],
 "metadata": {
  "kernelspec": {
   "display_name": "physics",
   "language": "python",
   "name": "python3"
  },
  "language_info": {
   "codemirror_mode": {
    "name": "ipython",
    "version": 3
   },
   "file_extension": ".py",
   "mimetype": "text/x-python",
   "name": "python",
   "nbconvert_exporter": "python",
   "pygments_lexer": "ipython3",
   "version": "3.10.12"
  }
 },
 "nbformat": 4,
 "nbformat_minor": 2
}
