{
 "cells": [
  {
   "cell_type": "code",
   "execution_count": 7,
   "metadata": {},
   "outputs": [],
   "source": [
    "import sys\n",
    "\n",
    "sys.path.append(\"../src\")"
   ]
  },
  {
   "cell_type": "code",
   "execution_count": 8,
   "metadata": {},
   "outputs": [],
   "source": [
    "import numpy as np\n",
    "import matplotlib.pyplot as plt\n",
    "import importlib\n",
    "from scipy.integrate import quad\n",
    "from scipy.optimize import minimize\n",
    "from scipy.linalg import eigh\n",
    "import sto_ng\n",
    "import sto_ng_overlap_function\n",
    "import h5py\n",
    "import gaussian_overlap_function\n",
    "\n",
    "\n",
    "importlib.reload(sto_ng)\n",
    "importlib.reload(sto_ng_overlap_function)\n",
    "importlib.reload(gaussian_overlap_function)\n",
    "from sto_ng import *\n",
    "from sto_ng_overlap_function import *\n",
    "from gaussian_overlap_function import *"
   ]
  },
  {
   "cell_type": "code",
   "execution_count": 9,
   "metadata": {},
   "outputs": [],
   "source": [
    "with h5py.File(\"sto_ng.h5\", \"r\") as f:\n",
    "    alphas = f[\"1s/sto-3g/alpha\"][:]\n",
    "    cs = f[\"1s/sto-3g/c\"][:]\n",
    "alphas = np.array(alphas)\n",
    "cs = np.array(cs)\n",
    "cs_new = cs * (2 * alphas / np.pi) ** (3 / 4)"
   ]
  },
  {
   "cell_type": "code",
   "execution_count": 10,
   "metadata": {},
   "outputs": [],
   "source": [
    "def energy_2e(zeta, alphas, cs, RA):\n",
    "    scaled_alphas = alphas * zeta**2\n",
    "    U_mat = GaussianOverlapFunction.U(\n",
    "        scaled_alphas[:, None, None, None],\n",
    "        scaled_alphas[None, :, None, None],\n",
    "        scaled_alphas[None, None, :, None],\n",
    "        scaled_alphas[None, None, None, :],\n",
    "        RA,\n",
    "        RA,\n",
    "        RA,\n",
    "        RA,\n",
    "    )\n",
    "    norm = (\n",
    "        cs_new\n",
    "        @ GaussianOverlapFunction.S(\n",
    "            scaled_alphas[:, None], scaled_alphas[None, :], RA, RA\n",
    "        )\n",
    "        @ cs_new\n",
    "    )\n",
    "\n",
    "    Uc = np.tensordot(U_mat, cs, axes=(1, 0))\n",
    "    cUc = np.tensordot(cs, Uc, axes=(0, 2))\n",
    "    return cs @ cUc @ cs / norm**2"
   ]
  },
  {
   "cell_type": "code",
   "execution_count": 11,
   "metadata": {},
   "outputs": [],
   "source": [
    "def energy_1e(zeta, alphas, cs_new, RA):\n",
    "    scaled_alphas = alphas * zeta**2\n",
    "    kinetic = (\n",
    "        cs_new\n",
    "        @ GaussianOverlapFunction.T(\n",
    "            scaled_alphas[:, None], scaled_alphas[None, :], RA, RA\n",
    "        )\n",
    "        @ cs_new\n",
    "    )\n",
    "    potential = (\n",
    "        cs_new\n",
    "        @ GaussianOverlapFunction.V(\n",
    "            scaled_alphas[:, None], scaled_alphas[None, :], RA, RA, RA\n",
    "        )\n",
    "        @ cs_new\n",
    "    )\n",
    "    norm = (\n",
    "        cs_new\n",
    "        @ GaussianOverlapFunction.S(\n",
    "            scaled_alphas[:, None], scaled_alphas[None, :], RA, RA\n",
    "        )\n",
    "        @ cs_new\n",
    "    )\n",
    "    return (kinetic + 2 * potential) / norm"
   ]
  },
  {
   "cell_type": "code",
   "execution_count": 12,
   "metadata": {},
   "outputs": [
    {
     "data": {
      "image/png": "[encoded data removed]",
      "text/plain": [
       "<Figure size 800x600 with 1 Axes>"
      ]
     },
     "metadata": {},
     "output_type": "display_data"
    }
   ],
   "source": [
    "def total_energy(zeta, alphas, cs_new, RA):\n",
    "    return 2 * energy_1e(zeta, alphas, cs_new, RA) + energy_2e(zeta, alphas, cs_new, RA)\n",
    "\n",
    "\n",
    "RA = np.array([0.0, 0.0, 0.0])\n",
    "zetas = np.linspace(0.01, 2, 100)\n",
    "energy_values = [total_energy(zeta, alphas, cs_new, RA) for zeta in zetas]\n",
    "\n",
    "fig, ax = plt.subplots(1, 1, figsize=(8, 6))\n",
    "ax.plot(zetas, energy_values)\n",
    "ax.set_xlabel(r\"$\\zeta$\")\n",
    "ax.set_ylabel(\"Energy\")\n",
    "plt.show()"
   ]
  },
  {
   "cell_type": "code",
   "execution_count": 13,
   "metadata": {},
   "outputs": [
    {
     "data": {
      "text/plain": [
       "       message: Optimization terminated successfully.\n",
       "       success: True\n",
       "        status: 0\n",
       "           fun: -2.8078341148927795\n",
       "             x: [ 1.685e+00]\n",
       "           nit: 16\n",
       "          nfev: 32\n",
       " final_simplex: (array([[ 1.685e+00],\n",
       "                       [ 1.685e+00]]), array([-2.808e+00, -2.808e+00]))"
      ]
     },
     "execution_count": 13,
     "metadata": {},
     "output_type": "execute_result"
    }
   ],
   "source": [
    "minimize(lambda zeta: total_energy(zeta, alphas, cs_new, RA), 1.0, method=\"Nelder-Mead\")"
   ]
  }
 ],
 "metadata": {
  "kernelspec": {
   "display_name": "physics",
   "language": "python",
   "name": "python3"
  },
  "language_info": {
   "codemirror_mode": {
    "name": "ipython",
    "version": 3
   },
   "file_extension": ".py",
   "mimetype": "text/x-python",
   "name": "python",
   "nbconvert_exporter": "python",
   "pygments_lexer": "ipython3",
   "version": "3.10.12"
  }
 },
 "nbformat": 4,
 "nbformat_minor": 2
}
