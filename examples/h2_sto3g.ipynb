{
 "cells": [
  {
   "cell_type": "code",
   "execution_count": 369,
   "metadata": {},
   "outputs": [],
   "source": [
    "import sys\n",
    "\n",
    "sys.path.append(\"../src\")"
   ]
  },
  {
   "cell_type": "code",
   "execution_count": 370,
   "metadata": {},
   "outputs": [],
   "source": [
    "import numpy as np\n",
    "import matplotlib.pyplot as plt\n",
    "import importlib\n",
    "from scipy.integrate import quad\n",
    "from scipy.optimize import minimize\n",
    "from scipy.linalg import eigh\n",
    "import sto_ng\n",
    "import gaussian_overlap_function\n",
    "import h5py\n",
    "\n",
    "importlib.reload(sto_ng)\n",
    "importlib.reload(gaussian_overlap_function)\n",
    "from sto_ng import *\n",
    "from gaussian_overlap_function import *"
   ]
  },
  {
   "cell_type": "code",
   "execution_count": 371,
   "metadata": {},
   "outputs": [],
   "source": [
    "with h5py.File(\"sto_ng.h5\", \"r\") as f:\n",
    "    alphas = f[\"1s/sto-3g/alpha\"][:]\n",
    "    cs = f[\"1s/sto-3g/c\"][:]"
   ]
  },
  {
   "cell_type": "code",
   "execution_count": 372,
   "metadata": {},
   "outputs": [],
   "source": [
    "# def kinetic_energy(scale, RA, RB):\n",
    "#    result = 0\n",
    "#    for i in range(3):\n",
    "#        for j in range(3):\n",
    "#            alpha = alphas[i] * scale**2\n",
    "#            beta = alphas[j] * scale**2\n",
    "#            c_i = cs[i]\n",
    "#            c_j = cs[j]\n",
    "#            Salpha = GaussianOverlapFunction.S(alpha, alpha, RA, RA)\n",
    "#            Sbeta = GaussianOverlapFunction.S(beta, beta, RB, RB)\n",
    "#            result += (\n",
    "#                c_i * c_j * GaussianOverlapFunction.T(alpha, beta, RA, RB)\n",
    "#            ) / np.sqrt(Salpha * Sbeta)\n",
    "#    return result"
   ]
  },
  {
   "cell_type": "code",
   "execution_count": 373,
   "metadata": {},
   "outputs": [],
   "source": [
    "def kinetic_energy(scale, RA, RB):\n",
    "    scaled_alpha = (alphas * scale**2)[:, None]\n",
    "    scaled_beta = (alphas * scale**2)[None, :]\n",
    "    c_i = cs[:, None]\n",
    "    c_j = cs[None, :]\n",
    "    Salpha = GaussianOverlapFunction.S(scaled_alpha, scaled_alpha, RA, RA)\n",
    "    Sbeta = GaussianOverlapFunction.S(scaled_beta, scaled_beta, RB, RB)\n",
    "    return np.sum(\n",
    "        c_i\n",
    "        * c_j\n",
    "        * GaussianOverlapFunction.T(scaled_alpha, scaled_beta, RA, RB)\n",
    "        / np.sqrt(Salpha * Sbeta)\n",
    "    )"
   ]
  },
  {
   "cell_type": "code",
   "execution_count": 374,
   "metadata": {},
   "outputs": [],
   "source": [
    "def kinetic_energy_matrix(scale, Rs):\n",
    "    mat = np.zeros((2, 2))\n",
    "    for p in range(2):\n",
    "        for q in range(2):\n",
    "            mat[p, q] = kinetic_energy(scale, Rs[p], Rs[q])\n",
    "    return mat"
   ]
  },
  {
   "cell_type": "code",
   "execution_count": 375,
   "metadata": {},
   "outputs": [],
   "source": [
    "def coulomb_from_ion(scale, RA, RB, RC):\n",
    "    result = 0\n",
    "    for i in range(3):\n",
    "        for j in range(3):\n",
    "            alpha = alphas[i] * scale**2\n",
    "            beta = alphas[j] * scale**2\n",
    "            c_i = cs[i]\n",
    "            c_j = cs[j]\n",
    "            Salpha = GaussianOverlapFunction.S(alpha, alpha, RA, RA)\n",
    "            Sbeta = GaussianOverlapFunction.S(beta, beta, RB, RB)\n",
    "            result += (\n",
    "                c_i * c_j * (GaussianOverlapFunction.V(alpha, beta, RA, RB, RC))\n",
    "            ) / np.sqrt(Salpha * Sbeta)\n",
    "    return result"
   ]
  },
  {
   "cell_type": "code",
   "execution_count": 394,
   "metadata": {},
   "outputs": [
    {
     "data": {
      "text/plain": [
       "-0.578577848944339"
      ]
     },
     "execution_count": 394,
     "metadata": {},
     "output_type": "execute_result"
    }
   ],
   "source": [
    "RA = np.array([0.0, 0.0, 0.0])\n",
    "RB = np.array([1.0, 0.0, 0.0])\n",
    "RC = np.array([0.0, 1.0, 0.0])\n",
    "\n",
    "coulomb_from_ion(1.0, RA, RB, RC)"
   ]
  },
  {
   "cell_type": "code",
   "execution_count": 395,
   "metadata": {},
   "outputs": [
    {
     "name": "stdout",
     "output_type": "stream",
     "text": [
      "-27.569615980832197\n",
      "-1.0409442006636709\n"
     ]
    }
   ],
   "source": [
    "print(GaussianOverlapFunction.V(0.1, 0.1, RA, RB, RC))\n",
    "print(GaussianOverlapFunction.V(1.0, 1.0, RA, RB, RC))"
   ]
  },
  {
   "cell_type": "code",
   "execution_count": 408,
   "metadata": {},
   "outputs": [
    {
     "name": "stdout",
     "output_type": "stream",
     "text": [
      "[0.5 0.  0. ]\n",
      "[0.90909091 0.         0.        ]\n",
      "[0.09090909 0.         0.        ]\n",
      "[0.5 0.  0. ]\n"
     ]
    }
   ],
   "source": [
    "def RP(alpha, beta, RA, RB):\n",
    "    return (alpha * RA + beta * RB) / (alpha + beta)\n",
    "\n",
    "\n",
    "print(RP(1.0, 1.0, RA, RB))\n",
    "print(RP(0.1, 1.0, RA, RB))\n",
    "print(RP(1.0, 0.1, RA, RB))\n",
    "print(RP(0.1, 0.1, RA, RB))"
   ]
  },
  {
   "cell_type": "code",
   "execution_count": 407,
   "metadata": {},
   "outputs": [
    {
     "data": {
      "text/plain": [
       "array([[[0.5       , 0.        , 0.        ],\n",
       "        [0.90909091, 0.        , 0.        ]],\n",
       "\n",
       "       [[0.09090909, 0.        , 0.        ],\n",
       "        [0.5       , 0.        , 0.        ]]])"
      ]
     },
     "execution_count": 407,
     "metadata": {},
     "output_type": "execute_result"
    }
   ],
   "source": [
    "scaled_alpha = np.array([0.1, 1.0])\n",
    "RP(\n",
    "    scaled_alpha[:, None, None],\n",
    "    scaled_alpha[None, :, None],\n",
    "    RA[None, None, :],\n",
    "    RB[None, None, :],\n",
    ")"
   ]
  },
  {
   "cell_type": "code",
   "execution_count": 409,
   "metadata": {},
   "outputs": [
    {
     "name": "stdout",
     "output_type": "stream",
     "text": [
      "[[[0.1]]\n",
      "\n",
      " [[1. ]]]\n",
      "[[[0.1]\n",
      "  [1. ]]]\n",
      "[[[-21.94548766]\n",
      "  [ -1.90692127]]\n",
      "\n",
      " [[ -1.90692127]\n",
      "  [ -0.51698205]]]\n"
     ]
    }
   ],
   "source": [
    "scaled_alphas = np.array([0.1, 1.0])[:, None, None]\n",
    "scaled_betas = np.array([0.1, 1.0])[None, :, None]\n",
    "print(scaled_alphas)\n",
    "print(scaled_betas)\n",
    "print(\n",
    "    GaussianOverlapFunction.V(\n",
    "        scaled_alphas,\n",
    "        scaled_betas,\n",
    "        RA[None, None, :],\n",
    "        RB[None, None, :],\n",
    "        RC[None, None, :],\n",
    "    )\n",
    ")"
   ]
  },
  {
   "cell_type": "code",
   "execution_count": 456,
   "metadata": {},
   "outputs": [],
   "source": [
    "def V2(alpha, beta, RA, RB, RC):\n",
    "    RP = (\n",
    "        alpha[:, None, None] * RA[None, None, :]\n",
    "        + beta[None, :, None] * RB[None, None, :]\n",
    "    ) / (alpha[:, None, None] + beta[None, :, None])\n",
    "    RP_RC_norm_sq = np.linalg.norm(RP - RC, axis=2) ** 2\n",
    "    gamma = alpha[:, None] + beta[None, :]\n",
    "    return (\n",
    "        -2\n",
    "        * np.pi\n",
    "        / gamma\n",
    "        * np.exp(-alpha[:, None] * beta[None, :] * np.linalg.norm(RA - RB) ** 2 / gamma)\n",
    "        * GaussianOverlapFunction.F(gamma * RP_RC_norm_sq)\n",
    "    )"
   ]
  },
  {
   "cell_type": "code",
   "execution_count": 457,
   "metadata": {},
   "outputs": [
    {
     "data": {
      "text/plain": [
       "array([[-27.56961598,  -3.11421671],\n",
       "       [ -3.79038291,  -1.0409442 ]])"
      ]
     },
     "execution_count": 457,
     "metadata": {},
     "output_type": "execute_result"
    }
   ],
   "source": [
    "scaled_alphas = np.array([0.1, 1.0])\n",
    "scaled_betas = np.array([0.1, 1.0])\n",
    "V2(scaled_alphas, scaled_betas, RA, RB, RC)"
   ]
  },
  {
   "cell_type": "code",
   "execution_count": 444,
   "metadata": {},
   "outputs": [
    {
     "name": "stdout",
     "output_type": "stream",
     "text": [
      "[[-27.56961598]]\n",
      "[[-3.79038291]]\n",
      "[[-3.11421671]]\n",
      "[[-1.0409442]]\n"
     ]
    }
   ],
   "source": [
    "print(V2(0.1, 0.1, RA[None, None, :], RB[None, None, :], RC[None, None, :]))\n",
    "print(V2(1.0, 0.1, RA[None, None, :], RB[None, None, :], RC[None, None, :]))\n",
    "print(V2(0.1, 1.0, RA[None, None, :], RB[None, None, :], RC[None, None, :]))\n",
    "print(V2(1.0, 1.0, RA[None, None, :], RB[None, None, :], RC[None, None, :]))"
   ]
  },
  {
   "cell_type": "code",
   "execution_count": 415,
   "metadata": {},
   "outputs": [
    {
     "data": {
      "text/plain": [
       "0.9676433126041887"
      ]
     },
     "execution_count": 415,
     "metadata": {},
     "output_type": "execute_result"
    }
   ],
   "source": [
    "GaussianOverlapFunction.F(0.1)"
   ]
  },
  {
   "cell_type": "code",
   "execution_count": 414,
   "metadata": {},
   "outputs": [
    {
     "data": {
      "text/plain": [
       "1.0"
      ]
     },
     "execution_count": 414,
     "metadata": {},
     "output_type": "execute_result"
    }
   ],
   "source": [
    "np.linalg.norm(RB[None, :])"
   ]
  },
  {
   "cell_type": "code",
   "execution_count": 411,
   "metadata": {},
   "outputs": [
    {
     "data": {
      "text/plain": [
       "-27.569615980832197"
      ]
     },
     "execution_count": 411,
     "metadata": {},
     "output_type": "execute_result"
    }
   ],
   "source": [
    "GaussianOverlapFunction.V(0.1, 0.1, RA, RB, RC)"
   ]
  },
  {
   "cell_type": "code",
   "execution_count": 402,
   "metadata": {},
   "outputs": [
    {
     "data": {
      "text/plain": [
       "1.0"
      ]
     },
     "execution_count": 402,
     "metadata": {},
     "output_type": "execute_result"
    }
   ],
   "source": [
    "np.linalg.norm(RA[None, None, :] - RB[None, None, :])"
   ]
  },
  {
   "cell_type": "code",
   "execution_count": 397,
   "metadata": {},
   "outputs": [
    {
     "data": {
      "text/plain": [
       "array([0.5, 0. , 0. ])"
      ]
     },
     "execution_count": 397,
     "metadata": {},
     "output_type": "execute_result"
    }
   ],
   "source": [
    "(0.1 * RA + 0.1 * RB) / 0.2"
   ]
  },
  {
   "cell_type": "code",
   "execution_count": 398,
   "metadata": {},
   "outputs": [
    {
     "data": {
      "text/plain": [
       "array([1., 0., 0.])"
      ]
     },
     "execution_count": 398,
     "metadata": {},
     "output_type": "execute_result"
    }
   ],
   "source": [
    "RB"
   ]
  },
  {
   "cell_type": "code",
   "execution_count": 399,
   "metadata": {},
   "outputs": [
    {
     "data": {
      "text/plain": [
       "array([[[0.5       , 0.        , 0.        ],\n",
       "        [0.90909091, 0.        , 0.        ]],\n",
       "\n",
       "       [[0.09090909, 0.        , 0.        ],\n",
       "        [0.5       , 0.        , 0.        ]]])"
      ]
     },
     "execution_count": 399,
     "metadata": {},
     "output_type": "execute_result"
    }
   ],
   "source": [
    "RP = (scaled_alphas * RA[None, None, :] + scaled_betas * RB[None, None, :]) / (\n",
    "    scaled_alphas + scaled_betas\n",
    ")\n",
    "RP"
   ]
  },
  {
   "cell_type": "code",
   "execution_count": 400,
   "metadata": {},
   "outputs": [
    {
     "data": {
      "text/plain": [
       "-0.2459459777660369"
      ]
     },
     "execution_count": 400,
     "metadata": {},
     "output_type": "execute_result"
    }
   ],
   "source": [
    "scale = 1.0\n",
    "\n",
    "scaled_alpha = (alphas * scale**2)[:, None, None]\n",
    "scaled_beta = (alphas * scale**2)[None, :, None]\n",
    "c_i = cs[:, None, None]\n",
    "c_j = cs[None, :, None]\n",
    "Salpha = GaussianOverlapFunction.S(\n",
    "    scaled_alpha, scaled_alpha, RA[None, None, :], RA[None, None, :]\n",
    ")\n",
    "Sbeta = GaussianOverlapFunction.S(\n",
    "    scaled_beta, scaled_beta, RB[None, None, :], RB[None, None, :]\n",
    ")\n",
    "\n",
    "np.sum(\n",
    "    c_i\n",
    "    * c_j\n",
    "    * (\n",
    "        GaussianOverlapFunction.V(\n",
    "            scaled_alpha,\n",
    "            scaled_beta,\n",
    "            RA[None, None, :],\n",
    "            RB[None, None, None, :],\n",
    "            RC[None, None, None, None, :],\n",
    "        )\n",
    "    )\n",
    "    / np.sqrt(Salpha * Sbeta)\n",
    ")"
   ]
  },
  {
   "cell_type": "code",
   "execution_count": 380,
   "metadata": {},
   "outputs": [
    {
     "data": {
      "text/plain": [
       "0.6246844278389933"
      ]
     },
     "execution_count": 380,
     "metadata": {},
     "output_type": "execute_result"
    }
   ],
   "source": [
    "def coulomb_from_ion_matrix(scale, Rs, ion_num):\n",
    "    mat = np.zeros((2, 2))\n",
    "    for p in range(2):\n",
    "        for q in range(2):\n",
    "            mat[p, q] = coulomb_from_ion(scale, Rs[p], Rs[q], Rs[ion_num])\n",
    "    return mat\n",
    "\n",
    "\n",
    "def ee_coulomb(scale, RA, RB, RC, RD):\n",
    "    result = 0\n",
    "    scaled_alphas = alphas * scale**2\n",
    "    for i in range(3):\n",
    "        for j in range(3):\n",
    "            for k in range(3):\n",
    "                for l in range(3):\n",
    "                    alpha = scaled_alphas[i]\n",
    "                    beta = scaled_alphas[j]\n",
    "                    gamma = scaled_alphas[k]\n",
    "                    delta = scaled_alphas[l]\n",
    "                    c_i = cs[i]\n",
    "                    c_j = cs[j]\n",
    "                    c_k = cs[k]\n",
    "                    c_l = cs[l]\n",
    "                    Salpha = GaussianOverlapFunction.S(alpha, alpha, RA, RA)\n",
    "                    Sbeta = GaussianOverlapFunction.S(beta, beta, RB, RB)\n",
    "                    Sgamma = GaussianOverlapFunction.S(gamma, gamma, RC, RC)\n",
    "                    Sdelta = GaussianOverlapFunction.S(delta, delta, RD, RD)\n",
    "                    result += (\n",
    "                        c_i\n",
    "                        * c_j\n",
    "                        * c_k\n",
    "                        * c_l\n",
    "                        * (\n",
    "                            GaussianOverlapFunction.U(\n",
    "                                alpha, beta, gamma, delta, RA, RB, RA, RB\n",
    "                            )\n",
    "                        )\n",
    "                    ) / np.sqrt(Salpha * Sbeta * Sgamma * Sdelta)\n",
    "    return result\n",
    "\n",
    "\n",
    "Rs = np.array([[0, 0, 0], [1, 0, 0], [0, 1, 0], [0, 0, 1]]) * 0\n",
    "ee_coulomb(1.0, Rs[0], Rs[1], Rs[2], Rs[3])"
   ]
  },
  {
   "cell_type": "code",
   "execution_count": 381,
   "metadata": {},
   "outputs": [],
   "source": [
    "def ee_coulomb(scale, RA, RB, RC, RD):\n",
    "    result = 0\n",
    "    scaled_alphas = alphas * scale**2\n",
    "    for i in range(3):\n",
    "        for j in range(3):\n",
    "            for k in range(3):\n",
    "                for l in range(3):\n",
    "                    alpha = scaled_alphas[i]\n",
    "                    beta = scaled_alphas[j]\n",
    "                    gamma = scaled_alphas[k]\n",
    "                    delta = scaled_alphas[l]\n",
    "                    c_i = cs[i]\n",
    "                    c_j = cs[j]\n",
    "                    c_k = cs[k]\n",
    "                    c_l = cs[l]\n",
    "                    Salpha = GaussianOverlapFunction.S(alpha, alpha, RA, RA)\n",
    "                    Sbeta = GaussianOverlapFunction.S(beta, beta, RB, RB)\n",
    "                    Sgamma = GaussianOverlapFunction.S(gamma, gamma, RC, RC)\n",
    "                    Sdelta = GaussianOverlapFunction.S(delta, delta, RD, RD)\n",
    "                    result += (\n",
    "                        c_i\n",
    "                        * c_j\n",
    "                        * c_k\n",
    "                        * c_l\n",
    "                        * (\n",
    "                            GaussianOverlapFunction.U(\n",
    "                                alpha, beta, gamma, delta, RA, RB, RA, RB\n",
    "                            )\n",
    "                        )\n",
    "                    ) / np.sqrt(Salpha * Sbeta * Sgamma * Sdelta)\n",
    "    return result"
   ]
  },
  {
   "cell_type": "code",
   "execution_count": 382,
   "metadata": {},
   "outputs": [
    {
     "data": {
      "text/plain": [
       "0.6246844278389933"
      ]
     },
     "execution_count": 382,
     "metadata": {},
     "output_type": "execute_result"
    }
   ],
   "source": [
    "RA = Rs[0]\n",
    "RB = Rs[1]\n",
    "RC = Rs[2]\n",
    "RD = Rs[3]\n",
    "\n",
    "scaled_alpha = (alphas * 1.0**2)[:, None, None, None]\n",
    "scaled_beta = (alphas * 1.0**2)[None, :, None, None]\n",
    "scaled_gamma = (alphas * 1.0**2)[None, None, :, None]\n",
    "scaled_delta = (alphas * 1.0**2)[None, None, None, :]\n",
    "c_alpha = cs[:, None, None, None]\n",
    "c_beta = cs[None, :, None, None]\n",
    "c_gamma = cs[None, None, :, None]\n",
    "c_delta = cs[None, None, None, :]\n",
    "\n",
    "Salpha = GaussianOverlapFunction.S(scaled_alpha, scaled_alpha, RA, RA)\n",
    "Sbeta = GaussianOverlapFunction.S(scaled_beta, scaled_beta, RB, RB)\n",
    "Sgamma = GaussianOverlapFunction.S(scaled_gamma, scaled_gamma, RC, RC)\n",
    "Sdelta = GaussianOverlapFunction.S(scaled_delta, scaled_delta, RD, RD)\n",
    "\n",
    "np.sum(\n",
    "    c_alpha\n",
    "    * c_beta\n",
    "    * c_gamma\n",
    "    * c_delta\n",
    "    * GaussianOverlapFunction.U(\n",
    "        scaled_alpha, scaled_beta, scaled_gamma, scaled_delta, RA, RB, RC, RD\n",
    "    )\n",
    "    / np.sqrt(Salpha * Sbeta * Sgamma * Sdelta)\n",
    ")"
   ]
  },
  {
   "cell_type": "code",
   "execution_count": 383,
   "metadata": {},
   "outputs": [
    {
     "data": {
      "text/plain": [
       "0.5543872112446866"
      ]
     },
     "execution_count": 383,
     "metadata": {},
     "output_type": "execute_result"
    }
   ],
   "source": [
    "Rs = np.array([[0, 0, 0], [1, 0, 0], [0, 1, 0], [0, 0, 1]])\n",
    "ee_coulomb(1.0, Rs[0], Rs[1], Rs[2], Rs[3])"
   ]
  },
  {
   "cell_type": "code",
   "execution_count": 384,
   "metadata": {},
   "outputs": [],
   "source": [
    "def ee_coulomb_matrix(scale, Rs, Cr, Cs):\n",
    "    mat = np.zeros((2, 2))\n",
    "    for p in range(2):\n",
    "        for q in range(2):\n",
    "            result = 0\n",
    "            for r in range(2):\n",
    "                for s in range(2):\n",
    "                    result += Cr * Cs * ee_coulomb(scale, Rs[p], Rs[q], Rs[r], Rs[s])\n",
    "            mat[p, q] = result\n",
    "    return mat\n",
    "\n",
    "\n",
    "def S_mel(scale, RA, RB):\n",
    "    result = 0\n",
    "    for i in range(3):\n",
    "        for j in range(3):\n",
    "            alpha = alphas[i] * scale**2\n",
    "            beta = alphas[j] * scale**2\n",
    "            c_i = cs[i]\n",
    "            c_j = cs[j]\n",
    "            result += c_i * c_j * GaussianOverlapFunction.S(alpha, beta, RA, RB)\n",
    "    return result\n",
    "\n",
    "\n",
    "def S_matrix(scale, Rs):\n",
    "    mat = np.zeros((2, 2))\n",
    "    for p in range(2):\n",
    "        for q in range(2):\n",
    "            mat[p, q] = S_mel(scale, Rs[p], Rs[q])\n",
    "    return mat"
   ]
  },
  {
   "cell_type": "code",
   "execution_count": 385,
   "metadata": {},
   "outputs": [
    {
     "data": {
      "text/plain": [
       "array([[2.22884146],\n",
       "       [0.10986104],\n",
       "       [0.40597907]])"
      ]
     },
     "execution_count": 385,
     "metadata": {},
     "output_type": "execute_result"
    }
   ],
   "source": [
    "alphas[:, None]"
   ]
  },
  {
   "cell_type": "code",
   "execution_count": 386,
   "metadata": {},
   "outputs": [
    {
     "data": {
      "text/plain": [
       "0.6246844278389933"
      ]
     },
     "execution_count": 386,
     "metadata": {},
     "output_type": "execute_result"
    }
   ],
   "source": [
    "Rs = np.array([[0, 0, 0], [1.0, 0, 0]])\n",
    "ee_coulomb(1.0, Rs[0], Rs[0], Rs[0], Rs[0])"
   ]
  },
  {
   "cell_type": "code",
   "execution_count": 387,
   "metadata": {},
   "outputs": [
    {
     "name": "stdout",
     "output_type": "stream",
     "text": [
      "0.5\n"
     ]
    },
    {
     "name": "stderr",
     "output_type": "stream",
     "text": [
      "/tmp/ipykernel_286174/4051239141.py:5: DeprecationWarning: Conversion of an array with ndim > 0 to a scalar is deprecated, and will error in future. Ensure you extract a single element from your array before performing this operation. (Deprecated NumPy 1.25.)\n",
      "  mat[p, q] = coulomb_from_ion(scale, Rs[p], Rs[q], Rs[ion_num])\n"
     ]
    },
    {
     "name": "stdout",
     "output_type": "stream",
     "text": [
      "0.5454545454545454\n",
      "0.5909090909090909\n",
      "0.6363636363636364\n",
      "0.6818181818181819\n",
      "0.7272727272727273\n",
      "0.7727272727272727\n",
      "0.8181818181818181\n",
      "0.8636363636363636\n",
      "0.9090909090909092\n",
      "0.9545454545454546\n",
      "1.0\n",
      "1.0454545454545454\n",
      "1.0909090909090908\n",
      "1.1363636363636362\n",
      "1.1818181818181819\n",
      "1.2272727272727273\n",
      "1.2727272727272727\n",
      "1.3181818181818183\n",
      "1.3636363636363638\n",
      "1.4090909090909092\n",
      "1.4545454545454546\n",
      "1.5\n",
      "1.5454545454545454\n",
      "1.5909090909090908\n",
      "1.6363636363636365\n",
      "1.6818181818181819\n",
      "1.7272727272727273\n",
      "1.7727272727272727\n",
      "1.8181818181818181\n",
      "1.8636363636363638\n"
     ]
    },
    {
     "name": "stdout",
     "output_type": "stream",
     "text": [
      "1.9090909090909092\n",
      "1.9545454545454546\n",
      "2.0\n",
      "2.0454545454545454\n",
      "2.090909090909091\n",
      "2.1363636363636367\n",
      "2.1818181818181817\n",
      "2.2272727272727275\n",
      "2.2727272727272725\n",
      "2.3181818181818183\n",
      "2.3636363636363638\n",
      "2.409090909090909\n",
      "2.4545454545454546\n",
      "2.5\n",
      "2.5454545454545454\n",
      "2.590909090909091\n",
      "2.6363636363636362\n",
      "2.6818181818181817\n",
      "2.7272727272727275\n",
      "2.772727272727273\n",
      "2.8181818181818183\n",
      "2.8636363636363638\n",
      "2.909090909090909\n",
      "2.9545454545454546\n",
      "3.0\n",
      "3.0454545454545454\n",
      "3.090909090909091\n",
      "3.1363636363636362\n",
      "3.181818181818182\n"
     ]
    },
    {
     "ename": "KeyboardInterrupt",
     "evalue": "",
     "output_type": "error",
     "traceback": [
      "\u001b[0;31m---------------------------------------------------------------------------\u001b[0m",
      "\u001b[0;31mKeyboardInterrupt\u001b[0m                         Traceback (most recent call last)",
      "Cell \u001b[0;32mIn[387], line 28\u001b[0m\n\u001b[1;32m     26\u001b[0m \u001b[38;5;28mprint\u001b[39m(r)\n\u001b[1;32m     27\u001b[0m Rs \u001b[38;5;241m=\u001b[39m np\u001b[38;5;241m.\u001b[39marray([[\u001b[38;5;241m0\u001b[39m, \u001b[38;5;241m0\u001b[39m, \u001b[38;5;241m0\u001b[39m], [r, \u001b[38;5;241m0\u001b[39m, \u001b[38;5;241m0\u001b[39m]])\n\u001b[0;32m---> 28\u001b[0m energies\u001b[38;5;241m.\u001b[39mappend(\u001b[43mminimize\u001b[49m\u001b[43m(\u001b[49m\u001b[38;5;28;43;01mlambda\u001b[39;49;00m\u001b[43m \u001b[49m\u001b[43mzeta\u001b[49m\u001b[43m:\u001b[49m\u001b[43m \u001b[49m\u001b[43mtotal_energy\u001b[49m\u001b[43m(\u001b[49m\u001b[43mzeta\u001b[49m\u001b[43m,\u001b[49m\u001b[43m \u001b[49m\u001b[43mRs\u001b[49m\u001b[43m)\u001b[49m\u001b[43m,\u001b[49m\u001b[43m \u001b[49m\u001b[43mzeta\u001b[49m\u001b[43m)\u001b[49m\u001b[38;5;241m.\u001b[39mfun)\n",
      "File \u001b[0;32m~/venvs/physics/lib/python3.10/site-packages/scipy/optimize/_minimize.py:708\u001b[0m, in \u001b[0;36mminimize\u001b[0;34m(fun, x0, args, method, jac, hess, hessp, bounds, constraints, tol, callback, options)\u001b[0m\n\u001b[1;32m    706\u001b[0m     res \u001b[38;5;241m=\u001b[39m _minimize_cg(fun, x0, args, jac, callback, \u001b[38;5;241m*\u001b[39m\u001b[38;5;241m*\u001b[39moptions)\n\u001b[1;32m    707\u001b[0m \u001b[38;5;28;01melif\u001b[39;00m meth \u001b[38;5;241m==\u001b[39m \u001b[38;5;124m'\u001b[39m\u001b[38;5;124mbfgs\u001b[39m\u001b[38;5;124m'\u001b[39m:\n\u001b[0;32m--> 708\u001b[0m     res \u001b[38;5;241m=\u001b[39m \u001b[43m_minimize_bfgs\u001b[49m\u001b[43m(\u001b[49m\u001b[43mfun\u001b[49m\u001b[43m,\u001b[49m\u001b[43m \u001b[49m\u001b[43mx0\u001b[49m\u001b[43m,\u001b[49m\u001b[43m \u001b[49m\u001b[43margs\u001b[49m\u001b[43m,\u001b[49m\u001b[43m \u001b[49m\u001b[43mjac\u001b[49m\u001b[43m,\u001b[49m\u001b[43m \u001b[49m\u001b[43mcallback\u001b[49m\u001b[43m,\u001b[49m\u001b[43m \u001b[49m\u001b[38;5;241;43m*\u001b[39;49m\u001b[38;5;241;43m*\u001b[39;49m\u001b[43moptions\u001b[49m\u001b[43m)\u001b[49m\n\u001b[1;32m    709\u001b[0m \u001b[38;5;28;01melif\u001b[39;00m meth \u001b[38;5;241m==\u001b[39m \u001b[38;5;124m'\u001b[39m\u001b[38;5;124mnewton-cg\u001b[39m\u001b[38;5;124m'\u001b[39m:\n\u001b[1;32m    710\u001b[0m     res \u001b[38;5;241m=\u001b[39m _minimize_newtoncg(fun, x0, args, jac, hess, hessp, callback,\n\u001b[1;32m    711\u001b[0m                              \u001b[38;5;241m*\u001b[39m\u001b[38;5;241m*\u001b[39moptions)\n",
      "File \u001b[0;32m~/venvs/physics/lib/python3.10/site-packages/scipy/optimize/_optimize.py:1503\u001b[0m, in \u001b[0;36m_minimize_bfgs\u001b[0;34m(fun, x0, args, jac, callback, gtol, norm, eps, maxiter, disp, return_all, finite_diff_rel_step, xrtol, c1, c2, hess_inv0, **unknown_options)\u001b[0m\n\u001b[1;32m   1500\u001b[0m pk \u001b[38;5;241m=\u001b[39m \u001b[38;5;241m-\u001b[39mnp\u001b[38;5;241m.\u001b[39mdot(Hk, gfk)\n\u001b[1;32m   1501\u001b[0m \u001b[38;5;28;01mtry\u001b[39;00m:\n\u001b[1;32m   1502\u001b[0m     alpha_k, fc, gc, old_fval, old_old_fval, gfkp1 \u001b[38;5;241m=\u001b[39m \\\n\u001b[0;32m-> 1503\u001b[0m              \u001b[43m_line_search_wolfe12\u001b[49m\u001b[43m(\u001b[49m\u001b[43mf\u001b[49m\u001b[43m,\u001b[49m\u001b[43m \u001b[49m\u001b[43mmyfprime\u001b[49m\u001b[43m,\u001b[49m\u001b[43m \u001b[49m\u001b[43mxk\u001b[49m\u001b[43m,\u001b[49m\u001b[43m \u001b[49m\u001b[43mpk\u001b[49m\u001b[43m,\u001b[49m\u001b[43m \u001b[49m\u001b[43mgfk\u001b[49m\u001b[43m,\u001b[49m\n\u001b[1;32m   1504\u001b[0m \u001b[43m                                  \u001b[49m\u001b[43mold_fval\u001b[49m\u001b[43m,\u001b[49m\u001b[43m \u001b[49m\u001b[43mold_old_fval\u001b[49m\u001b[43m,\u001b[49m\u001b[43m \u001b[49m\u001b[43mamin\u001b[49m\u001b[38;5;241;43m=\u001b[39;49m\u001b[38;5;241;43m1e-100\u001b[39;49m\u001b[43m,\u001b[49m\n\u001b[1;32m   1505\u001b[0m \u001b[43m                                  \u001b[49m\u001b[43mamax\u001b[49m\u001b[38;5;241;43m=\u001b[39;49m\u001b[38;5;241;43m1e100\u001b[39;49m\u001b[43m,\u001b[49m\u001b[43m \u001b[49m\u001b[43mc1\u001b[49m\u001b[38;5;241;43m=\u001b[39;49m\u001b[43mc1\u001b[49m\u001b[43m,\u001b[49m\u001b[43m \u001b[49m\u001b[43mc2\u001b[49m\u001b[38;5;241;43m=\u001b[39;49m\u001b[43mc2\u001b[49m\u001b[43m)\u001b[49m\n\u001b[1;32m   1506\u001b[0m \u001b[38;5;28;01mexcept\u001b[39;00m _LineSearchError:\n\u001b[1;32m   1507\u001b[0m     \u001b[38;5;66;03m# Line search failed to find a better solution.\u001b[39;00m\n\u001b[1;32m   1508\u001b[0m     warnflag \u001b[38;5;241m=\u001b[39m \u001b[38;5;241m2\u001b[39m\n",
      "File \u001b[0;32m~/venvs/physics/lib/python3.10/site-packages/scipy/optimize/_optimize.py:1239\u001b[0m, in \u001b[0;36m_line_search_wolfe12\u001b[0;34m(f, fprime, xk, pk, gfk, old_fval, old_old_fval, **kwargs)\u001b[0m\n\u001b[1;32m   1225\u001b[0m \u001b[38;5;250m\u001b[39m\u001b[38;5;124;03m\"\"\"\u001b[39;00m\n\u001b[1;32m   1226\u001b[0m \u001b[38;5;124;03mSame as line_search_wolfe1, but fall back to line_search_wolfe2 if\u001b[39;00m\n\u001b[1;32m   1227\u001b[0m \u001b[38;5;124;03msuitable step length is not found, and raise an exception if a\u001b[39;00m\n\u001b[0;32m   (...)\u001b[0m\n\u001b[1;32m   1234\u001b[0m \n\u001b[1;32m   1235\u001b[0m \u001b[38;5;124;03m\"\"\"\u001b[39;00m\n\u001b[1;32m   1237\u001b[0m extra_condition \u001b[38;5;241m=\u001b[39m kwargs\u001b[38;5;241m.\u001b[39mpop(\u001b[38;5;124m'\u001b[39m\u001b[38;5;124mextra_condition\u001b[39m\u001b[38;5;124m'\u001b[39m, \u001b[38;5;28;01mNone\u001b[39;00m)\n\u001b[0;32m-> 1239\u001b[0m ret \u001b[38;5;241m=\u001b[39m \u001b[43mline_search_wolfe1\u001b[49m\u001b[43m(\u001b[49m\u001b[43mf\u001b[49m\u001b[43m,\u001b[49m\u001b[43m \u001b[49m\u001b[43mfprime\u001b[49m\u001b[43m,\u001b[49m\u001b[43m \u001b[49m\u001b[43mxk\u001b[49m\u001b[43m,\u001b[49m\u001b[43m \u001b[49m\u001b[43mpk\u001b[49m\u001b[43m,\u001b[49m\u001b[43m \u001b[49m\u001b[43mgfk\u001b[49m\u001b[43m,\u001b[49m\n\u001b[1;32m   1240\u001b[0m \u001b[43m                         \u001b[49m\u001b[43mold_fval\u001b[49m\u001b[43m,\u001b[49m\u001b[43m \u001b[49m\u001b[43mold_old_fval\u001b[49m\u001b[43m,\u001b[49m\n\u001b[1;32m   1241\u001b[0m \u001b[43m                         \u001b[49m\u001b[38;5;241;43m*\u001b[39;49m\u001b[38;5;241;43m*\u001b[39;49m\u001b[43mkwargs\u001b[49m\u001b[43m)\u001b[49m\n\u001b[1;32m   1243\u001b[0m \u001b[38;5;28;01mif\u001b[39;00m ret[\u001b[38;5;241m0\u001b[39m] \u001b[38;5;129;01mis\u001b[39;00m \u001b[38;5;129;01mnot\u001b[39;00m \u001b[38;5;28;01mNone\u001b[39;00m \u001b[38;5;129;01mand\u001b[39;00m extra_condition \u001b[38;5;129;01mis\u001b[39;00m \u001b[38;5;129;01mnot\u001b[39;00m \u001b[38;5;28;01mNone\u001b[39;00m:\n\u001b[1;32m   1244\u001b[0m     xp1 \u001b[38;5;241m=\u001b[39m xk \u001b[38;5;241m+\u001b[39m ret[\u001b[38;5;241m0\u001b[39m] \u001b[38;5;241m*\u001b[39m pk\n",
      "File \u001b[0;32m~/venvs/physics/lib/python3.10/site-packages/scipy/optimize/_linesearch.py:94\u001b[0m, in \u001b[0;36mline_search_wolfe1\u001b[0;34m(f, fprime, xk, pk, gfk, old_fval, old_old_fval, args, c1, c2, amax, amin, xtol)\u001b[0m\n\u001b[1;32m     90\u001b[0m     \u001b[38;5;28;01mreturn\u001b[39;00m np\u001b[38;5;241m.\u001b[39mdot(gval[\u001b[38;5;241m0\u001b[39m], pk)\n\u001b[1;32m     92\u001b[0m derphi0 \u001b[38;5;241m=\u001b[39m np\u001b[38;5;241m.\u001b[39mdot(gfk, pk)\n\u001b[0;32m---> 94\u001b[0m stp, fval, old_fval \u001b[38;5;241m=\u001b[39m \u001b[43mscalar_search_wolfe1\u001b[49m\u001b[43m(\u001b[49m\n\u001b[1;32m     95\u001b[0m \u001b[43m        \u001b[49m\u001b[43mphi\u001b[49m\u001b[43m,\u001b[49m\u001b[43m \u001b[49m\u001b[43mderphi\u001b[49m\u001b[43m,\u001b[49m\u001b[43m \u001b[49m\u001b[43mold_fval\u001b[49m\u001b[43m,\u001b[49m\u001b[43m \u001b[49m\u001b[43mold_old_fval\u001b[49m\u001b[43m,\u001b[49m\u001b[43m \u001b[49m\u001b[43mderphi0\u001b[49m\u001b[43m,\u001b[49m\n\u001b[1;32m     96\u001b[0m \u001b[43m        \u001b[49m\u001b[43mc1\u001b[49m\u001b[38;5;241;43m=\u001b[39;49m\u001b[43mc1\u001b[49m\u001b[43m,\u001b[49m\u001b[43m \u001b[49m\u001b[43mc2\u001b[49m\u001b[38;5;241;43m=\u001b[39;49m\u001b[43mc2\u001b[49m\u001b[43m,\u001b[49m\u001b[43m \u001b[49m\u001b[43mamax\u001b[49m\u001b[38;5;241;43m=\u001b[39;49m\u001b[43mamax\u001b[49m\u001b[43m,\u001b[49m\u001b[43m \u001b[49m\u001b[43mamin\u001b[49m\u001b[38;5;241;43m=\u001b[39;49m\u001b[43mamin\u001b[49m\u001b[43m,\u001b[49m\u001b[43m \u001b[49m\u001b[43mxtol\u001b[49m\u001b[38;5;241;43m=\u001b[39;49m\u001b[43mxtol\u001b[49m\u001b[43m)\u001b[49m\n\u001b[1;32m     98\u001b[0m \u001b[38;5;28;01mreturn\u001b[39;00m stp, fc[\u001b[38;5;241m0\u001b[39m], gc[\u001b[38;5;241m0\u001b[39m], fval, old_fval, gval[\u001b[38;5;241m0\u001b[39m]\n",
      "File \u001b[0;32m~/venvs/physics/lib/python3.10/site-packages/scipy/optimize/_linesearch.py:171\u001b[0m, in \u001b[0;36mscalar_search_wolfe1\u001b[0;34m(phi, derphi, phi0, old_phi0, derphi0, c1, c2, amax, amin, xtol)\u001b[0m\n\u001b[1;32m    168\u001b[0m maxiter \u001b[38;5;241m=\u001b[39m \u001b[38;5;241m100\u001b[39m\n\u001b[1;32m    170\u001b[0m dcsrch \u001b[38;5;241m=\u001b[39m DCSRCH(phi, derphi, c1, c2, xtol, amin, amax)\n\u001b[0;32m--> 171\u001b[0m stp, phi1, phi0, task \u001b[38;5;241m=\u001b[39m \u001b[43mdcsrch\u001b[49m\u001b[43m(\u001b[49m\n\u001b[1;32m    172\u001b[0m \u001b[43m    \u001b[49m\u001b[43malpha1\u001b[49m\u001b[43m,\u001b[49m\u001b[43m \u001b[49m\u001b[43mphi0\u001b[49m\u001b[38;5;241;43m=\u001b[39;49m\u001b[43mphi0\u001b[49m\u001b[43m,\u001b[49m\u001b[43m \u001b[49m\u001b[43mderphi0\u001b[49m\u001b[38;5;241;43m=\u001b[39;49m\u001b[43mderphi0\u001b[49m\u001b[43m,\u001b[49m\u001b[43m \u001b[49m\u001b[43mmaxiter\u001b[49m\u001b[38;5;241;43m=\u001b[39;49m\u001b[43mmaxiter\u001b[49m\n\u001b[1;32m    173\u001b[0m \u001b[43m\u001b[49m\u001b[43m)\u001b[49m\n\u001b[1;32m    175\u001b[0m \u001b[38;5;28;01mreturn\u001b[39;00m stp, phi1, phi0\n",
      "File \u001b[0;32m~/venvs/physics/lib/python3.10/site-packages/scipy/optimize/_dcsrch.py:256\u001b[0m, in \u001b[0;36mDCSRCH.__call__\u001b[0;34m(self, alpha1, phi0, derphi0, maxiter)\u001b[0m\n\u001b[1;32m    254\u001b[0m     alpha1 \u001b[38;5;241m=\u001b[39m stp\n\u001b[1;32m    255\u001b[0m     phi1 \u001b[38;5;241m=\u001b[39m \u001b[38;5;28mself\u001b[39m\u001b[38;5;241m.\u001b[39mphi(stp)\n\u001b[0;32m--> 256\u001b[0m     derphi1 \u001b[38;5;241m=\u001b[39m \u001b[38;5;28;43mself\u001b[39;49m\u001b[38;5;241;43m.\u001b[39;49m\u001b[43mderphi\u001b[49m\u001b[43m(\u001b[49m\u001b[43mstp\u001b[49m\u001b[43m)\u001b[49m\n\u001b[1;32m    257\u001b[0m \u001b[38;5;28;01melse\u001b[39;00m:\n\u001b[1;32m    258\u001b[0m     \u001b[38;5;28;01mbreak\u001b[39;00m\n",
      "File \u001b[0;32m~/venvs/physics/lib/python3.10/site-packages/scipy/optimize/_linesearch.py:88\u001b[0m, in \u001b[0;36mline_search_wolfe1.<locals>.derphi\u001b[0;34m(s)\u001b[0m\n\u001b[1;32m     87\u001b[0m \u001b[38;5;28;01mdef\u001b[39;00m \u001b[38;5;21mderphi\u001b[39m(s):\n\u001b[0;32m---> 88\u001b[0m     gval[\u001b[38;5;241m0\u001b[39m] \u001b[38;5;241m=\u001b[39m \u001b[43mfprime\u001b[49m\u001b[43m(\u001b[49m\u001b[43mxk\u001b[49m\u001b[43m \u001b[49m\u001b[38;5;241;43m+\u001b[39;49m\u001b[43m \u001b[49m\u001b[43ms\u001b[49m\u001b[38;5;241;43m*\u001b[39;49m\u001b[43mpk\u001b[49m\u001b[43m,\u001b[49m\u001b[43m \u001b[49m\u001b[38;5;241;43m*\u001b[39;49m\u001b[43margs\u001b[49m\u001b[43m)\u001b[49m\n\u001b[1;32m     89\u001b[0m     gc[\u001b[38;5;241m0\u001b[39m] \u001b[38;5;241m+\u001b[39m\u001b[38;5;241m=\u001b[39m \u001b[38;5;241m1\u001b[39m\n\u001b[1;32m     90\u001b[0m     \u001b[38;5;28;01mreturn\u001b[39;00m np\u001b[38;5;241m.\u001b[39mdot(gval[\u001b[38;5;241m0\u001b[39m], pk)\n",
      "File \u001b[0;32m~/venvs/physics/lib/python3.10/site-packages/scipy/optimize/_differentiable_functions.py:284\u001b[0m, in \u001b[0;36mScalarFunction.grad\u001b[0;34m(self, x)\u001b[0m\n\u001b[1;32m    282\u001b[0m \u001b[38;5;28;01mif\u001b[39;00m \u001b[38;5;129;01mnot\u001b[39;00m np\u001b[38;5;241m.\u001b[39marray_equal(x, \u001b[38;5;28mself\u001b[39m\u001b[38;5;241m.\u001b[39mx):\n\u001b[1;32m    283\u001b[0m     \u001b[38;5;28mself\u001b[39m\u001b[38;5;241m.\u001b[39m_update_x_impl(x)\n\u001b[0;32m--> 284\u001b[0m \u001b[38;5;28;43mself\u001b[39;49m\u001b[38;5;241;43m.\u001b[39;49m\u001b[43m_update_grad\u001b[49m\u001b[43m(\u001b[49m\u001b[43m)\u001b[49m\n\u001b[1;32m    285\u001b[0m \u001b[38;5;28;01mreturn\u001b[39;00m \u001b[38;5;28mself\u001b[39m\u001b[38;5;241m.\u001b[39mg\n",
      "File \u001b[0;32m~/venvs/physics/lib/python3.10/site-packages/scipy/optimize/_differentiable_functions.py:267\u001b[0m, in \u001b[0;36mScalarFunction._update_grad\u001b[0;34m(self)\u001b[0m\n\u001b[1;32m    265\u001b[0m \u001b[38;5;28;01mdef\u001b[39;00m \u001b[38;5;21m_update_grad\u001b[39m(\u001b[38;5;28mself\u001b[39m):\n\u001b[1;32m    266\u001b[0m     \u001b[38;5;28;01mif\u001b[39;00m \u001b[38;5;129;01mnot\u001b[39;00m \u001b[38;5;28mself\u001b[39m\u001b[38;5;241m.\u001b[39mg_updated:\n\u001b[0;32m--> 267\u001b[0m         \u001b[38;5;28;43mself\u001b[39;49m\u001b[38;5;241;43m.\u001b[39;49m\u001b[43m_update_grad_impl\u001b[49m\u001b[43m(\u001b[49m\u001b[43m)\u001b[49m\n\u001b[1;32m    268\u001b[0m         \u001b[38;5;28mself\u001b[39m\u001b[38;5;241m.\u001b[39mg_updated \u001b[38;5;241m=\u001b[39m \u001b[38;5;28;01mTrue\u001b[39;00m\n",
      "File \u001b[0;32m~/venvs/physics/lib/python3.10/site-packages/scipy/optimize/_differentiable_functions.py:181\u001b[0m, in \u001b[0;36mScalarFunction.__init__.<locals>.update_grad\u001b[0;34m()\u001b[0m\n\u001b[1;32m    179\u001b[0m \u001b[38;5;28mself\u001b[39m\u001b[38;5;241m.\u001b[39m_update_fun()\n\u001b[1;32m    180\u001b[0m \u001b[38;5;28mself\u001b[39m\u001b[38;5;241m.\u001b[39mngev \u001b[38;5;241m+\u001b[39m\u001b[38;5;241m=\u001b[39m \u001b[38;5;241m1\u001b[39m\n\u001b[0;32m--> 181\u001b[0m \u001b[38;5;28mself\u001b[39m\u001b[38;5;241m.\u001b[39mg \u001b[38;5;241m=\u001b[39m \u001b[43mapprox_derivative\u001b[49m\u001b[43m(\u001b[49m\u001b[43mfun_wrapped\u001b[49m\u001b[43m,\u001b[49m\u001b[43m \u001b[49m\u001b[38;5;28;43mself\u001b[39;49m\u001b[38;5;241;43m.\u001b[39;49m\u001b[43mx\u001b[49m\u001b[43m,\u001b[49m\u001b[43m \u001b[49m\u001b[43mf0\u001b[49m\u001b[38;5;241;43m=\u001b[39;49m\u001b[38;5;28;43mself\u001b[39;49m\u001b[38;5;241;43m.\u001b[39;49m\u001b[43mf\u001b[49m\u001b[43m,\u001b[49m\n\u001b[1;32m    182\u001b[0m \u001b[43m                           \u001b[49m\u001b[38;5;241;43m*\u001b[39;49m\u001b[38;5;241;43m*\u001b[39;49m\u001b[43mfinite_diff_options\u001b[49m\u001b[43m)\u001b[49m\n",
      "File \u001b[0;32m~/venvs/physics/lib/python3.10/site-packages/scipy/optimize/_numdiff.py:519\u001b[0m, in \u001b[0;36mapprox_derivative\u001b[0;34m(fun, x0, method, rel_step, abs_step, f0, bounds, sparsity, as_linear_operator, args, kwargs)\u001b[0m\n\u001b[1;32m    516\u001b[0m     use_one_sided \u001b[38;5;241m=\u001b[39m \u001b[38;5;28;01mFalse\u001b[39;00m\n\u001b[1;32m    518\u001b[0m \u001b[38;5;28;01mif\u001b[39;00m sparsity \u001b[38;5;129;01mis\u001b[39;00m \u001b[38;5;28;01mNone\u001b[39;00m:\n\u001b[0;32m--> 519\u001b[0m     \u001b[38;5;28;01mreturn\u001b[39;00m \u001b[43m_dense_difference\u001b[49m\u001b[43m(\u001b[49m\u001b[43mfun_wrapped\u001b[49m\u001b[43m,\u001b[49m\u001b[43m \u001b[49m\u001b[43mx0\u001b[49m\u001b[43m,\u001b[49m\u001b[43m \u001b[49m\u001b[43mf0\u001b[49m\u001b[43m,\u001b[49m\u001b[43m \u001b[49m\u001b[43mh\u001b[49m\u001b[43m,\u001b[49m\n\u001b[1;32m    520\u001b[0m \u001b[43m                             \u001b[49m\u001b[43muse_one_sided\u001b[49m\u001b[43m,\u001b[49m\u001b[43m \u001b[49m\u001b[43mmethod\u001b[49m\u001b[43m)\u001b[49m\n\u001b[1;32m    521\u001b[0m \u001b[38;5;28;01melse\u001b[39;00m:\n\u001b[1;32m    522\u001b[0m     \u001b[38;5;28;01mif\u001b[39;00m \u001b[38;5;129;01mnot\u001b[39;00m issparse(sparsity) \u001b[38;5;129;01mand\u001b[39;00m \u001b[38;5;28mlen\u001b[39m(sparsity) \u001b[38;5;241m==\u001b[39m \u001b[38;5;241m2\u001b[39m:\n",
      "File \u001b[0;32m~/venvs/physics/lib/python3.10/site-packages/scipy/optimize/_numdiff.py:590\u001b[0m, in \u001b[0;36m_dense_difference\u001b[0;34m(fun, x0, f0, h, use_one_sided, method)\u001b[0m\n\u001b[1;32m    588\u001b[0m     x \u001b[38;5;241m=\u001b[39m x0 \u001b[38;5;241m+\u001b[39m h_vecs[i]\n\u001b[1;32m    589\u001b[0m     dx \u001b[38;5;241m=\u001b[39m x[i] \u001b[38;5;241m-\u001b[39m x0[i]  \u001b[38;5;66;03m# Recompute dx as exactly representable number.\u001b[39;00m\n\u001b[0;32m--> 590\u001b[0m     df \u001b[38;5;241m=\u001b[39m \u001b[43mfun\u001b[49m\u001b[43m(\u001b[49m\u001b[43mx\u001b[49m\u001b[43m)\u001b[49m \u001b[38;5;241m-\u001b[39m f0\n\u001b[1;32m    591\u001b[0m \u001b[38;5;28;01melif\u001b[39;00m method \u001b[38;5;241m==\u001b[39m \u001b[38;5;124m'\u001b[39m\u001b[38;5;124m3-point\u001b[39m\u001b[38;5;124m'\u001b[39m \u001b[38;5;129;01mand\u001b[39;00m use_one_sided[i]:\n\u001b[1;32m    592\u001b[0m     x1 \u001b[38;5;241m=\u001b[39m x0 \u001b[38;5;241m+\u001b[39m h_vecs[i]\n",
      "File \u001b[0;32m~/venvs/physics/lib/python3.10/site-packages/scipy/optimize/_numdiff.py:470\u001b[0m, in \u001b[0;36mapprox_derivative.<locals>.fun_wrapped\u001b[0;34m(x)\u001b[0m\n\u001b[1;32m    467\u001b[0m \u001b[38;5;28;01mif\u001b[39;00m xp\u001b[38;5;241m.\u001b[39misdtype(x\u001b[38;5;241m.\u001b[39mdtype, \u001b[38;5;124m\"\u001b[39m\u001b[38;5;124mreal floating\u001b[39m\u001b[38;5;124m\"\u001b[39m):\n\u001b[1;32m    468\u001b[0m     x \u001b[38;5;241m=\u001b[39m xp\u001b[38;5;241m.\u001b[39mastype(x, x0\u001b[38;5;241m.\u001b[39mdtype)\n\u001b[0;32m--> 470\u001b[0m f \u001b[38;5;241m=\u001b[39m np\u001b[38;5;241m.\u001b[39matleast_1d(\u001b[43mfun\u001b[49m\u001b[43m(\u001b[49m\u001b[43mx\u001b[49m\u001b[43m,\u001b[49m\u001b[43m \u001b[49m\u001b[38;5;241;43m*\u001b[39;49m\u001b[43margs\u001b[49m\u001b[43m,\u001b[49m\u001b[43m \u001b[49m\u001b[38;5;241;43m*\u001b[39;49m\u001b[38;5;241;43m*\u001b[39;49m\u001b[43mkwargs\u001b[49m\u001b[43m)\u001b[49m)\n\u001b[1;32m    471\u001b[0m \u001b[38;5;28;01mif\u001b[39;00m f\u001b[38;5;241m.\u001b[39mndim \u001b[38;5;241m>\u001b[39m \u001b[38;5;241m1\u001b[39m:\n\u001b[1;32m    472\u001b[0m     \u001b[38;5;28;01mraise\u001b[39;00m \u001b[38;5;167;01mRuntimeError\u001b[39;00m(\u001b[38;5;124m\"\u001b[39m\u001b[38;5;124m`fun` return value has \u001b[39m\u001b[38;5;124m\"\u001b[39m\n\u001b[1;32m    473\u001b[0m                        \u001b[38;5;124m\"\u001b[39m\u001b[38;5;124mmore than 1 dimension.\u001b[39m\u001b[38;5;124m\"\u001b[39m)\n",
      "File \u001b[0;32m~/venvs/physics/lib/python3.10/site-packages/scipy/optimize/_differentiable_functions.py:145\u001b[0m, in \u001b[0;36mScalarFunction.__init__.<locals>.fun_wrapped\u001b[0;34m(x)\u001b[0m\n\u001b[1;32m    141\u001b[0m \u001b[38;5;28mself\u001b[39m\u001b[38;5;241m.\u001b[39mnfev \u001b[38;5;241m+\u001b[39m\u001b[38;5;241m=\u001b[39m \u001b[38;5;241m1\u001b[39m\n\u001b[1;32m    142\u001b[0m \u001b[38;5;66;03m# Send a copy because the user may overwrite it.\u001b[39;00m\n\u001b[1;32m    143\u001b[0m \u001b[38;5;66;03m# Overwriting results in undefined behaviour because\u001b[39;00m\n\u001b[1;32m    144\u001b[0m \u001b[38;5;66;03m# fun(self.x) will change self.x, with the two no longer linked.\u001b[39;00m\n\u001b[0;32m--> 145\u001b[0m fx \u001b[38;5;241m=\u001b[39m \u001b[43mfun\u001b[49m\u001b[43m(\u001b[49m\u001b[43mnp\u001b[49m\u001b[38;5;241;43m.\u001b[39;49m\u001b[43mcopy\u001b[49m\u001b[43m(\u001b[49m\u001b[43mx\u001b[49m\u001b[43m)\u001b[49m\u001b[43m,\u001b[49m\u001b[43m \u001b[49m\u001b[38;5;241;43m*\u001b[39;49m\u001b[43margs\u001b[49m\u001b[43m)\u001b[49m\n\u001b[1;32m    146\u001b[0m \u001b[38;5;66;03m# Make sure the function returns a true scalar\u001b[39;00m\n\u001b[1;32m    147\u001b[0m \u001b[38;5;28;01mif\u001b[39;00m \u001b[38;5;129;01mnot\u001b[39;00m np\u001b[38;5;241m.\u001b[39misscalar(fx):\n",
      "Cell \u001b[0;32mIn[387], line 28\u001b[0m, in \u001b[0;36m<lambda>\u001b[0;34m(zeta)\u001b[0m\n\u001b[1;32m     26\u001b[0m \u001b[38;5;28mprint\u001b[39m(r)\n\u001b[1;32m     27\u001b[0m Rs \u001b[38;5;241m=\u001b[39m np\u001b[38;5;241m.\u001b[39marray([[\u001b[38;5;241m0\u001b[39m, \u001b[38;5;241m0\u001b[39m, \u001b[38;5;241m0\u001b[39m], [r, \u001b[38;5;241m0\u001b[39m, \u001b[38;5;241m0\u001b[39m]])\n\u001b[0;32m---> 28\u001b[0m energies\u001b[38;5;241m.\u001b[39mappend(minimize(\u001b[38;5;28;01mlambda\u001b[39;00m zeta: \u001b[43mtotal_energy\u001b[49m\u001b[43m(\u001b[49m\u001b[43mzeta\u001b[49m\u001b[43m,\u001b[49m\u001b[43m \u001b[49m\u001b[43mRs\u001b[49m\u001b[43m)\u001b[49m, zeta)\u001b[38;5;241m.\u001b[39mfun)\n",
      "Cell \u001b[0;32mIn[387], line 12\u001b[0m, in \u001b[0;36mtotal_energy\u001b[0;34m(zeta, Rs)\u001b[0m\n\u001b[1;32m      6\u001b[0m vec \u001b[38;5;241m=\u001b[39m np\u001b[38;5;241m.\u001b[39marray([Cr, Cs])\n\u001b[1;32m      7\u001b[0m hamilltonian_1e \u001b[38;5;241m=\u001b[39m (\n\u001b[1;32m      8\u001b[0m     kinetic_energy_matrix(zeta, Rs)\n\u001b[1;32m      9\u001b[0m     \u001b[38;5;241m+\u001b[39m coulomb_from_ion_matrix(zeta, Rs, \u001b[38;5;241m0\u001b[39m)\n\u001b[1;32m     10\u001b[0m     \u001b[38;5;241m+\u001b[39m coulomb_from_ion_matrix(zeta, Rs, \u001b[38;5;241m1\u001b[39m)\n\u001b[1;32m     11\u001b[0m )\n\u001b[0;32m---> 12\u001b[0m hamilltonian_2e \u001b[38;5;241m=\u001b[39m \u001b[43mee_coulomb_matrix\u001b[49m\u001b[43m(\u001b[49m\u001b[43mzeta\u001b[49m\u001b[43m,\u001b[49m\u001b[43m \u001b[49m\u001b[43mRs\u001b[49m\u001b[43m,\u001b[49m\u001b[43m \u001b[49m\u001b[43mCr\u001b[49m\u001b[43m,\u001b[49m\u001b[43m \u001b[49m\u001b[43mCs\u001b[49m\u001b[43m)\u001b[49m\n\u001b[1;32m     14\u001b[0m energy_1e \u001b[38;5;241m=\u001b[39m np\u001b[38;5;241m.\u001b[39mdot(vec, np\u001b[38;5;241m.\u001b[39mdot(hamilltonian_1e, vec))\n\u001b[1;32m     15\u001b[0m energy_2e \u001b[38;5;241m=\u001b[39m np\u001b[38;5;241m.\u001b[39mdot(vec, np\u001b[38;5;241m.\u001b[39mdot(hamilltonian_2e, vec))\n",
      "Cell \u001b[0;32mIn[384], line 8\u001b[0m, in \u001b[0;36mee_coulomb_matrix\u001b[0;34m(scale, Rs, Cr, Cs)\u001b[0m\n\u001b[1;32m      6\u001b[0m         \u001b[38;5;28;01mfor\u001b[39;00m r \u001b[38;5;129;01min\u001b[39;00m \u001b[38;5;28mrange\u001b[39m(\u001b[38;5;241m2\u001b[39m):\n\u001b[1;32m      7\u001b[0m             \u001b[38;5;28;01mfor\u001b[39;00m s \u001b[38;5;129;01min\u001b[39;00m \u001b[38;5;28mrange\u001b[39m(\u001b[38;5;241m2\u001b[39m):\n\u001b[0;32m----> 8\u001b[0m                 result \u001b[38;5;241m+\u001b[39m\u001b[38;5;241m=\u001b[39m Cr \u001b[38;5;241m*\u001b[39m Cs \u001b[38;5;241m*\u001b[39m \u001b[43mee_coulomb\u001b[49m\u001b[43m(\u001b[49m\u001b[43mscale\u001b[49m\u001b[43m,\u001b[49m\u001b[43m \u001b[49m\u001b[43mRs\u001b[49m\u001b[43m[\u001b[49m\u001b[43mp\u001b[49m\u001b[43m]\u001b[49m\u001b[43m,\u001b[49m\u001b[43m \u001b[49m\u001b[43mRs\u001b[49m\u001b[43m[\u001b[49m\u001b[43mq\u001b[49m\u001b[43m]\u001b[49m\u001b[43m,\u001b[49m\u001b[43m \u001b[49m\u001b[43mRs\u001b[49m\u001b[43m[\u001b[49m\u001b[43mr\u001b[49m\u001b[43m]\u001b[49m\u001b[43m,\u001b[49m\u001b[43m \u001b[49m\u001b[43mRs\u001b[49m\u001b[43m[\u001b[49m\u001b[43ms\u001b[49m\u001b[43m]\u001b[49m\u001b[43m)\u001b[49m\n\u001b[1;32m      9\u001b[0m         mat[p, q] \u001b[38;5;241m=\u001b[39m result\n\u001b[1;32m     10\u001b[0m \u001b[38;5;28;01mreturn\u001b[39;00m mat\n",
      "Cell \u001b[0;32mIn[381], line 18\u001b[0m, in \u001b[0;36mee_coulomb\u001b[0;34m(scale, RA, RB, RC, RD)\u001b[0m\n\u001b[1;32m     16\u001b[0m Salpha \u001b[38;5;241m=\u001b[39m GaussianOverlapFunction\u001b[38;5;241m.\u001b[39mS(alpha, alpha, RA, RA)\n\u001b[1;32m     17\u001b[0m Sbeta \u001b[38;5;241m=\u001b[39m GaussianOverlapFunction\u001b[38;5;241m.\u001b[39mS(beta, beta, RB, RB)\n\u001b[0;32m---> 18\u001b[0m Sgamma \u001b[38;5;241m=\u001b[39m \u001b[43mGaussianOverlapFunction\u001b[49m\u001b[38;5;241;43m.\u001b[39;49m\u001b[43mS\u001b[49m\u001b[43m(\u001b[49m\u001b[43mgamma\u001b[49m\u001b[43m,\u001b[49m\u001b[43m \u001b[49m\u001b[43mgamma\u001b[49m\u001b[43m,\u001b[49m\u001b[43m \u001b[49m\u001b[43mRC\u001b[49m\u001b[43m,\u001b[49m\u001b[43m \u001b[49m\u001b[43mRC\u001b[49m\u001b[43m)\u001b[49m\n\u001b[1;32m     19\u001b[0m Sdelta \u001b[38;5;241m=\u001b[39m GaussianOverlapFunction\u001b[38;5;241m.\u001b[39mS(delta, delta, RD, RD)\n\u001b[1;32m     20\u001b[0m result \u001b[38;5;241m+\u001b[39m\u001b[38;5;241m=\u001b[39m (\n\u001b[1;32m     21\u001b[0m     c_i\n\u001b[1;32m     22\u001b[0m     \u001b[38;5;241m*\u001b[39m c_j\n\u001b[0;32m   (...)\u001b[0m\n\u001b[1;32m     29\u001b[0m     )\n\u001b[1;32m     30\u001b[0m ) \u001b[38;5;241m/\u001b[39m np\u001b[38;5;241m.\u001b[39msqrt(Salpha \u001b[38;5;241m*\u001b[39m Sbeta \u001b[38;5;241m*\u001b[39m Sgamma \u001b[38;5;241m*\u001b[39m Sdelta)\n",
      "File \u001b[0;32m~/physics/molecule/examples/../src/gaussian_overlap_function.py:56\u001b[0m, in \u001b[0;36mGaussianOverlapFunction.S\u001b[0;34m(alpha, beta, RA, RB)\u001b[0m\n\u001b[1;32m     54\u001b[0m \u001b[38;5;129m@staticmethod\u001b[39m\n\u001b[1;32m     55\u001b[0m \u001b[38;5;28;01mdef\u001b[39;00m \u001b[38;5;21mS\u001b[39m(alpha, beta, RA, RB):\n\u001b[0;32m---> 56\u001b[0m     \u001b[38;5;28;01mreturn\u001b[39;00m (np\u001b[38;5;241m.\u001b[39mpi \u001b[38;5;241m/\u001b[39m (alpha \u001b[38;5;241m+\u001b[39m beta)) \u001b[38;5;241m*\u001b[39m\u001b[38;5;241m*\u001b[39m (\u001b[38;5;241m3\u001b[39m \u001b[38;5;241m/\u001b[39m \u001b[38;5;241m2\u001b[39m) \u001b[38;5;241m*\u001b[39m \u001b[43mnp\u001b[49m\u001b[38;5;241;43m.\u001b[39;49m\u001b[43mexp\u001b[49m\u001b[43m(\u001b[49m\n\u001b[1;32m     57\u001b[0m \u001b[43m        \u001b[49m\u001b[38;5;241;43m-\u001b[39;49m\u001b[43malpha\u001b[49m\u001b[43m \u001b[49m\u001b[38;5;241;43m*\u001b[39;49m\u001b[43m \u001b[49m\u001b[43mbeta\u001b[49m\u001b[43m \u001b[49m\u001b[38;5;241;43m/\u001b[39;49m\u001b[43m \u001b[49m\u001b[43m(\u001b[49m\u001b[43malpha\u001b[49m\u001b[43m \u001b[49m\u001b[38;5;241;43m+\u001b[39;49m\u001b[43m \u001b[49m\u001b[43mbeta\u001b[49m\u001b[43m)\u001b[49m\u001b[43m \u001b[49m\u001b[38;5;241;43m*\u001b[39;49m\u001b[43m \u001b[49m\u001b[43mnp\u001b[49m\u001b[38;5;241;43m.\u001b[39;49m\u001b[43mlinalg\u001b[49m\u001b[38;5;241;43m.\u001b[39;49m\u001b[43mnorm\u001b[49m\u001b[43m(\u001b[49m\u001b[43mRA\u001b[49m\u001b[43m \u001b[49m\u001b[38;5;241;43m-\u001b[39;49m\u001b[43m \u001b[49m\u001b[43mRB\u001b[49m\u001b[43m)\u001b[49m\u001b[43m \u001b[49m\u001b[38;5;241;43m*\u001b[39;49m\u001b[38;5;241;43m*\u001b[39;49m\u001b[43m \u001b[49m\u001b[38;5;241;43m2\u001b[39;49m\n\u001b[1;32m     58\u001b[0m \u001b[43m    \u001b[49m\u001b[43m)\u001b[49m\n",
      "\u001b[0;31mKeyboardInterrupt\u001b[0m: "
     ]
    }
   ],
   "source": [
    "zeta = 1.0\n",
    "\n",
    "\n",
    "def total_energy(zeta, Rs):\n",
    "    Cr, Cs = 1.0 / np.sqrt(2), 1.0 / np.sqrt(2)\n",
    "    vec = np.array([Cr, Cs])\n",
    "    hamilltonian_1e = (\n",
    "        kinetic_energy_matrix(zeta, Rs)\n",
    "        + coulomb_from_ion_matrix(zeta, Rs, 0)\n",
    "        + coulomb_from_ion_matrix(zeta, Rs, 1)\n",
    "    )\n",
    "    hamilltonian_2e = ee_coulomb_matrix(zeta, Rs, Cr, Cs)\n",
    "\n",
    "    energy_1e = np.dot(vec, np.dot(hamilltonian_1e, vec))\n",
    "    energy_2e = np.dot(vec, np.dot(hamilltonian_2e, vec))\n",
    "    energy_ion_ion = 1 / np.linalg.norm(Rs[0] - Rs[1])\n",
    "\n",
    "    energy = 2 * energy_1e + energy_2e + energy_ion_ion\n",
    "\n",
    "    return energy\n",
    "\n",
    "\n",
    "rs = np.linspace(0.5, 5.0, 100)\n",
    "energies = []\n",
    "for r in np.linspace(0.5, 5.0, 100):\n",
    "    print(r)\n",
    "    Rs = np.array([[0, 0, 0], [r, 0, 0]])\n",
    "    energies.append(minimize(lambda zeta: total_energy(zeta, Rs), zeta).fun)"
   ]
  },
  {
   "cell_type": "code",
   "execution_count": null,
   "metadata": {},
   "outputs": [
    {
     "data": {
      "text/plain": [
       "[<matplotlib.lines.Line2D at 0x75a0f3e0c670>]"
      ]
     },
     "execution_count": 177,
     "metadata": {},
     "output_type": "execute_result"
    },
    {
     "data": {
      "image/png": "[encoded data removed]",
      "text/plain": [
       "<Figure size 640x480 with 1 Axes>"
      ]
     },
     "metadata": {},
     "output_type": "display_data"
    }
   ],
   "source": [
    "fig, ax = plt.subplots()\n",
    "ax.plot(rs, energies)"
   ]
  },
  {
   "cell_type": "code",
   "execution_count": null,
   "metadata": {},
   "outputs": [],
   "source": [
    "Rs = [np.array([0, 0, 0]), np.array([0, 0, 0])]\n",
    "k = kinetic_energy(zeta, Rs[0], Rs[1])"
   ]
  },
  {
   "cell_type": "code",
   "execution_count": null,
   "metadata": {},
   "outputs": [],
   "source": [
    "v = coulomb_from_ion(zeta, Rs[0], Rs[1], Rs[0])"
   ]
  },
  {
   "cell_type": "code",
   "execution_count": null,
   "metadata": {},
   "outputs": [
    {
     "data": {
      "text/plain": [
       "-2.968253656869835"
      ]
     },
     "execution_count": 180,
     "metadata": {},
     "output_type": "execute_result"
    }
   ],
   "source": [
    "2 * k + 4 * v"
   ]
  },
  {
   "cell_type": "code",
   "execution_count": null,
   "metadata": {},
   "outputs": [
    {
     "ename": "TypeError",
     "evalue": "total_energy() missing 1 required positional argument: 'Rs'",
     "output_type": "error",
     "traceback": [
      "\u001b[0;31m---------------------------------------------------------------------------\u001b[0m",
      "\u001b[0;31mTypeError\u001b[0m                                 Traceback (most recent call last)",
      "Cell \u001b[0;32mIn[181], line 2\u001b[0m\n\u001b[1;32m      1\u001b[0m zetas \u001b[38;5;241m=\u001b[39m np\u001b[38;5;241m.\u001b[39mlinspace(\u001b[38;5;241m0.5\u001b[39m, \u001b[38;5;241m2\u001b[39m, \u001b[38;5;241m100\u001b[39m)\n\u001b[0;32m----> 2\u001b[0m energies \u001b[38;5;241m=\u001b[39m [total_energy(zeta) \u001b[38;5;28;01mfor\u001b[39;00m zeta \u001b[38;5;129;01min\u001b[39;00m zetas]\n\u001b[1;32m      3\u001b[0m fig, ax \u001b[38;5;241m=\u001b[39m plt\u001b[38;5;241m.\u001b[39msubplots()\n\u001b[1;32m      4\u001b[0m ax\u001b[38;5;241m.\u001b[39mplot(zetas, energies)\n",
      "Cell \u001b[0;32mIn[181], line 2\u001b[0m, in \u001b[0;36m<listcomp>\u001b[0;34m(.0)\u001b[0m\n\u001b[1;32m      1\u001b[0m zetas \u001b[38;5;241m=\u001b[39m np\u001b[38;5;241m.\u001b[39mlinspace(\u001b[38;5;241m0.5\u001b[39m, \u001b[38;5;241m2\u001b[39m, \u001b[38;5;241m100\u001b[39m)\n\u001b[0;32m----> 2\u001b[0m energies \u001b[38;5;241m=\u001b[39m [\u001b[43mtotal_energy\u001b[49m\u001b[43m(\u001b[49m\u001b[43mzeta\u001b[49m\u001b[43m)\u001b[49m \u001b[38;5;28;01mfor\u001b[39;00m zeta \u001b[38;5;129;01min\u001b[39;00m zetas]\n\u001b[1;32m      3\u001b[0m fig, ax \u001b[38;5;241m=\u001b[39m plt\u001b[38;5;241m.\u001b[39msubplots()\n\u001b[1;32m      4\u001b[0m ax\u001b[38;5;241m.\u001b[39mplot(zetas, energies)\n",
      "\u001b[0;31mTypeError\u001b[0m: total_energy() missing 1 required positional argument: 'Rs'"
     ]
    }
   ],
   "source": [
    "zetas = np.linspace(0.5, 2, 100)\n",
    "energies = [total_energy(zeta) for zeta in zetas]\n",
    "fig, ax = plt.subplots()\n",
    "ax.plot(zetas, energies)"
   ]
  },
  {
   "cell_type": "code",
   "execution_count": null,
   "metadata": {},
   "outputs": [
    {
     "name": "stderr",
     "output_type": "stream",
     "text": [
      "/tmp/ipykernel_286174/2909821671.py:21: DeprecationWarning: Conversion of an array with ndim > 0 to a scalar is deprecated, and will error in future. Ensure you extract a single element from your array before performing this operation. (Deprecated NumPy 1.25.)\n",
      "  mat[p, q] = kinetic_energy(scale, Rs[p], Rs[q])\n",
      "/tmp/ipykernel_286174/2909821671.py:45: DeprecationWarning: Conversion of an array with ndim > 0 to a scalar is deprecated, and will error in future. Ensure you extract a single element from your array before performing this operation. (Deprecated NumPy 1.25.)\n",
      "  mat[p, q] = coulomb_from_ion(scale, Rs[p], Rs[q], Rs[ion_num])\n",
      "/tmp/ipykernel_286174/2909821671.py:89: DeprecationWarning: Conversion of an array with ndim > 0 to a scalar is deprecated, and will error in future. Ensure you extract a single element from your array before performing this operation. (Deprecated NumPy 1.25.)\n",
      "  mat[p, q] = result\n"
     ]
    },
    {
     "data": {
      "text/plain": [
       "  message: Optimization terminated successfully.\n",
       "  success: True\n",
       "   status: 0\n",
       "      fun: -1.337182550138181\n",
       "        x: [ 7.482e-01]\n",
       "      nit: 6\n",
       "      jac: [ 0.000e+00]\n",
       " hess_inv: [[ 1.717e-01]]\n",
       "     nfev: 16\n",
       "     njev: 8"
      ]
     },
     "execution_count": 137,
     "metadata": {},
     "output_type": "execute_result"
    }
   ],
   "source": [
    "result = minimize(total_energy, 1.0)\n",
    "result"
   ]
  },
  {
   "cell_type": "code",
   "execution_count": null,
   "metadata": {},
   "outputs": [
    {
     "data": {
      "text/plain": [
       "array([0.74818842])"
      ]
     },
     "execution_count": 138,
     "metadata": {},
     "output_type": "execute_result"
    }
   ],
   "source": [
    "result.x"
   ]
  },
  {
   "cell_type": "code",
   "execution_count": null,
   "metadata": {},
   "outputs": [
    {
     "data": {
      "text/plain": [
       "array([2.22884146, 0.15423817, 0.10986104, 0.44487558, 0.40597907,\n",
       "       0.53517486])"
      ]
     },
     "execution_count": 139,
     "metadata": {},
     "output_type": "execute_result"
    }
   ],
   "source": [
    "optimized_params_1s"
   ]
  },
  {
   "cell_type": "code",
   "execution_count": null,
   "metadata": {},
   "outputs": [
    {
     "name": "stderr",
     "output_type": "stream",
     "text": [
      "/home/yamamoto/physics/molecule/examples/../src/gaussian_overlap_function.py:56: RuntimeWarning: divide by zero encountered in scalar divide\n",
      "  return (np.pi / (alpha + beta)) ** (3 / 2) * np.exp(\n",
      "/home/yamamoto/physics/molecule/examples/../src/gaussian_overlap_function.py:57: RuntimeWarning: invalid value encountered in scalar divide\n",
      "  -alpha * beta / (alpha + beta) * np.linalg.norm(RA - RB) ** 2\n",
      "/home/yamamoto/physics/molecule/examples/../src/gaussian_overlap_function.py:14: RuntimeWarning: invalid value encountered in scalar divide\n",
      "  alpha\n",
      "/home/yamamoto/physics/molecule/examples/../src/gaussian_overlap_function.py:17: RuntimeWarning: invalid value encountered in scalar divide\n",
      "  * (6 - 4 * alpha * beta / (alpha + beta) * np.linalg.norm(RA - RB) ** 2)\n",
      "/home/yamamoto/physics/molecule/examples/../src/gaussian_overlap_function.py:18: RuntimeWarning: divide by zero encountered in scalar divide\n",
      "  * (np.pi / (alpha + beta)) ** (3 / 2)\n",
      "/home/yamamoto/physics/molecule/examples/../src/gaussian_overlap_function.py:19: RuntimeWarning: invalid value encountered in scalar divide\n",
      "  * np.exp(-alpha * beta * np.linalg.norm(RA - RB) ** 2 / (alpha + beta))\n",
      "/home/yamamoto/physics/molecule/examples/../src/gaussian_overlap_function.py:25: RuntimeWarning: invalid value encountered in divide\n",
      "  RP = (alpha * RA + beta * RB) / (alpha + beta)\n",
      "/home/yamamoto/physics/molecule/examples/../src/gaussian_overlap_function.py:27: RuntimeWarning: divide by zero encountered in scalar divide\n",
      "  -2\n",
      "/home/yamamoto/physics/molecule/examples/../src/gaussian_overlap_function.py:30: RuntimeWarning: invalid value encountered in scalar divide\n",
      "  * np.exp(-alpha * beta * np.linalg.norm(RA - RB) ** 2 / (alpha + beta))\n",
      "/home/yamamoto/physics/molecule/examples/../src/gaussian_overlap_function.py:36: RuntimeWarning: invalid value encountered in divide\n",
      "  RP = (alpha * RA + gamma * RC) / (alpha + gamma)\n",
      "/home/yamamoto/physics/molecule/examples/../src/gaussian_overlap_function.py:37: RuntimeWarning: invalid value encountered in divide\n",
      "  RQ = (beta * RB + delta * RD) / (beta + delta)\n",
      "/home/yamamoto/physics/molecule/examples/../src/gaussian_overlap_function.py:39: RuntimeWarning: divide by zero encountered in scalar divide\n",
      "  2\n",
      "/home/yamamoto/physics/molecule/examples/../src/gaussian_overlap_function.py:43: RuntimeWarning: invalid value encountered in scalar divide\n",
      "  -alpha * gamma * np.linalg.norm(RA - RC) ** 2 / (alpha + gamma)\n",
      "/home/yamamoto/physics/molecule/examples/../src/gaussian_overlap_function.py:44: RuntimeWarning: invalid value encountered in scalar divide\n",
      "  - beta * delta * np.linalg.norm(RB - RD) ** 2 / (beta + delta)\n"
     ]
    }
   ],
   "source": [
    "results = []\n",
    "scales = np.linspace(0.0, 1.5, 100)\n",
    "for scale in scales:\n",
    "    results.append(total_energy(scale))"
   ]
  },
  {
   "cell_type": "code",
   "execution_count": null,
   "metadata": {},
   "outputs": [
    {
     "data": {
      "text/plain": [
       "[<matplotlib.lines.Line2D at 0x75a0f4e1d3f0>]"
      ]
     },
     "execution_count": 141,
     "metadata": {},
     "output_type": "execute_result"
    },
    {
     "data": {
      "image/png": "[encoded data removed]",
      "text/plain": [
       "<Figure size 640x480 with 1 Axes>"
      ]
     },
     "metadata": {},
     "output_type": "display_data"
    }
   ],
   "source": [
    "fig, ax = plt.subplots()\n",
    "ax.plot(scales, results)"
   ]
  },
  {
   "cell_type": "code",
   "execution_count": null,
   "metadata": {},
   "outputs": [
    {
     "data": {
      "text/plain": [
       "0.34377242342723485"
      ]
     },
     "execution_count": 142,
     "metadata": {},
     "output_type": "execute_result"
    }
   ],
   "source": [
    "optimized_params_1s[0] * optimized_params_1s[1]"
   ]
  },
  {
   "cell_type": "code",
   "execution_count": null,
   "metadata": {},
   "outputs": [
    {
     "data": {
      "text/plain": [
       "[<matplotlib.lines.Line2D at 0x75a0f4d9dcc0>]"
      ]
     },
     "execution_count": 143,
     "metadata": {},
     "output_type": "execute_result"
    },
    {
     "data": {
      "image/png": "[encoded data removed]",
      "text/plain": [
       "<Figure size 640x480 with 1 Axes>"
      ]
     },
     "metadata": {},
     "output_type": "display_data"
    }
   ],
   "source": [
    "approximator = GaussianApproximator2s2p(optimized_params_2s2p, 1.0)\n",
    "r = np.linspace(0.1, 10, 1000)\n",
    "y2s = approximator.phi_approx_g1s(optimized_params_2s2p, r)\n",
    "y2p = approximator.phi_approx_g2p(optimized_params_2s2p, r)\n",
    "fig, ax = plt.subplots()\n",
    "ax.plot(r, y2s)\n",
    "ax.plot(r, y2p)"
   ]
  }
 ],
 "metadata": {
  "kernelspec": {
   "display_name": "physics",
   "language": "python",
   "name": "python3"
  },
  "language_info": {
   "codemirror_mode": {
    "name": "ipython",
    "version": 3
   },
   "file_extension": ".py",
   "mimetype": "text/x-python",
   "name": "python",
   "nbconvert_exporter": "python",
   "pygments_lexer": "ipython3",
   "version": "3.10.12"
  }
 },
 "nbformat": 4,
 "nbformat_minor": 2
}
