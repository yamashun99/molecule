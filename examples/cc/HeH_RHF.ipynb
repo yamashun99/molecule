{
 "cells": [
  {
   "cell_type": "code",
   "execution_count": 1,
   "metadata": {},
   "outputs": [],
   "source": [
    "import sys\n",
    "\n",
    "sys.path.append(\"../../src/stong_core_cython\")\n",
    "sys.path.append(\"../../\")"
   ]
  },
  {
   "cell_type": "code",
   "execution_count": 2,
   "metadata": {},
   "outputs": [],
   "source": [
    "import numpy as np\n",
    "import pandas as pd\n",
    "import matplotlib.pyplot as plt\n",
    "import restricted_hartree_fock\n",
    "import basis_data\n",
    "from scipy.constants import physical_constants\n",
    "\n",
    "from atom import *\n",
    "from restricted_hartree_fock import *\n",
    "from basis_data import *\n",
    "\n",
    "hartree_to_ev_factor = physical_constants[\"Hartree energy in eV\"][0]\n",
    "df = pd.read_csv(\"../make_base/sto_ng/sto_3g.csv\")\n",
    "df_zetas = pd.read_csv(\"./zetas.csv\")"
   ]
  },
  {
   "cell_type": "code",
   "execution_count": 3,
   "metadata": {},
   "outputs": [
    {
     "name": "stdout",
     "output_type": "stream",
     "text": [
      "Start SCF for Molecule(atoms=[Atom(symbol=He, atomic_number=2, position=[0. 0. 0.]), Atom(symbol=H, atomic_number=1, position=[0.     0.     1.4632])])\n",
      "{'energy': -4.227636214343578, 'P': array([[0.64296834, 0.27016922],\n",
      "       [0.27016922, 0.11352255]]), 'val': array([-1.59745575, -0.06138677]), 'vec': array([[-0.80185307,  0.78223141],\n",
      "       [-0.33693108, -1.0683313 ]])}\n"
     ]
    },
    {
     "data": {
      "text/plain": [
       "-2.860769073829636"
      ]
     },
     "execution_count": 3,
     "metadata": {},
     "output_type": "execute_result"
    }
   ],
   "source": [
    "r = 1.4632\n",
    "atoms = [Atom(\"He\", np.array([0.0, 0.0, 0.0])), Atom(\"H\", np.array([0.0, 0.0, r]))]\n",
    "basis_data = {\n",
    "    \"He\": create_basis_data(df, [2.0925], 1, 0),\n",
    "    \"H\": create_basis_data(df, [1.24], 1, 0),\n",
    "}\n",
    "molecule = Molecule(atoms=atoms, basis=basis_data, charge=1)\n",
    "hartreefock = RestrictedHartreeFock(molecule, max_iter=10000, tol=1e-10)\n",
    "hartreefock.scf()\n",
    "hartreefock.calculate_total_energy()\n",
    "results = hartreefock.get_results()\n",
    "print(results)\n",
    "results[\"energy\"] + 2.0 / r"
   ]
  },
  {
   "cell_type": "code",
   "execution_count": 4,
   "metadata": {},
   "outputs": [
    {
     "name": "stdout",
     "output_type": "stream",
     "text": [
      "Start SCF for Molecule(atoms=[Atom(symbol=He, atomic_number=2, position=[0. 0. 0.]), Atom(symbol=H, atomic_number=1, position=[0.  0.  0.5])])\n",
      "Start SCF for Molecule(atoms=[Atom(symbol=He, atomic_number=2, position=[0. 0. 0.]), Atom(symbol=H, atomic_number=1, position=[0.         0.         0.55555556])])\n",
      "Start SCF for Molecule(atoms=[Atom(symbol=He, atomic_number=2, position=[0. 0. 0.]), Atom(symbol=H, atomic_number=1, position=[0.         0.         0.61111111])])\n",
      "Start SCF for Molecule(atoms=[Atom(symbol=He, atomic_number=2, position=[0. 0. 0.]), Atom(symbol=H, atomic_number=1, position=[0.         0.         0.66666667])])\n",
      "Start SCF for Molecule(atoms=[Atom(symbol=He, atomic_number=2, position=[0. 0. 0.]), Atom(symbol=H, atomic_number=1, position=[0.         0.         0.72222222])])\n",
      "Start SCF for Molecule(atoms=[Atom(symbol=He, atomic_number=2, position=[0. 0. 0.]), Atom(symbol=H, atomic_number=1, position=[0.         0.         0.77777778])])\n",
      "Start SCF for Molecule(atoms=[Atom(symbol=He, atomic_number=2, position=[0. 0. 0.]), Atom(symbol=H, atomic_number=1, position=[0.         0.         0.83333333])])\n",
      "Start SCF for Molecule(atoms=[Atom(symbol=He, atomic_number=2, position=[0. 0. 0.]), Atom(symbol=H, atomic_number=1, position=[0.         0.         0.88888889])])\n",
      "Start SCF for Molecule(atoms=[Atom(symbol=He, atomic_number=2, position=[0. 0. 0.]), Atom(symbol=H, atomic_number=1, position=[0.         0.         0.94444444])])\n",
      "Start SCF for Molecule(atoms=[Atom(symbol=He, atomic_number=2, position=[0. 0. 0.]), Atom(symbol=H, atomic_number=1, position=[0. 0. 1.])])\n",
      "Start SCF for Molecule(atoms=[Atom(symbol=He, atomic_number=2, position=[0. 0. 0.]), Atom(symbol=H, atomic_number=1, position=[0.         0.         1.05555556])])\n",
      "Start SCF for Molecule(atoms=[Atom(symbol=He, atomic_number=2, position=[0. 0. 0.]), Atom(symbol=H, atomic_number=1, position=[0.         0.         1.11111111])])\n",
      "Start SCF for Molecule(atoms=[Atom(symbol=He, atomic_number=2, position=[0. 0. 0.]), Atom(symbol=H, atomic_number=1, position=[0.         0.         1.16666667])])\n",
      "Start SCF for Molecule(atoms=[Atom(symbol=He, atomic_number=2, position=[0. 0. 0.]), Atom(symbol=H, atomic_number=1, position=[0.         0.         1.22222222])])\n",
      "Start SCF for Molecule(atoms=[Atom(symbol=He, atomic_number=2, position=[0. 0. 0.]), Atom(symbol=H, atomic_number=1, position=[0.         0.         1.27777778])])\n",
      "Start SCF for Molecule(atoms=[Atom(symbol=He, atomic_number=2, position=[0. 0. 0.]), Atom(symbol=H, atomic_number=1, position=[0.         0.         1.33333333])])\n",
      "Start SCF for Molecule(atoms=[Atom(symbol=He, atomic_number=2, position=[0. 0. 0.]), Atom(symbol=H, atomic_number=1, position=[0.         0.         1.38888889])])\n",
      "Start SCF for Molecule(atoms=[Atom(symbol=He, atomic_number=2, position=[0. 0. 0.]), Atom(symbol=H, atomic_number=1, position=[0.         0.         1.44444444])])\n",
      "Start SCF for Molecule(atoms=[Atom(symbol=He, atomic_number=2, position=[0. 0. 0.]), Atom(symbol=H, atomic_number=1, position=[0.  0.  1.5])])\n",
      "Start SCF for Molecule(atoms=[Atom(symbol=He, atomic_number=2, position=[0. 0. 0.]), Atom(symbol=H, atomic_number=1, position=[0.         0.         1.55555556])])\n",
      "Start SCF for Molecule(atoms=[Atom(symbol=He, atomic_number=2, position=[0. 0. 0.]), Atom(symbol=H, atomic_number=1, position=[0.         0.         1.61111111])])\n",
      "Start SCF for Molecule(atoms=[Atom(symbol=He, atomic_number=2, position=[0. 0. 0.]), Atom(symbol=H, atomic_number=1, position=[0.         0.         1.66666667])])\n",
      "Start SCF for Molecule(atoms=[Atom(symbol=He, atomic_number=2, position=[0. 0. 0.]), Atom(symbol=H, atomic_number=1, position=[0.         0.         1.72222222])])\n",
      "Start SCF for Molecule(atoms=[Atom(symbol=He, atomic_number=2, position=[0. 0. 0.]), Atom(symbol=H, atomic_number=1, position=[0.         0.         1.77777778])])\n",
      "Start SCF for Molecule(atoms=[Atom(symbol=He, atomic_number=2, position=[0. 0. 0.]), Atom(symbol=H, atomic_number=1, position=[0.         0.         1.83333333])])\n",
      "Start SCF for Molecule(atoms=[Atom(symbol=He, atomic_number=2, position=[0. 0. 0.]), Atom(symbol=H, atomic_number=1, position=[0.         0.         1.88888889])])\n",
      "Start SCF for Molecule(atoms=[Atom(symbol=He, atomic_number=2, position=[0. 0. 0.]), Atom(symbol=H, atomic_number=1, position=[0.         0.         1.94444444])])\n",
      "Start SCF for Molecule(atoms=[Atom(symbol=He, atomic_number=2, position=[0. 0. 0.]), Atom(symbol=H, atomic_number=1, position=[0. 0. 2.])])\n",
      "Start SCF for Molecule(atoms=[Atom(symbol=He, atomic_number=2, position=[0. 0. 0.]), Atom(symbol=H, atomic_number=1, position=[0.         0.         2.05555556])])\n",
      "Start SCF for Molecule(atoms=[Atom(symbol=He, atomic_number=2, position=[0. 0. 0.]), Atom(symbol=H, atomic_number=1, position=[0.         0.         2.11111111])])\n",
      "Start SCF for Molecule(atoms=[Atom(symbol=He, atomic_number=2, position=[0. 0. 0.]), Atom(symbol=H, atomic_number=1, position=[0.         0.         2.16666667])])\n",
      "Start SCF for Molecule(atoms=[Atom(symbol=He, atomic_number=2, position=[0. 0. 0.]), Atom(symbol=H, atomic_number=1, position=[0.         0.         2.22222222])])\n",
      "Start SCF for Molecule(atoms=[Atom(symbol=He, atomic_number=2, position=[0. 0. 0.]), Atom(symbol=H, atomic_number=1, position=[0.         0.         2.27777778])])\n",
      "Start SCF for Molecule(atoms=[Atom(symbol=He, atomic_number=2, position=[0. 0. 0.]), Atom(symbol=H, atomic_number=1, position=[0.         0.         2.33333333])])\n",
      "Start SCF for Molecule(atoms=[Atom(symbol=He, atomic_number=2, position=[0. 0. 0.]), Atom(symbol=H, atomic_number=1, position=[0.         0.         2.38888889])])\n",
      "Start SCF for Molecule(atoms=[Atom(symbol=He, atomic_number=2, position=[0. 0. 0.]), Atom(symbol=H, atomic_number=1, position=[0.         0.         2.44444444])])\n",
      "Start SCF for Molecule(atoms=[Atom(symbol=He, atomic_number=2, position=[0. 0. 0.]), Atom(symbol=H, atomic_number=1, position=[0.  0.  2.5])])\n",
      "Start SCF for Molecule(atoms=[Atom(symbol=He, atomic_number=2, position=[0. 0. 0.]), Atom(symbol=H, atomic_number=1, position=[0.         0.         2.55555556])])\n",
      "Start SCF for Molecule(atoms=[Atom(symbol=He, atomic_number=2, position=[0. 0. 0.]), Atom(symbol=H, atomic_number=1, position=[0.         0.         2.61111111])])\n",
      "Start SCF for Molecule(atoms=[Atom(symbol=He, atomic_number=2, position=[0. 0. 0.]), Atom(symbol=H, atomic_number=1, position=[0.         0.         2.66666667])])\n",
      "Start SCF for Molecule(atoms=[Atom(symbol=He, atomic_number=2, position=[0. 0. 0.]), Atom(symbol=H, atomic_number=1, position=[0.         0.         2.72222222])])\n",
      "Start SCF for Molecule(atoms=[Atom(symbol=He, atomic_number=2, position=[0. 0. 0.]), Atom(symbol=H, atomic_number=1, position=[0.         0.         2.77777778])])\n",
      "Start SCF for Molecule(atoms=[Atom(symbol=He, atomic_number=2, position=[0. 0. 0.]), Atom(symbol=H, atomic_number=1, position=[0.         0.         2.83333333])])\n",
      "Start SCF for Molecule(atoms=[Atom(symbol=He, atomic_number=2, position=[0. 0. 0.]), Atom(symbol=H, atomic_number=1, position=[0.         0.         2.88888889])])\n",
      "Start SCF for Molecule(atoms=[Atom(symbol=He, atomic_number=2, position=[0. 0. 0.]), Atom(symbol=H, atomic_number=1, position=[0.         0.         2.94444444])])\n",
      "Start SCF for Molecule(atoms=[Atom(symbol=He, atomic_number=2, position=[0. 0. 0.]), Atom(symbol=H, atomic_number=1, position=[0. 0. 3.])])\n",
      "Start SCF for Molecule(atoms=[Atom(symbol=He, atomic_number=2, position=[0. 0. 0.]), Atom(symbol=H, atomic_number=1, position=[0.         0.         3.05555556])])\n",
      "Start SCF for Molecule(atoms=[Atom(symbol=He, atomic_number=2, position=[0. 0. 0.]), Atom(symbol=H, atomic_number=1, position=[0.         0.         3.11111111])])\n",
      "Start SCF for Molecule(atoms=[Atom(symbol=He, atomic_number=2, position=[0. 0. 0.]), Atom(symbol=H, atomic_number=1, position=[0.         0.         3.16666667])])\n",
      "Start SCF for Molecule(atoms=[Atom(symbol=He, atomic_number=2, position=[0. 0. 0.]), Atom(symbol=H, atomic_number=1, position=[0.         0.         3.22222222])])\n",
      "Start SCF for Molecule(atoms=[Atom(symbol=He, atomic_number=2, position=[0. 0. 0.]), Atom(symbol=H, atomic_number=1, position=[0.         0.         3.27777778])])\n",
      "Start SCF for Molecule(atoms=[Atom(symbol=He, atomic_number=2, position=[0. 0. 0.]), Atom(symbol=H, atomic_number=1, position=[0.         0.         3.33333333])])\n",
      "Start SCF for Molecule(atoms=[Atom(symbol=He, atomic_number=2, position=[0. 0. 0.]), Atom(symbol=H, atomic_number=1, position=[0.         0.         3.38888889])])\n",
      "Start SCF for Molecule(atoms=[Atom(symbol=He, atomic_number=2, position=[0. 0. 0.]), Atom(symbol=H, atomic_number=1, position=[0.         0.         3.44444444])])\n",
      "Start SCF for Molecule(atoms=[Atom(symbol=He, atomic_number=2, position=[0. 0. 0.]), Atom(symbol=H, atomic_number=1, position=[0.  0.  3.5])])\n",
      "Start SCF for Molecule(atoms=[Atom(symbol=He, atomic_number=2, position=[0. 0. 0.]), Atom(symbol=H, atomic_number=1, position=[0.         0.         3.55555556])])\n",
      "Start SCF for Molecule(atoms=[Atom(symbol=He, atomic_number=2, position=[0. 0. 0.]), Atom(symbol=H, atomic_number=1, position=[0.         0.         3.61111111])])\n",
      "Start SCF for Molecule(atoms=[Atom(symbol=He, atomic_number=2, position=[0. 0. 0.]), Atom(symbol=H, atomic_number=1, position=[0.         0.         3.66666667])])\n",
      "Start SCF for Molecule(atoms=[Atom(symbol=He, atomic_number=2, position=[0. 0. 0.]), Atom(symbol=H, atomic_number=1, position=[0.         0.         3.72222222])])\n",
      "Start SCF for Molecule(atoms=[Atom(symbol=He, atomic_number=2, position=[0. 0. 0.]), Atom(symbol=H, atomic_number=1, position=[0.         0.         3.77777778])])\n",
      "Start SCF for Molecule(atoms=[Atom(symbol=He, atomic_number=2, position=[0. 0. 0.]), Atom(symbol=H, atomic_number=1, position=[0.         0.         3.83333333])])\n",
      "Start SCF for Molecule(atoms=[Atom(symbol=He, atomic_number=2, position=[0. 0. 0.]), Atom(symbol=H, atomic_number=1, position=[0.         0.         3.88888889])])\n",
      "Start SCF for Molecule(atoms=[Atom(symbol=He, atomic_number=2, position=[0. 0. 0.]), Atom(symbol=H, atomic_number=1, position=[0.         0.         3.94444444])])\n",
      "Start SCF for Molecule(atoms=[Atom(symbol=He, atomic_number=2, position=[0. 0. 0.]), Atom(symbol=H, atomic_number=1, position=[0. 0. 4.])])\n",
      "Start SCF for Molecule(atoms=[Atom(symbol=He, atomic_number=2, position=[0. 0. 0.]), Atom(symbol=H, atomic_number=1, position=[0.         0.         4.05555556])])\n",
      "Start SCF for Molecule(atoms=[Atom(symbol=He, atomic_number=2, position=[0. 0. 0.]), Atom(symbol=H, atomic_number=1, position=[0.         0.         4.11111111])])\n",
      "Start SCF for Molecule(atoms=[Atom(symbol=He, atomic_number=2, position=[0. 0. 0.]), Atom(symbol=H, atomic_number=1, position=[0.         0.         4.16666667])])\n",
      "Start SCF for Molecule(atoms=[Atom(symbol=He, atomic_number=2, position=[0. 0. 0.]), Atom(symbol=H, atomic_number=1, position=[0.         0.         4.22222222])])\n",
      "Start SCF for Molecule(atoms=[Atom(symbol=He, atomic_number=2, position=[0. 0. 0.]), Atom(symbol=H, atomic_number=1, position=[0.         0.         4.27777778])])\n",
      "Start SCF for Molecule(atoms=[Atom(symbol=He, atomic_number=2, position=[0. 0. 0.]), Atom(symbol=H, atomic_number=1, position=[0.         0.         4.33333333])])\n",
      "Start SCF for Molecule(atoms=[Atom(symbol=He, atomic_number=2, position=[0. 0. 0.]), Atom(symbol=H, atomic_number=1, position=[0.         0.         4.38888889])])\n",
      "Start SCF for Molecule(atoms=[Atom(symbol=He, atomic_number=2, position=[0. 0. 0.]), Atom(symbol=H, atomic_number=1, position=[0.         0.         4.44444444])])\n",
      "Start SCF for Molecule(atoms=[Atom(symbol=He, atomic_number=2, position=[0. 0. 0.]), Atom(symbol=H, atomic_number=1, position=[0.  0.  4.5])])\n",
      "Start SCF for Molecule(atoms=[Atom(symbol=He, atomic_number=2, position=[0. 0. 0.]), Atom(symbol=H, atomic_number=1, position=[0.         0.         4.55555556])])\n",
      "Start SCF for Molecule(atoms=[Atom(symbol=He, atomic_number=2, position=[0. 0. 0.]), Atom(symbol=H, atomic_number=1, position=[0.         0.         4.61111111])])\n",
      "Start SCF for Molecule(atoms=[Atom(symbol=He, atomic_number=2, position=[0. 0. 0.]), Atom(symbol=H, atomic_number=1, position=[0.         0.         4.66666667])])\n",
      "Start SCF for Molecule(atoms=[Atom(symbol=He, atomic_number=2, position=[0. 0. 0.]), Atom(symbol=H, atomic_number=1, position=[0.         0.         4.72222222])])\n",
      "Start SCF for Molecule(atoms=[Atom(symbol=He, atomic_number=2, position=[0. 0. 0.]), Atom(symbol=H, atomic_number=1, position=[0.         0.         4.77777778])])\n",
      "Start SCF for Molecule(atoms=[Atom(symbol=He, atomic_number=2, position=[0. 0. 0.]), Atom(symbol=H, atomic_number=1, position=[0.         0.         4.83333333])])\n",
      "Start SCF for Molecule(atoms=[Atom(symbol=He, atomic_number=2, position=[0. 0. 0.]), Atom(symbol=H, atomic_number=1, position=[0.         0.         4.88888889])])\n",
      "Start SCF for Molecule(atoms=[Atom(symbol=He, atomic_number=2, position=[0. 0. 0.]), Atom(symbol=H, atomic_number=1, position=[0.         0.         4.94444444])])\n",
      "Start SCF for Molecule(atoms=[Atom(symbol=He, atomic_number=2, position=[0. 0. 0.]), Atom(symbol=H, atomic_number=1, position=[0. 0. 5.])])\n",
      "Start SCF for Molecule(atoms=[Atom(symbol=He, atomic_number=2, position=[0. 0. 0.]), Atom(symbol=H, atomic_number=1, position=[0.         0.         5.05555556])])\n",
      "Start SCF for Molecule(atoms=[Atom(symbol=He, atomic_number=2, position=[0. 0. 0.]), Atom(symbol=H, atomic_number=1, position=[0.         0.         5.11111111])])\n",
      "Start SCF for Molecule(atoms=[Atom(symbol=He, atomic_number=2, position=[0. 0. 0.]), Atom(symbol=H, atomic_number=1, position=[0.         0.         5.16666667])])\n",
      "Start SCF for Molecule(atoms=[Atom(symbol=He, atomic_number=2, position=[0. 0. 0.]), Atom(symbol=H, atomic_number=1, position=[0.         0.         5.22222222])])\n",
      "Start SCF for Molecule(atoms=[Atom(symbol=He, atomic_number=2, position=[0. 0. 0.]), Atom(symbol=H, atomic_number=1, position=[0.         0.         5.27777778])])\n",
      "Start SCF for Molecule(atoms=[Atom(symbol=He, atomic_number=2, position=[0. 0. 0.]), Atom(symbol=H, atomic_number=1, position=[0.         0.         5.33333333])])\n",
      "Start SCF for Molecule(atoms=[Atom(symbol=He, atomic_number=2, position=[0. 0. 0.]), Atom(symbol=H, atomic_number=1, position=[0.         0.         5.38888889])])\n",
      "Start SCF for Molecule(atoms=[Atom(symbol=He, atomic_number=2, position=[0. 0. 0.]), Atom(symbol=H, atomic_number=1, position=[0.         0.         5.44444444])])\n",
      "Start SCF for Molecule(atoms=[Atom(symbol=He, atomic_number=2, position=[0. 0. 0.]), Atom(symbol=H, atomic_number=1, position=[0.  0.  5.5])])\n",
      "Start SCF for Molecule(atoms=[Atom(symbol=He, atomic_number=2, position=[0. 0. 0.]), Atom(symbol=H, atomic_number=1, position=[0.         0.         5.55555556])])\n",
      "Start SCF for Molecule(atoms=[Atom(symbol=He, atomic_number=2, position=[0. 0. 0.]), Atom(symbol=H, atomic_number=1, position=[0.         0.         5.61111111])])\n",
      "Start SCF for Molecule(atoms=[Atom(symbol=He, atomic_number=2, position=[0. 0. 0.]), Atom(symbol=H, atomic_number=1, position=[0.         0.         5.66666667])])\n",
      "Start SCF for Molecule(atoms=[Atom(symbol=He, atomic_number=2, position=[0. 0. 0.]), Atom(symbol=H, atomic_number=1, position=[0.         0.         5.72222222])])\n",
      "Start SCF for Molecule(atoms=[Atom(symbol=He, atomic_number=2, position=[0. 0. 0.]), Atom(symbol=H, atomic_number=1, position=[0.         0.         5.77777778])])\n",
      "Start SCF for Molecule(atoms=[Atom(symbol=He, atomic_number=2, position=[0. 0. 0.]), Atom(symbol=H, atomic_number=1, position=[0.         0.         5.83333333])])\n",
      "Start SCF for Molecule(atoms=[Atom(symbol=He, atomic_number=2, position=[0. 0. 0.]), Atom(symbol=H, atomic_number=1, position=[0.         0.         5.88888889])])\n",
      "Start SCF for Molecule(atoms=[Atom(symbol=He, atomic_number=2, position=[0. 0. 0.]), Atom(symbol=H, atomic_number=1, position=[0.         0.         5.94444444])])\n",
      "Start SCF for Molecule(atoms=[Atom(symbol=He, atomic_number=2, position=[0. 0. 0.]), Atom(symbol=H, atomic_number=1, position=[0. 0. 6.])])\n"
     ]
    }
   ],
   "source": [
    "energies = []\n",
    "\n",
    "for r in np.linspace(0.5, 6.0, 100):\n",
    "    atoms = [Atom(\"He\", np.array([0.0, 0.0, 0.0])), Atom(\"H\", np.array([0.0, 0.0, r]))]\n",
    "    basis_data = {\n",
    "        \"He\": create_basis_data(df, [2.0925], 1, 0),\n",
    "        \"H\": create_basis_data(df, [1.24], 1, 0),\n",
    "    }\n",
    "    molecule = Molecule(atoms=atoms, basis=basis_data, charge=1)\n",
    "    hartreefock = RestrictedHartreeFock(molecule, max_iter=10000, tol=1e-10)\n",
    "    hartreefock.scf()\n",
    "    hartreefock.calculate_total_energy()\n",
    "    results = hartreefock.get_results()\n",
    "    energies.append(results[\"energy\"] + 2.0 / r)"
   ]
  },
  {
   "cell_type": "code",
   "execution_count": 5,
   "metadata": {},
   "outputs": [
    {
     "data": {
      "image/png": "[encoded data removed]",
      "text/plain": [
       "<Figure size 640x480 with 1 Axes>"
      ]
     },
     "metadata": {},
     "output_type": "display_data"
    }
   ],
   "source": [
    "fig, ax = plt.subplots()\n",
    "ax.plot(np.linspace(0.5, 6.0, 100), energies)\n",
    "ax.set_xlabel(\"r / Å\")\n",
    "ax.set_ylabel(\"Energy / Hartree\")\n",
    "plt.show()"
   ]
  }
 ],
 "metadata": {
  "kernelspec": {
   "display_name": "physics",
   "language": "python",
   "name": "python3"
  },
  "language_info": {
   "codemirror_mode": {
    "name": "ipython",
    "version": 3
   },
   "file_extension": ".py",
   "mimetype": "text/x-python",
   "name": "python",
   "nbconvert_exporter": "python",
   "pygments_lexer": "ipython3",
   "version": "3.10.12"
  }
 },
 "nbformat": 4,
 "nbformat_minor": 2
}
