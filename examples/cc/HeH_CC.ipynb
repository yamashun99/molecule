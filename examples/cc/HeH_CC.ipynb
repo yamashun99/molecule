{
 "cells": [
  {
   "cell_type": "code",
   "execution_count": 1,
   "metadata": {},
   "outputs": [],
   "source": [
    "import sys\n",
    "\n",
    "sys.path.append(\"../../src/stong_core_cython\")\n",
    "sys.path.append(\"../../\")"
   ]
  },
  {
   "cell_type": "code",
   "execution_count": 2,
   "metadata": {},
   "outputs": [],
   "source": [
    "import numpy as np\n",
    "import pandas as pd\n",
    "import matplotlib.pyplot as plt\n",
    "import restricted_hartree_fock\n",
    "import basis_data\n",
    "from scipy.constants import physical_constants\n",
    "\n",
    "from atom import *\n",
    "from restricted_hartree_fock import *\n",
    "from basis_data import *\n",
    "\n",
    "hartree_to_ev_factor = physical_constants[\"Hartree energy in eV\"][0]\n",
    "df = pd.read_csv(\"../make_base/sto_ng/sto_3g.csv\")\n",
    "df_zetas = pd.read_csv(\"./zetas.csv\")"
   ]
  },
  {
   "cell_type": "code",
   "execution_count": 3,
   "metadata": {},
   "outputs": [
    {
     "name": "stdout",
     "output_type": "stream",
     "text": [
      "Start SCF for Molecule(atoms=[Atom(symbol=He, atomic_number=2, position=[0. 0. 0.]), Atom(symbol=H, atomic_number=1, position=[0.     0.     1.4632])])\n",
      "{'energy': -4.202847448645835, 'P': array([[0.77355363, 0.17273392],\n",
      "       [0.17273392, 0.03857135]]), 'val': array([-1.63141845, -0.18900741]), 'vec': array([[-0.87951898,  0.80398631],\n",
      "       [-0.1963959 , -1.17531964]])}\n"
     ]
    },
    {
     "data": {
      "text/plain": [
       "-2.8359803081318935"
      ]
     },
     "execution_count": 3,
     "metadata": {},
     "output_type": "execute_result"
    }
   ],
   "source": [
    "r = 1.4632\n",
    "atoms = [Atom(\"He\", np.array([0.0, 0.0, 0.0])), Atom(\"H\", np.array([0.0, 0.0, r]))]\n",
    "basis_data = {\n",
    "    \"He\": create_basis_data(df, [1.68], 1, 0),\n",
    "    \"H\": create_basis_data(df, [1.2], 1, 0),\n",
    "}\n",
    "molecule = Molecule(atoms=atoms, basis=basis_data, charge=1)\n",
    "hartreefock = RestrictedHartreeFock(molecule, max_iter=10000, tol=1e-10)\n",
    "hartreefock.scf()\n",
    "hartreefock.calculate_total_energy()\n",
    "results = hartreefock.get_results()\n",
    "print(results)\n",
    "results[\"energy\"] + 2.0 / r"
   ]
  },
  {
   "cell_type": "code",
   "execution_count": 4,
   "metadata": {},
   "outputs": [
    {
     "data": {
      "text/plain": [
       "{'energy': -4.202847448645835,\n",
       " 'P': array([[0.77355363, 0.17273392],\n",
       "        [0.17273392, 0.03857135]]),\n",
       " 'val': array([-1.63141845, -0.18900741]),\n",
       " 'vec': array([[-0.87951898,  0.80398631],\n",
       "        [-0.1963959 , -1.17531964]])}"
      ]
     },
     "execution_count": 4,
     "metadata": {},
     "output_type": "execute_result"
    }
   ],
   "source": [
    "results"
   ]
  },
  {
   "cell_type": "code",
   "execution_count": 5,
   "metadata": {},
   "outputs": [
    {
     "data": {
      "text/plain": [
       "array([[[[1.049701  , 0.4471315 ],\n",
       "         [0.4471315 , 0.58535082]],\n",
       "\n",
       "        [[0.4471315 , 0.2274196 ],\n",
       "         [0.2274196 , 0.36458074]]],\n",
       "\n",
       "\n",
       "       [[[0.4471315 , 0.2274196 ],\n",
       "         [0.2274196 , 0.36458074]],\n",
       "\n",
       "        [[0.58535082, 0.36458074],\n",
       "         [0.36458074, 0.74978643]]]])"
      ]
     },
     "execution_count": 5,
     "metadata": {},
     "output_type": "execute_result"
    }
   ],
   "source": [
    "np.array(hartreefock.ERI)"
   ]
  },
  {
   "cell_type": "code",
   "execution_count": 6,
   "metadata": {},
   "outputs": [
    {
     "name": "stdout",
     "output_type": "stream",
     "text": [
      "0.1417639269985373\n",
      "-0.04914130668259425\n"
     ]
    }
   ],
   "source": [
    "charge = molecule.charge\n",
    "norb = molecule.norb\n",
    "val = results[\"val\"]\n",
    "vec = results[\"vec\"]\n",
    "eri = np.array(hartreefock.ERI)\n",
    "t = 0\n",
    "moeri = np.zeros((norb, norb, norb, norb))\n",
    "moeri = np.einsum(\"pqrs,pi,qj,rk,sl->ijkl\", eri, vec, vec, vec, vec)\n",
    "omega = moeri[0, 1, 0, 1]\n",
    "delta_t = -omega / (2 * val[1] - 2 * val[0])\n",
    "delta_t\n",
    "t = t + delta_t\n",
    "print(omega)\n",
    "print(t)"
   ]
  },
  {
   "cell_type": "code",
   "execution_count": 7,
   "metadata": {},
   "outputs": [
    {
     "data": {
      "text/plain": [
       "-0.006966464613164023"
      ]
     },
     "execution_count": 7,
     "metadata": {},
     "output_type": "execute_result"
    }
   ],
   "source": [
    "delta_t * omega"
   ]
  },
  {
   "cell_type": "code",
   "execution_count": 8,
   "metadata": {},
   "outputs": [
    {
     "name": "stdout",
     "output_type": "stream",
     "text": [
      "0.0\n"
     ]
    },
    {
     "data": {
      "text/plain": [
       "-0.006966464613164023"
      ]
     },
     "execution_count": 8,
     "metadata": {},
     "output_type": "execute_result"
    }
   ],
   "source": [
    "omega = moeri[0, 1, 0, 1] + (2 * val[1] - 2 * val[0]) * t\n",
    "print(omega)\n",
    "delta_t = -omega / (2 * val[1] - 2 * val[0])\n",
    "t = t + delta_t\n",
    "t\n",
    "t * moeri[0, 1, 0, 1]"
   ]
  },
  {
   "cell_type": "code",
   "execution_count": 9,
   "metadata": {},
   "outputs": [],
   "source": [
    "def omega(t):\n",
    "    coef0 = moeri[0, 1, 0, 1]\n",
    "    coef1 = (\n",
    "        2 * (val[1] - val[0])\n",
    "        + moeri[0, 0, 0, 0]\n",
    "        + moeri[1, 1, 1, 1]\n",
    "        + 2 * (moeri[0, 1, 1, 0] - moeri[0, 0, 1, 1])\n",
    "        - 2 * moeri[0, 0, 1, 1]\n",
    "    )\n",
    "    coef2 = -moeri[0, 1, 0, 1]\n",
    "    return coef0 + coef1 * t + coef2 * t**2\n",
    "\n",
    "\n",
    "def domegadt(t):\n",
    "    coef1 = (\n",
    "        2 * (val[1] - val[0])\n",
    "        + moeri[0, 0, 0, 0]\n",
    "        + moeri[1, 1, 1, 1]\n",
    "        + 2 * (moeri[0, 1, 1, 0] - moeri[0, 0, 1, 1])\n",
    "        - 2 * moeri[0, 0, 1, 1]\n",
    "    )\n",
    "    coef2 = -moeri[0, 1, 0, 1]\n",
    "    return coef1 + 2 * coef2 * t"
   ]
  },
  {
   "cell_type": "code",
   "execution_count": 10,
   "metadata": {},
   "outputs": [
    {
     "name": "stdout",
     "output_type": "stream",
     "text": [
      "-0.06306917523254785\n",
      "-0.00894093395352487\n",
      "-0.06305699155238287\n",
      "-0.008939206747179388\n",
      "-2.1043733270699472e-11\n"
     ]
    }
   ],
   "source": [
    "t = t - omega(t) / domegadt(t)\n",
    "print(t)\n",
    "print(t * moeri[0, 1, 0, 1])\n",
    "t = t - omega(t) / domegadt(t)\n",
    "print(t)\n",
    "print(t * moeri[0, 1, 0, 1])\n",
    "print(omega(t))"
   ]
  }
 ],
 "metadata": {
  "kernelspec": {
   "display_name": "physics",
   "language": "python",
   "name": "python3"
  },
  "language_info": {
   "codemirror_mode": {
    "name": "ipython",
    "version": 3
   },
   "file_extension": ".py",
   "mimetype": "text/x-python",
   "name": "python",
   "nbconvert_exporter": "python",
   "pygments_lexer": "ipython3",
   "version": "3.10.12"
  }
 },
 "nbformat": 4,
 "nbformat_minor": 2
}
