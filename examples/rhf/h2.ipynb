{
 "cells": [
  {
   "cell_type": "code",
   "execution_count": 21,
   "metadata": {},
   "outputs": [],
   "source": [
    "import sys\n",
    "\n",
    "sys.path.append(\"../../src\")"
   ]
  },
  {
   "cell_type": "code",
   "execution_count": 22,
   "metadata": {},
   "outputs": [],
   "source": [
    "import numpy as np\n",
    "import gaussian_overlap\n",
    "import importlib\n",
    "import h5py\n",
    "import pandas as pd\n",
    "\n",
    "from scipy.optimize import minimize\n",
    "\n",
    "importlib.reload(gaussian_overlap)\n",
    "from gaussian_overlap import *"
   ]
  },
  {
   "cell_type": "code",
   "execution_count": 23,
   "metadata": {},
   "outputs": [
    {
     "data": {
      "text/html": [
       "<div>\n",
       "<style scoped>\n",
       "    .dataframe tbody tr th:only-of-type {\n",
       "        vertical-align: middle;\n",
       "    }\n",
       "\n",
       "    .dataframe tbody tr th {\n",
       "        vertical-align: top;\n",
       "    }\n",
       "\n",
       "    .dataframe thead th {\n",
       "        text-align: right;\n",
       "    }\n",
       "</style>\n",
       "<table border=\"1\" class=\"dataframe\">\n",
       "  <thead>\n",
       "    <tr style=\"text-align: right;\">\n",
       "      <th></th>\n",
       "      <th>exps_1</th>\n",
       "      <th>coefs_1s</th>\n",
       "      <th>exps_2</th>\n",
       "      <th>coefs_2s</th>\n",
       "      <th>coefs_2p</th>\n",
       "    </tr>\n",
       "  </thead>\n",
       "  <tbody>\n",
       "    <tr>\n",
       "      <th>0</th>\n",
       "      <td>0.109987</td>\n",
       "      <td>0.445576</td>\n",
       "      <td>0.074759</td>\n",
       "      <td>0.694673</td>\n",
       "      <td>0.387976</td>\n",
       "    </tr>\n",
       "    <tr>\n",
       "      <th>1</th>\n",
       "      <td>0.407154</td>\n",
       "      <td>0.535362</td>\n",
       "      <td>0.229124</td>\n",
       "      <td>0.405616</td>\n",
       "      <td>0.608867</td>\n",
       "    </tr>\n",
       "    <tr>\n",
       "      <th>2</th>\n",
       "      <td>2.246014</td>\n",
       "      <td>0.153482</td>\n",
       "      <td>0.979606</td>\n",
       "      <td>-0.100240</td>\n",
       "      <td>0.158557</td>\n",
       "    </tr>\n",
       "  </tbody>\n",
       "</table>\n",
       "</div>"
      ],
      "text/plain": [
       "     exps_1  coefs_1s    exps_2  coefs_2s  coefs_2p\n",
       "0  0.109987  0.445576  0.074759  0.694673  0.387976\n",
       "1  0.407154  0.535362  0.229124  0.405616  0.608867\n",
       "2  2.246014  0.153482  0.979606 -0.100240  0.158557"
      ]
     },
     "execution_count": 23,
     "metadata": {},
     "output_type": "execute_result"
    }
   ],
   "source": [
    "df = pd.read_csv(\"../make_base/sto_3g.csv\")\n",
    "df"
   ]
  },
  {
   "cell_type": "code",
   "execution_count": 24,
   "metadata": {},
   "outputs": [],
   "source": [
    "def energy(r):\n",
    "    zetaH = 1.24\n",
    "    param1 = {\n",
    "        \"center\": np.array([0, 0, 0]),\n",
    "        \"lmn\": (0, 0, 0),\n",
    "        \"exps\": np.array(df[\"exps_1\"]) * zetaH**2,\n",
    "        \"coefs\": np.array(df[\"coefs_1s\"]),\n",
    "    }\n",
    "    param2 = {\n",
    "        \"center\": np.array([r, 0, 0]),\n",
    "        \"lmn\": (0, 0, 0),\n",
    "        \"exps\": np.array(df[\"exps_1\"]) * zetaH**2,\n",
    "        \"coefs\": np.array(df[\"coefs_1s\"]),\n",
    "    }\n",
    "    a = BasisFunction(**param1)\n",
    "    b = BasisFunction(**param2)\n",
    "    eaa1 = T(a, a) - V(a, a, np.array([0, 0, 0])) - V(a, a, np.array([r, 0, 0]))\n",
    "    eab1 = T(a, b) - V(a, b, np.array([0, 0, 0])) - V(a, b, np.array([r, 0, 0]))\n",
    "    ebb1 = T(b, b) - V(b, b, np.array([0, 0, 0])) - V(b, b, np.array([r, 0, 0]))\n",
    "    eaa2 = ERI(a, a, a, a) + 2 * ERI(a, a, a, b) + ERI(a, a, b, b)\n",
    "    eab2 = ERI(a, b, a, a) + 2 * ERI(a, b, a, b) + ERI(a, b, b, b)\n",
    "    ebb2 = ERI(b, b, a, a) + 2 * ERI(b, b, a, b) + ERI(b, b, b, b)\n",
    "    norm = S(a, a) + 2 * S(a, b) + S(b, b)\n",
    "    return (\n",
    "        2 * (eaa1 + 2 * eab1 + ebb1) / norm + (eaa2 + 2 * eab2 + ebb2) / norm**2 + 1 / r\n",
    "    )"
   ]
  },
  {
   "cell_type": "code",
   "execution_count": 25,
   "metadata": {},
   "outputs": [
    {
     "data": {
      "image/png": "[encoded data removed]",
      "text/plain": [
       "<Figure size 640x480 with 1 Axes>"
      ]
     },
     "metadata": {},
     "output_type": "display_data"
    }
   ],
   "source": [
    "r = np.linspace(0.5, 6, 100)\n",
    "e = np.array([energy(i) for i in r])\n",
    "import matplotlib.pyplot as plt\n",
    "\n",
    "fig, ax = plt.subplots()\n",
    "ax.plot(r, e + 2 * 0.4666)\n",
    "ax.axhline(0, color=\"black\", linestyle=\"--\")\n",
    "ax.set_xlabel(\"R\")\n",
    "ax.set_ylabel(\"E(H2) - 2E(H) (a. u.)\")\n",
    "fig.savefig(\"energy.pdf\")"
   ]
  },
  {
   "cell_type": "code",
   "execution_count": null,
   "metadata": {},
   "outputs": [],
   "source": []
  },
  {
   "cell_type": "code",
   "execution_count": null,
   "metadata": {},
   "outputs": [],
   "source": []
  }
 ],
 "metadata": {
  "kernelspec": {
   "display_name": "physics",
   "language": "python",
   "name": "python3"
  },
  "language_info": {
   "codemirror_mode": {
    "name": "ipython",
    "version": 3
   },
   "file_extension": ".py",
   "mimetype": "text/x-python",
   "name": "python",
   "nbconvert_exporter": "python",
   "pygments_lexer": "ipython3",
   "version": "3.10.12"
  }
 },
 "nbformat": 4,
 "nbformat_minor": 2
}
