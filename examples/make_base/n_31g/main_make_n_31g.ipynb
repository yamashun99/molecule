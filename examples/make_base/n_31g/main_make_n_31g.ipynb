{
 "cells": [
  {
   "cell_type": "code",
   "execution_count": 16,
   "metadata": {},
   "outputs": [],
   "source": [
    "import sys\n",
    "\n",
    "sys.path.append(\"../../../src/stong_core_cython\")\n",
    "sys.path.append(\"../../../cython\")"
   ]
  },
  {
   "cell_type": "code",
   "execution_count": 45,
   "metadata": {},
   "outputs": [],
   "source": [
    "import numpy as np\n",
    "import pandas as pd\n",
    "import matplotlib.pyplot as plt\n",
    "import unrestricted_hartree_fock\n",
    "import basis_data\n",
    "import importlib\n",
    "from scipy.ndimage import gaussian_filter1d\n",
    "from matplotlib.backends.backend_pdf import PdfPages\n",
    "from scipy.constants import physical_constants\n",
    "from scipy.optimize import minimize\n",
    "\n",
    "importlib.reload(unrestricted_hartree_fock)\n",
    "importlib.reload(basis_data)\n",
    "\n",
    "from atom import *\n",
    "from unrestricted_hartree_fock import *\n",
    "from basis_data import *\n",
    "from matrix import *\n",
    "\n",
    "hartree_to_ev_factor = physical_constants[\"Hartree energy in eV\"][0]"
   ]
  },
  {
   "cell_type": "code",
   "execution_count": 9,
   "metadata": {},
   "outputs": [],
   "source": [
    "df = pd.read_csv(\"../sto_ng/sto_3g.csv\")\n",
    "df_zetas = pd.read_csv(\"./zetas_4s.csv\")"
   ]
  },
  {
   "cell_type": "code",
   "execution_count": 57,
   "metadata": {},
   "outputs": [
    {
     "data": {
      "text/html": [
       "<div>\n",
       "<style scoped>\n",
       "    .dataframe tbody tr th:only-of-type {\n",
       "        vertical-align: middle;\n",
       "    }\n",
       "\n",
       "    .dataframe tbody tr th {\n",
       "        vertical-align: top;\n",
       "    }\n",
       "\n",
       "    .dataframe thead th {\n",
       "        text-align: right;\n",
       "    }\n",
       "</style>\n",
       "<table border=\"1\" class=\"dataframe\">\n",
       "  <thead>\n",
       "    <tr style=\"text-align: right;\">\n",
       "      <th></th>\n",
       "      <th>exps_1</th>\n",
       "      <th>coefs_1s</th>\n",
       "      <th>exps_2</th>\n",
       "      <th>coefs_2s</th>\n",
       "      <th>coefs_2p</th>\n",
       "      <th>exps_3</th>\n",
       "      <th>coefs_3s</th>\n",
       "      <th>coefs_3p</th>\n",
       "      <th>coefs_3d</th>\n",
       "      <th>exps_4</th>\n",
       "      <th>coefs_4s</th>\n",
       "      <th>coefs_4p</th>\n",
       "      <th>coefs_4d</th>\n",
       "    </tr>\n",
       "  </thead>\n",
       "  <tbody>\n",
       "    <tr>\n",
       "      <th>0</th>\n",
       "      <td>0.109987</td>\n",
       "      <td>0.445576</td>\n",
       "      <td>0.074772</td>\n",
       "      <td>0.694761</td>\n",
       "      <td>0.388124</td>\n",
       "      <td>0.053662</td>\n",
       "      <td>0.916705</td>\n",
       "      <td>0.484648</td>\n",
       "      <td>0.286555</td>\n",
       "      <td>0.040052</td>\n",
       "      <td>1.116951</td>\n",
       "      <td>0.544757</td>\n",
       "      <td>0.305929</td>\n",
       "    </tr>\n",
       "    <tr>\n",
       "      <th>1</th>\n",
       "      <td>0.407154</td>\n",
       "      <td>0.535362</td>\n",
       "      <td>0.229171</td>\n",
       "      <td>0.405600</td>\n",
       "      <td>0.608609</td>\n",
       "      <td>0.139076</td>\n",
       "      <td>0.217497</td>\n",
       "      <td>0.577749</td>\n",
       "      <td>0.655555</td>\n",
       "      <td>0.090982</td>\n",
       "      <td>0.055484</td>\n",
       "      <td>0.584370</td>\n",
       "      <td>0.668295</td>\n",
       "    </tr>\n",
       "    <tr>\n",
       "      <th>2</th>\n",
       "      <td>2.246014</td>\n",
       "      <td>0.153482</td>\n",
       "      <td>0.978367</td>\n",
       "      <td>-0.100302</td>\n",
       "      <td>0.158647</td>\n",
       "      <td>0.455947</td>\n",
       "      <td>-0.227739</td>\n",
       "      <td>0.004969</td>\n",
       "      <td>0.219772</td>\n",
       "      <td>0.233688</td>\n",
       "      <td>-0.329890</td>\n",
       "      <td>-0.128434</td>\n",
       "      <td>0.124780</td>\n",
       "    </tr>\n",
       "  </tbody>\n",
       "</table>\n",
       "</div>"
      ],
      "text/plain": [
       "     exps_1  coefs_1s    exps_2  coefs_2s  coefs_2p    exps_3  coefs_3s  \\\n",
       "0  0.109987  0.445576  0.074772  0.694761  0.388124  0.053662  0.916705   \n",
       "1  0.407154  0.535362  0.229171  0.405600  0.608609  0.139076  0.217497   \n",
       "2  2.246014  0.153482  0.978367 -0.100302  0.158647  0.455947 -0.227739   \n",
       "\n",
       "   coefs_3p  coefs_3d    exps_4  coefs_4s  coefs_4p  coefs_4d  \n",
       "0  0.484648  0.286555  0.040052  1.116951  0.544757  0.305929  \n",
       "1  0.577749  0.655555  0.090982  0.055484  0.584370  0.668295  \n",
       "2  0.004969  0.219772  0.233688 -0.329890 -0.128434  0.124780  "
      ]
     },
     "execution_count": 57,
     "metadata": {},
     "output_type": "execute_result"
    }
   ],
   "source": [
    "df"
   ]
  },
  {
   "cell_type": "code",
   "execution_count": 49,
   "metadata": {},
   "outputs": [],
   "source": [
    "atom_symbol = \"H\"\n",
    "# zetas = df_zetas[atom_symbol]\n",
    "atoms = [Atom(atom_symbol, np.array([0.0, 0.0, 0.0]))]\n",
    "molecule = Molecule(atoms)\n",
    "zetas = [1]\n",
    "basis_data = {atom_symbol: create_basis_data(df, zetas, 1, 0)}"
   ]
  },
  {
   "cell_type": "code",
   "execution_count": 58,
   "metadata": {},
   "outputs": [
    {
     "data": {
      "text/plain": [
       "{'1s': {'exps': array([0.10998665, 0.40715402, 2.24601408]),\n",
       "  'coefs': array([0.44557586, 0.5353617 , 0.15348232]),\n",
       "  'lmn': array([0, 0, 0]),\n",
       "  'zeta': 1}}"
      ]
     },
     "execution_count": 58,
     "metadata": {},
     "output_type": "execute_result"
    }
   ],
   "source": [
    "create_basis_data(df, zetas, 1, 0)"
   ]
  },
  {
   "cell_type": "code",
   "execution_count": 50,
   "metadata": {},
   "outputs": [
    {
     "data": {
      "text/plain": [
       "Molecule(atoms=[Atom(symbol=H, atomic_number=1, position=[0. 0. 0.])])"
      ]
     },
     "execution_count": 50,
     "metadata": {},
     "output_type": "execute_result"
    }
   ],
   "source": [
    "molecule"
   ]
  },
  {
   "cell_type": "code",
   "execution_count": 51,
   "metadata": {},
   "outputs": [
    {
     "data": {
      "text/plain": [
       "{'H': {'1s': {'exps': array([0.10998665, 0.40715402, 2.24601408]),\n",
       "   'coefs': array([0.44557586, 0.5353617 , 0.15348232]),\n",
       "   'lmn': array([0, 0, 0]),\n",
       "   'zeta': 1}}}"
      ]
     },
     "execution_count": 51,
     "metadata": {},
     "output_type": "execute_result"
    }
   ],
   "source": [
    "basis_data"
   ]
  },
  {
   "cell_type": "code",
   "execution_count": 56,
   "metadata": {},
   "outputs": [
    {
     "data": {
      "text/plain": [
       "array([[1.]])"
      ]
     },
     "execution_count": 56,
     "metadata": {},
     "output_type": "execute_result"
    }
   ],
   "source": [
    "basis_functions = create_basis_function(molecule, basis_data)\n",
    "get_Smat(basis_functions)"
   ]
  },
  {
   "cell_type": "code",
   "execution_count": 42,
   "metadata": {},
   "outputs": [
    {
     "name": "stdout",
     "output_type": "stream",
     "text": [
      "Start SCF for Molecule(atoms=[Atom(symbol=H, atomic_number=1, position=[0. 0. 0.])])\n"
     ]
    }
   ],
   "source": [
    "hartreefock = UnrestrictedHartreeFock(molecule, basis_data, max_iter=10000, tol=1e-10)\n",
    "hartreefock.scf()\n",
    "hartreefock.calculate_total_energy()\n",
    "results = hartreefock.get_results()"
   ]
  },
  {
   "cell_type": "code",
   "execution_count": 43,
   "metadata": {},
   "outputs": [
    {
     "data": {
      "text/plain": [
       "{'energy': -0.4949421992363992,\n",
       " 'P_up': array([[1.]]),\n",
       " 'P_dn': array([[0.]]),\n",
       " 'val_up': array([-0.4949422]),\n",
       " 'val_dn': array([0.12987982]),\n",
       " 'vec_up': array([[1.]]),\n",
       " 'vec_dn': array([[1.]])}"
      ]
     },
     "execution_count": 43,
     "metadata": {},
     "output_type": "execute_result"
    }
   ],
   "source": [
    "results"
   ]
  },
  {
   "cell_type": "code",
   "execution_count": null,
   "metadata": {},
   "outputs": [],
   "source": []
  }
 ],
 "metadata": {
  "kernelspec": {
   "display_name": "physics",
   "language": "python",
   "name": "python3"
  },
  "language_info": {
   "codemirror_mode": {
    "name": "ipython",
    "version": 3
   },
   "file_extension": ".py",
   "mimetype": "text/x-python",
   "name": "python",
   "nbconvert_exporter": "python",
   "pygments_lexer": "ipython3",
   "version": "3.10.12"
  }
 },
 "nbformat": 4,
 "nbformat_minor": 2
}
