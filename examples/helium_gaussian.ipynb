{
 "cells": [
  {
   "cell_type": "code",
   "execution_count": 78,
   "metadata": {},
   "outputs": [],
   "source": [
    "import sys\n",
    "\n",
    "sys.path.append(\"../src\")"
   ]
  },
  {
   "cell_type": "code",
   "execution_count": 79,
   "metadata": {},
   "outputs": [],
   "source": [
    "import numpy as np\n",
    "import matplotlib.pyplot as plt\n",
    "import importlib\n",
    "from scipy.integrate import quad\n",
    "from scipy.optimize import minimize\n",
    "import sto_ng\n",
    "import gaussian_overlap_function_2\n",
    "import h5py\n",
    "from scipy.linalg import eigh\n",
    "\n",
    "\n",
    "importlib.reload(sto_ng)\n",
    "importlib.reload(gaussian_overlap_function_2)\n",
    "from sto_ng import *\n",
    "from gaussian_overlap_function_2 import *"
   ]
  },
  {
   "cell_type": "code",
   "execution_count": 80,
   "metadata": {},
   "outputs": [],
   "source": [
    "alphas = [0.297104, 1.236745, 5.749982, 38.216677]"
   ]
  },
  {
   "cell_type": "code",
   "execution_count": 81,
   "metadata": {},
   "outputs": [],
   "source": [
    "RA = np.zeros(3)\n",
    "RB = np.zeros(3)\n",
    "RC = np.zeros(3)\n",
    "RD = np.zeros(3)\n",
    "C = [0.5, 0.5, 0.5, 0.5]\n",
    "\n",
    "\n",
    "def get_H_matrix(C, alphas, RA, RB, RC, RD):\n",
    "    H_mat = np.zeros((4, 4))\n",
    "    for p in range(4):\n",
    "        for q in range(4):\n",
    "            H_mat[p, q] += T(alphas[p], alphas[q], RA, RB)\n",
    "            H_mat[p, q] += 2 * V(alphas[p], alphas[q], RA, RB, RC)\n",
    "            for r in range(4):\n",
    "                for s in range(4):\n",
    "                    H_mat[p, q] += (\n",
    "                        C[r]\n",
    "                        * C[s]\n",
    "                        * U(alphas[p], alphas[r], alphas[q], alphas[s], RA, RB, RC, RD)\n",
    "                    )\n",
    "    return H_mat\n",
    "\n",
    "\n",
    "def get_h_matrix(C, alphas, RA, RB, RC, RD):\n",
    "    h_mat = np.zeros((4, 4))\n",
    "    for p in range(4):\n",
    "        for q in range(4):\n",
    "            h_mat[p, q] += T(alphas[p], alphas[q], RA, RB)\n",
    "            h_mat[p, q] += 2 * V(alphas[p], alphas[q], RA, RB, RC)\n",
    "    return h_mat\n",
    "\n",
    "\n",
    "def get_Q_matrix(C, alphas, RA, RB, RC, RD):\n",
    "    Q_mat = np.zeros((4, 4))\n",
    "    for p in range(4):\n",
    "        for q in range(4):\n",
    "            for r in range(4):\n",
    "                for s in range(4):\n",
    "                    Q_mat[p, q] += (\n",
    "                        C[r]\n",
    "                        * C[s]\n",
    "                        * U(alphas[p], alphas[r], alphas[q], alphas[s], RA, RB, RC, RD)\n",
    "                    )\n",
    "    return Q_mat\n",
    "\n",
    "\n",
    "def get_S_matrix(alphas, RA, RB):\n",
    "    S_mat = np.zeros((4, 4))\n",
    "    for p in range(4):\n",
    "        for q in range(4):\n",
    "            S_mat[p, q] = S(alphas[p], alphas[q], RA, RB)\n",
    "    return S_mat"
   ]
  },
  {
   "cell_type": "code",
   "execution_count": 82,
   "metadata": {},
   "outputs": [
    {
     "data": {
      "text/plain": [
       "(array([ 2.19132849,  3.89695206, 11.64969959, 65.37052032]),\n",
       " array([[  0.32965791,   0.23998687,  -0.13839282,   0.04883983],\n",
       "        [ -0.2252323 ,  -1.11783772,   1.14980156,  -0.42929561],\n",
       "        [  0.2727786 ,  -0.12629174,  -3.75722133,   2.68465017],\n",
       "        [  0.03919774,  -0.40673993,  -0.07839216, -13.73978245]]))"
      ]
     },
     "execution_count": 82,
     "metadata": {},
     "output_type": "execute_result"
    }
   ],
   "source": [
    "H_matrix = get_H_matrix(C, alphas, RA, RB, RC, RD)\n",
    "S_matrix = get_S_matrix(alphas, RA, RB)\n",
    "eigh(H_matrix, S_matrix)"
   ]
  },
  {
   "cell_type": "code",
   "execution_count": 87,
   "metadata": {},
   "outputs": [
    {
     "name": "stdout",
     "output_type": "stream",
     "text": [
      "-0.9141657888308927\n",
      "-0.9141689293482296\n",
      "-0.9141680705568663\n",
      "-0.9141683053974927\n",
      "-0.9141682411791561\n",
      "-0.9141682587399786\n",
      "-0.9141682539378837\n",
      "-0.9141682552510416\n",
      "-0.9141682548919499\n",
      "-0.9141682549901468\n"
     ]
    }
   ],
   "source": [
    "for i in range(10):\n",
    "    # H_matrix = get_H_matrix(C, alphas, RA, RB, RC, RD)\n",
    "    h_matrix = get_h_matrix(C, alphas, RA, RB, RC, RD)\n",
    "    Q_matrix = get_Q_matrix(C, alphas, RA, RB, RC, RD)\n",
    "    H_matrix = h_matrix + Q_matrix\n",
    "    S_matrix = get_S_matrix(alphas, RA, RB)\n",
    "    val, vec = eigh(H_matrix, S_matrix)\n",
    "    C = vec[:, 0]\n",
    "    print(val[0])"
   ]
  },
  {
   "cell_type": "code",
   "execution_count": 84,
   "metadata": {},
   "outputs": [
    {
     "data": {
      "text/plain": [
       "-24.87476361162792"
      ]
     },
     "execution_count": 84,
     "metadata": {},
     "output_type": "execute_result"
    }
   ],
   "source": [
    "val[0] * 27.21"
   ]
  },
  {
   "cell_type": "code",
   "execution_count": 88,
   "metadata": {},
   "outputs": [],
   "source": [
    "h_matrix = get_h_matrix(C, alphas, RA, RB, RC, RD)\n",
    "Q_matrix = get_Q_matrix(C, alphas, RA, RB, RC, RD)\n",
    "energy = np.dot(C, np.dot(h_matrix, C)) + 0.5 * np.dot(C, np.dot(Q_matrix, C))"
   ]
  },
  {
   "cell_type": "code",
   "execution_count": 90,
   "metadata": {},
   "outputs": [
    {
     "data": {
      "text/plain": [
       "-2.8551603556695406"
      ]
     },
     "execution_count": 90,
     "metadata": {},
     "output_type": "execute_result"
    }
   ],
   "source": [
    "energy * 2"
   ]
  },
  {
   "cell_type": "code",
   "execution_count": 94,
   "metadata": {},
   "outputs": [
    {
     "data": {
      "text/plain": [
       "<matplotlib.legend.Legend at 0x70f1d0ab0df0>"
      ]
     },
     "execution_count": 94,
     "metadata": {},
     "output_type": "execute_result"
    },
    {
     "data": {
      "image/png": "[encoded data removed]",
      "text/plain": [
       "<Figure size 640x480 with 1 Axes>"
      ]
     },
     "metadata": {},
     "output_type": "display_data"
    }
   ],
   "source": [
    "fig, ax = plt.subplots()\n",
    "x = np.linspace(0, 10, 100)\n",
    "y = np.zeros(100)\n",
    "for i in range(4):\n",
    "    y_i = C[i] * np.exp(-alphas[i] * x**2)\n",
    "    y += y_i\n",
    "    ax.plot(x, y_i, label=f\"alpha = {alphas[i]}\")\n",
    "ax.plot(x, y, label=\"sum\")\n",
    "ax.legend()"
   ]
  },
  {
   "cell_type": "code",
   "execution_count": null,
   "metadata": {},
   "outputs": [],
   "source": []
  }
 ],
 "metadata": {
  "kernelspec": {
   "display_name": "physics",
   "language": "python",
   "name": "python3"
  },
  "language_info": {
   "codemirror_mode": {
    "name": "ipython",
    "version": 3
   },
   "file_extension": ".py",
   "mimetype": "text/x-python",
   "name": "python",
   "nbconvert_exporter": "python",
   "pygments_lexer": "ipython3",
   "version": "3.10.12"
  }
 },
 "nbformat": 4,
 "nbformat_minor": 2
}
