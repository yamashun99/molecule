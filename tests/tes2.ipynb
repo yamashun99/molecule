{
 "cells": [
  {
   "cell_type": "code",
   "execution_count": 1,
   "metadata": {},
   "outputs": [],
   "source": [
    "import sys\n",
    "\n",
    "sys.path.append(\"../src\")"
   ]
  },
  {
   "cell_type": "code",
   "execution_count": 2,
   "metadata": {},
   "outputs": [],
   "source": [
    "from gaussian_overlap import *"
   ]
  },
  {
   "cell_type": "code",
   "execution_count": 22,
   "metadata": {},
   "outputs": [
    {
     "name": "stdout",
     "output_type": "stream",
     "text": [
      "CPU times: user 200 µs, sys: 0 ns, total: 200 µs\n",
      "Wall time: 201 µs\n",
      "CPU times: user 1.92 ms, sys: 0 ns, total: 1.92 ms\n",
      "Wall time: 1.92 ms\n"
     ]
    },
    {
     "data": {
      "text/plain": [
       "1.9079242243817807"
      ]
     },
     "execution_count": 22,
     "metadata": {},
     "output_type": "execute_result"
    }
   ],
   "source": [
    "center_a = np.array([0.0, 0.0, 0.0])\n",
    "lmn_a = (2, 1, 1)\n",
    "exps_a = np.array([1.0, 2.0, 3.0])\n",
    "coefs_a = np.array([1.0, 2.0, 1.0])\n",
    "basis_a = BasisFunction(center_a, lmn_a, exps_a, coefs_a)\n",
    "center_b = np.array([1.0, 0.0, 0.0])\n",
    "lmn_b = (2, 1, 1)\n",
    "exps_b = np.array([1.0, 2.0, 3.0])\n",
    "coefs_b = np.array([1.0, 2.0, 1.0])\n",
    "basis_b = BasisFunction(center_b, lmn_b, exps_b, coefs_b)\n",
    "%time S(basis_a, basis_b)\n",
    "%time T(basis_a, basis_b)"
   ]
  },
  {
   "cell_type": "code",
   "execution_count": 14,
   "metadata": {},
   "outputs": [
    {
     "name": "stdout",
     "output_type": "stream",
     "text": [
      "CPU times: user 33 ms, sys: 5 µs, total: 33 ms\n",
      "Wall time: 33.1 ms\n"
     ]
    },
    {
     "data": {
      "text/plain": [
       "-0.8048284541397489"
      ]
     },
     "execution_count": 14,
     "metadata": {},
     "output_type": "execute_result"
    }
   ],
   "source": [
    "%time E(10, 2, 1, 1.0, 2.0, 3.0)"
   ]
  },
  {
   "cell_type": "code",
   "execution_count": 17,
   "metadata": {},
   "outputs": [
    {
     "name": "stdout",
     "output_type": "stream",
     "text": [
      "CPU times: user 45 µs, sys: 0 ns, total: 45 µs\n",
      "Wall time: 47.7 µs\n"
     ]
    },
    {
     "data": {
      "text/plain": [
       "0.07446021888612724"
      ]
     },
     "execution_count": 17,
     "metadata": {},
     "output_type": "execute_result"
    }
   ],
   "source": [
    "%time overlap(1, (0, 0, 0), np.array([1.0, 2.0, 3.0]), 2, (0, 0, 0), np.array([1.0, 2.0, 1.0]))"
   ]
  },
  {
   "cell_type": "code",
   "execution_count": 20,
   "metadata": {},
   "outputs": [
    {
     "name": "stdout",
     "output_type": "stream",
     "text": [
      "CPU times: user 64 µs, sys: 0 ns, total: 64 µs\n",
      "Wall time: 65.8 µs\n"
     ]
    },
    {
     "data": {
      "text/plain": [
       "-0.11582700715619798"
      ]
     },
     "execution_count": 20,
     "metadata": {},
     "output_type": "execute_result"
    }
   ],
   "source": [
    "%time kinetic(1.0, (0, 0, 0), np.array([1.0, 2.0, 3.0]), 2, (0, 0, 0), np.array([1.0, 2.0, 1.0]))"
   ]
  },
  {
   "cell_type": "markdown",
   "metadata": {},
   "source": []
  }
 ],
 "metadata": {
  "kernelspec": {
   "display_name": "physics",
   "language": "python",
   "name": "python3"
  },
  "language_info": {
   "codemirror_mode": {
    "name": "ipython",
    "version": 3
   },
   "file_extension": ".py",
   "mimetype": "text/x-python",
   "name": "python",
   "nbconvert_exporter": "python",
   "pygments_lexer": "ipython3",
   "version": "3.10.12"
  }
 },
 "nbformat": 4,
 "nbformat_minor": 2
}
