{
 "cells": [
  {
   "cell_type": "code",
   "execution_count": 1,
   "metadata": {
    "metadata": {}
   },
   "outputs": [],
   "source": [
    "import sys\n",
    "\n",
    "sys.path.append(\"../src\")"
   ]
  },
  {
   "cell_type": "code",
   "execution_count": 2,
   "metadata": {
    "metadata": {}
   },
   "outputs": [],
   "source": [
    "from gaussian_overlap import *"
   ]
  },
  {
   "cell_type": "code",
   "execution_count": 13,
   "metadata": {
    "metadata": {}
   },
   "outputs": [
    {
     "name": "stdout",
     "output_type": "stream",
     "text": [
      "CPU times: user 200 µs, sys: 1 µs, total: 201 µs\n",
      "Wall time: 202 µs\n",
      "CPU times: user 2.06 ms, sys: 0 ns, total: 2.06 ms\n",
      "Wall time: 2.09 ms\n",
      "CPU times: user 16.2 ms, sys: 9 µs, total: 16.2 ms\n",
      "Wall time: 13.6 ms\n",
      "CPU times: user 19.4 s, sys: 0 ns, total: 19.4 s\n",
      "Wall time: 19.4 s\n"
     ]
    },
    {
     "data": {
      "text/plain": [
       "0.17496143269511696"
      ]
     },
     "execution_count": 13,
     "metadata": {},
     "output_type": "execute_result"
    }
   ],
   "source": [
    "center_a = np.array([0.0, 0.0, 0.0])\n",
    "lmn_a = (2, 1, 1)\n",
    "exps_a = np.array([1.0, 2.0, 3.0])\n",
    "coefs_a = np.array([1.0, 2.0, 1.0])\n",
    "basis_a = BasisFunction(center_a, lmn_a, exps_a, coefs_a)\n",
    "center_b = np.array([1.0, 0.0, 0.0])\n",
    "lmn_b = (2, 1, 1)\n",
    "exps_b = np.array([1.0, 2.0, 3.0])\n",
    "coefs_b = np.array([1.0, 2.0, 1.0])\n",
    "basis_b = BasisFunction(center_b, lmn_b, exps_b, coefs_b)\n",
    "%time S(basis_a, basis_b)\n",
    "%time T(basis_a, basis_b)\n",
    "%time V(basis_a, basis_b, np.array([0.0, 0.0, 0.0]))\n",
    "%time ERI(basis_a, basis_b, basis_a, basis_b)"
   ]
  },
  {
   "cell_type": "code",
   "execution_count": 4,
   "metadata": {
    "metadata": {}
   },
   "outputs": [
    {
     "name": "stdout",
     "output_type": "stream",
     "text": [
      "CPU times: user 33 µs, sys: 0 ns, total: 33 µs\n",
      "Wall time: 34.3 µs\n"
     ]
    },
    {
     "data": {
      "text/plain": [
       "0.019172936091314628"
      ]
     },
     "execution_count": 4,
     "metadata": {},
     "output_type": "execute_result"
    }
   ],
   "source": [
    "%time boys(10, 1.)"
   ]
  },
  {
   "cell_type": "code",
   "execution_count": 5,
   "metadata": {
    "metadata": {}
   },
   "outputs": [
    {
     "name": "stdout",
     "output_type": "stream",
     "text": [
      "CPU times: user 2.22 s, sys: 48.1 ms, total: 2.27 s\n",
      "Wall time: 2.22 s\n"
     ]
    },
    {
     "data": {
      "text/plain": [
       "-2.2267489469706107e+46"
      ]
     },
     "execution_count": 5,
     "metadata": {},
     "output_type": "execute_result"
    }
   ],
   "source": [
    "n = 20\n",
    "t = 10\n",
    "u = 10\n",
    "v = 10\n",
    "p = 10\n",
    "RPC = np.array([1.0, 1.0, 1.0])\n",
    "%time R(n, t, u, v, p, RPC)"
   ]
  },
  {
   "cell_type": "code",
   "execution_count": 10,
   "metadata": {
    "metadata": {}
   },
   "outputs": [
    {
     "name": "stdout",
     "output_type": "stream",
     "text": [
      "CPU times: user 10.6 ms, sys: 0 ns, total: 10.6 ms\n",
      "Wall time: 8.95 ms\n"
     ]
    },
    {
     "data": {
      "text/plain": [
       "0.00017904443847412287"
      ]
     },
     "execution_count": 10,
     "metadata": {},
     "output_type": "execute_result"
    }
   ],
   "source": [
    "a = 1.0\n",
    "lmn1 = (2, 2, 2)\n",
    "A = np.array([0.0, 0.0, 0.0])\n",
    "b = 2.0\n",
    "lmn2 = (2, 2, 2)\n",
    "B = np.array([1.0, 0.0, 0.0])\n",
    "C = np.array([0.0, 0.0, 0.0])\n",
    "%time nuclear_attraction(a, lmn1, A, b, lmn2, B, C)"
   ]
  }
 ],
 "metadata": {
  "kernelspec": {
   "display_name": "physics",
   "language": "python",
   "name": "python3"
  },
  "language_info": {
   "codemirror_mode": {
    "name": "ipython",
    "version": 3
   },
   "file_extension": ".py",
   "mimetype": "text/x-python",
   "name": "python",
   "nbconvert_exporter": "python",
   "pygments_lexer": "ipython3",
   "version": "3.10.12"
  }
 },
 "nbformat": 4,
 "nbformat_minor": 2
}
