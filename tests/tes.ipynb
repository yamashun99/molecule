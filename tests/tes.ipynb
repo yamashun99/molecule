{
 "cells": [
  {
   "cell_type": "code",
   "execution_count": 40,
   "metadata": {},
   "outputs": [],
   "source": [
    "import sys\n",
    "\n",
    "sys.path.append(\"../src/stong_core_cython\")\n",
    "sys.path.append(\"../src/stong_core_cython/md\")"
   ]
  },
  {
   "cell_type": "code",
   "execution_count": 41,
   "metadata": {},
   "outputs": [],
   "source": [
    "import numpy as np\n",
    "import pandas as pd\n",
    "import hartree_fock\n",
    "import basis_data\n",
    "import importlib\n",
    "import matrix\n",
    "import two_electron\n",
    "from scipy.optimize import minimize\n",
    "\n",
    "importlib.reload(hartree_fock)\n",
    "importlib.reload(basis_data)\n",
    "importlib.reload(matrix)\n",
    "importlib.reload(two_electron)\n",
    "\n",
    "from atom import *\n",
    "from hartree_fock import *\n",
    "from basis_data import *\n",
    "from matrix import *\n",
    "from two_electron import *"
   ]
  },
  {
   "cell_type": "code",
   "execution_count": 42,
   "metadata": {},
   "outputs": [],
   "source": [
    "df = pd.read_csv(\"../examples/make_base/sto_3g.csv\")"
   ]
  },
  {
   "cell_type": "code",
   "execution_count": 43,
   "metadata": {},
   "outputs": [],
   "source": [
    "zetas = [1, 1, 1]\n",
    "basis_data = {\"H\": create_basis_data(df, zetas, 3, 1)}\n",
    "molecule = Molecule(\n",
    "    [Atom(\"H\", np.array([0.0, 0.0, 0.0])), Atom(\"H\", np.array([0.0, 0.0, 0.74]))]\n",
    ")\n",
    "basis_functions = create_basis_function(molecule, basis_data)"
   ]
  },
  {
   "cell_type": "code",
   "execution_count": 44,
   "metadata": {},
   "outputs": [
    {
     "data": {
      "text/plain": [
       "18"
      ]
     },
     "execution_count": 44,
     "metadata": {},
     "output_type": "execute_result"
    }
   ],
   "source": [
    "len(basis_functions)"
   ]
  },
  {
   "cell_type": "code",
   "execution_count": 45,
   "metadata": {},
   "outputs": [
    {
     "data": {
      "text/plain": [
       "<MemoryView of 'ndarray' at 0x7cf965e94ee0>"
      ]
     },
     "execution_count": 45,
     "metadata": {},
     "output_type": "execute_result"
    }
   ],
   "source": [
    "basis_functions[0].lmn"
   ]
  },
  {
   "cell_type": "code",
   "execution_count": 49,
   "metadata": {},
   "outputs": [
    {
     "ename": "TypeError",
     "evalue": "a bytes-like object is required, not 'tuple'",
     "output_type": "error",
     "traceback": [
      "\u001b[0;31m---------------------------------------------------------------------------\u001b[0m",
      "\u001b[0;31mTypeError\u001b[0m                                 Traceback (most recent call last)",
      "Cell \u001b[0;32mIn[49], line 1\u001b[0m\n\u001b[0;32m----> 1\u001b[0m \u001b[43mget_Tmat\u001b[49m\u001b[43m(\u001b[49m\u001b[43mbasis_functions\u001b[49m\u001b[43m)\u001b[49m\n",
      "File \u001b[0;32m~/physics/molecule/tests/../src/stong_core_cython/md/matrix.py:12\u001b[0m, in \u001b[0;36mget_Tmat\u001b[0;34m(basis)\u001b[0m\n\u001b[1;32m     10\u001b[0m \u001b[38;5;28;01mfor\u001b[39;00m j, b \u001b[38;5;129;01min\u001b[39;00m \u001b[38;5;28menumerate\u001b[39m(basis):\n\u001b[1;32m     11\u001b[0m     \u001b[38;5;28;01mif\u001b[39;00m j \u001b[38;5;241m>\u001b[39m\u001b[38;5;241m=\u001b[39m i:\n\u001b[0;32m---> 12\u001b[0m         mat[i, j] \u001b[38;5;241m=\u001b[39m \u001b[43mT\u001b[49m\u001b[43m(\u001b[49m\u001b[43ma\u001b[49m\u001b[43m,\u001b[49m\u001b[43m \u001b[49m\u001b[43mb\u001b[49m\u001b[43m)\u001b[49m\n\u001b[1;32m     13\u001b[0m     \u001b[38;5;28;01melse\u001b[39;00m:\n\u001b[1;32m     14\u001b[0m         mat[i, j] \u001b[38;5;241m=\u001b[39m mat[j, i]\n",
      "File \u001b[0;32msrc/stong_core_cython/md/one_electron.pyx:63\u001b[0m, in \u001b[0;36msrc.stong_core_cython.md.one_electron.T\u001b[0;34m()\u001b[0m\n",
      "File \u001b[0;32msrc/stong_core_cython/md/one_electron.pyx:76\u001b[0m, in \u001b[0;36msrc.stong_core_cython.md.one_electron.T\u001b[0;34m()\u001b[0m\n",
      "File \u001b[0;32msrc/stong_core_cython/md/one_electron.pyx:50\u001b[0m, in \u001b[0;36msrc.stong_core_cython.md.one_electron.kinetic\u001b[0;34m()\u001b[0m\n",
      "File \u001b[0;32m<stringsource>:663\u001b[0m, in \u001b[0;36mView.MemoryView.memoryview_cwrapper\u001b[0;34m()\u001b[0m\n",
      "File \u001b[0;32m<stringsource>:353\u001b[0m, in \u001b[0;36mView.MemoryView.memoryview.__cinit__\u001b[0;34m()\u001b[0m\n",
      "\u001b[0;31mTypeError\u001b[0m: a bytes-like object is required, not 'tuple'"
     ]
    }
   ],
   "source": [
    "get_Tmat(basis_functions)"
   ]
  },
  {
   "cell_type": "code",
   "execution_count": 51,
   "metadata": {},
   "outputs": [
    {
     "ename": "TypeError",
     "evalue": "a bytes-like object is required, not 'tuple'",
     "output_type": "error",
     "traceback": [
      "\u001b[0;31m---------------------------------------------------------------------------\u001b[0m",
      "\u001b[0;31mTypeError\u001b[0m                                 Traceback (most recent call last)",
      "Cell \u001b[0;32mIn[51], line 1\u001b[0m\n\u001b[0;32m----> 1\u001b[0m \u001b[43mT\u001b[49m\u001b[43m(\u001b[49m\u001b[43mbasis_functions\u001b[49m\u001b[43m[\u001b[49m\u001b[38;5;241;43m0\u001b[39;49m\u001b[43m]\u001b[49m\u001b[43m,\u001b[49m\u001b[43m \u001b[49m\u001b[43mbasis_functions\u001b[49m\u001b[43m[\u001b[49m\u001b[38;5;241;43m0\u001b[39;49m\u001b[43m]\u001b[49m\u001b[43m)\u001b[49m\n",
      "File \u001b[0;32msrc/stong_core_cython/md/one_electron.pyx:63\u001b[0m, in \u001b[0;36msrc.stong_core_cython.md.one_electron.T\u001b[0;34m()\u001b[0m\n",
      "File \u001b[0;32msrc/stong_core_cython/md/one_electron.pyx:76\u001b[0m, in \u001b[0;36msrc.stong_core_cython.md.one_electron.T\u001b[0;34m()\u001b[0m\n",
      "File \u001b[0;32msrc/stong_core_cython/md/one_electron.pyx:50\u001b[0m, in \u001b[0;36msrc.stong_core_cython.md.one_electron.kinetic\u001b[0;34m()\u001b[0m\n",
      "File \u001b[0;32m<stringsource>:663\u001b[0m, in \u001b[0;36mView.MemoryView.memoryview_cwrapper\u001b[0;34m()\u001b[0m\n",
      "File \u001b[0;32m<stringsource>:353\u001b[0m, in \u001b[0;36mView.MemoryView.memoryview.__cinit__\u001b[0;34m()\u001b[0m\n",
      "\u001b[0;31mTypeError\u001b[0m: a bytes-like object is required, not 'tuple'"
     ]
    }
   ],
   "source": [
    "T(basis_functions[0], basis_functions[0])"
   ]
  },
  {
   "cell_type": "code",
   "execution_count": 50,
   "metadata": {},
   "outputs": [
    {
     "data": {
      "text/plain": [
       "array([[ 1.        ,  0.86692628,  0.        ,  0.        ,  0.        ,\n",
       "         0.63288479,  0.        ,  0.        ,  0.        ,  0.91730486,\n",
       "         0.83790223,  0.        ,  0.        , -0.33946468,  0.63044581,\n",
       "         0.        ,  0.        , -0.26107862],\n",
       "       [ 0.86692628,  1.        ,  0.        ,  0.        ,  0.        ,\n",
       "         0.91235994,  0.        ,  0.        ,  0.        ,  0.83790223,\n",
       "         0.97152938,  0.        ,  0.        , -0.20914309,  0.89637127,\n",
       "         0.        ,  0.        , -0.22729131],\n",
       "       [ 0.        ,  0.        ,  1.        ,  0.        ,  0.        ,\n",
       "         0.        ,  0.91374855,  0.        ,  0.        ,  0.        ,\n",
       "         0.        ,  0.94758098,  0.        ,  0.        ,  0.        ,\n",
       "         0.88387617,  0.        ,  0.        ],\n",
       "       [ 0.        ,  0.        ,  0.        ,  1.        ,  0.        ,\n",
       "         0.        ,  0.        ,  0.91374855,  0.        ,  0.        ,\n",
       "         0.        ,  0.        ,  0.94758098,  0.        ,  0.        ,\n",
       "         0.        ,  0.88387617,  0.        ],\n",
       "       [ 0.        ,  0.        ,  0.        ,  0.        ,  1.        ,\n",
       "         0.        ,  0.        ,  0.        ,  0.91374855,  0.33946468,\n",
       "         0.20914309,  0.        ,  0.        ,  0.84707178,  0.08250057,\n",
       "         0.        ,  0.        ,  0.82529962],\n",
       "       [ 0.63288479,  0.91235994,  0.        ,  0.        ,  0.        ,\n",
       "         1.        ,  0.        ,  0.        ,  0.        ,  0.63044581,\n",
       "         0.89637127,  0.        ,  0.        , -0.08250057,  0.98235612,\n",
       "         0.        ,  0.        , -0.14097137],\n",
       "       [ 0.        ,  0.        ,  0.91374855,  0.        ,  0.        ,\n",
       "         0.        ,  1.        ,  0.        ,  0.        ,  0.        ,\n",
       "         0.        ,  0.88387617,  0.        ,  0.        ,  0.        ,\n",
       "         0.97491405,  0.        ,  0.        ],\n",
       "       [ 0.        ,  0.        ,  0.        ,  0.91374855,  0.        ,\n",
       "         0.        ,  0.        ,  1.        ,  0.        ,  0.        ,\n",
       "         0.        ,  0.        ,  0.88387617,  0.        ,  0.        ,\n",
       "         0.        ,  0.97491405,  0.        ],\n",
       "       [ 0.        ,  0.        ,  0.        ,  0.        ,  0.91374855,\n",
       "         0.        ,  0.        ,  0.        ,  1.        ,  0.26107862,\n",
       "         0.22729131,  0.        ,  0.        ,  0.82529962,  0.14097137,\n",
       "         0.        ,  0.        ,  0.92546662],\n",
       "       [ 0.91730486,  0.83790223,  0.        ,  0.        ,  0.33946468,\n",
       "         0.63044581,  0.        ,  0.        ,  0.26107862,  1.        ,\n",
       "         0.86692628,  0.        ,  0.        ,  0.        ,  0.63288479,\n",
       "         0.        ,  0.        ,  0.        ],\n",
       "       [ 0.83790223,  0.97152938,  0.        ,  0.        ,  0.20914309,\n",
       "         0.89637127,  0.        ,  0.        ,  0.22729131,  0.86692628,\n",
       "         1.        ,  0.        ,  0.        ,  0.        ,  0.91235994,\n",
       "         0.        ,  0.        ,  0.        ],\n",
       "       [ 0.        ,  0.        ,  0.94758098,  0.        ,  0.        ,\n",
       "         0.        ,  0.88387617,  0.        ,  0.        ,  0.        ,\n",
       "         0.        ,  1.        ,  0.        ,  0.        ,  0.        ,\n",
       "         0.91374855,  0.        ,  0.        ],\n",
       "       [ 0.        ,  0.        ,  0.        ,  0.94758098,  0.        ,\n",
       "         0.        ,  0.        ,  0.88387617,  0.        ,  0.        ,\n",
       "         0.        ,  0.        ,  1.        ,  0.        ,  0.        ,\n",
       "         0.        ,  0.91374855,  0.        ],\n",
       "       [-0.33946468, -0.20914309,  0.        ,  0.        ,  0.84707178,\n",
       "        -0.08250057,  0.        ,  0.        ,  0.82529962,  0.        ,\n",
       "         0.        ,  0.        ,  0.        ,  1.        ,  0.        ,\n",
       "         0.        ,  0.        ,  0.91374855],\n",
       "       [ 0.63044581,  0.89637127,  0.        ,  0.        ,  0.08250057,\n",
       "         0.98235612,  0.        ,  0.        ,  0.14097137,  0.63288479,\n",
       "         0.91235994,  0.        ,  0.        ,  0.        ,  1.        ,\n",
       "         0.        ,  0.        ,  0.        ],\n",
       "       [ 0.        ,  0.        ,  0.88387617,  0.        ,  0.        ,\n",
       "         0.        ,  0.97491405,  0.        ,  0.        ,  0.        ,\n",
       "         0.        ,  0.91374855,  0.        ,  0.        ,  0.        ,\n",
       "         1.        ,  0.        ,  0.        ],\n",
       "       [ 0.        ,  0.        ,  0.        ,  0.88387617,  0.        ,\n",
       "         0.        ,  0.        ,  0.97491405,  0.        ,  0.        ,\n",
       "         0.        ,  0.        ,  0.91374855,  0.        ,  0.        ,\n",
       "         0.        ,  1.        ,  0.        ],\n",
       "       [-0.26107862, -0.22729131,  0.        ,  0.        ,  0.82529962,\n",
       "        -0.14097137,  0.        ,  0.        ,  0.92546662,  0.        ,\n",
       "         0.        ,  0.        ,  0.        ,  0.91374855,  0.        ,\n",
       "         0.        ,  0.        ,  1.        ]])"
      ]
     },
     "execution_count": 50,
     "metadata": {},
     "output_type": "execute_result"
    }
   ],
   "source": [
    "get_Smat(basis_functions)"
   ]
  },
  {
   "cell_type": "code",
   "execution_count": 46,
   "metadata": {},
   "outputs": [
    {
     "name": "stdout",
     "output_type": "stream",
     "text": [
      "-0.1164940321387546\n",
      "-0.11649403213875459\n",
      "-0.1164940321387546\n"
     ]
    }
   ],
   "source": [
    "print(\n",
    "    ERI(basis_functions[0], basis_functions[17], basis_functions[0], basis_functions[1])\n",
    ")\n",
    "print(\n",
    "    ERI(basis_functions[17], basis_functions[0], basis_functions[0], basis_functions[1])\n",
    ")\n",
    "print(\n",
    "    ERI(basis_functions[0], basis_functions[1], basis_functions[0], basis_functions[17])\n",
    ")"
   ]
  },
  {
   "cell_type": "code",
   "execution_count": 47,
   "metadata": {},
   "outputs": [
    {
     "data": {
      "text/plain": [
       "-66.71035054567223"
      ]
     },
     "execution_count": 47,
     "metadata": {},
     "output_type": "execute_result"
    }
   ],
   "source": [
    "a = basis_functions[0]\n",
    "b = basis_functions[17]\n",
    "c = basis_functions[0]\n",
    "d = basis_functions[1]\n",
    "i, j, k, l = 0, 2, 0, 0\n",
    "electron_repulsion(\n",
    "    a.exps[i],\n",
    "    a.lmn,\n",
    "    a.origin,\n",
    "    b.exps[j],\n",
    "    b.lmn,\n",
    "    b.origin,\n",
    "    c.exps[k],\n",
    "    c.lmn,\n",
    "    c.origin,\n",
    "    d.exps[l],\n",
    "    d.lmn,\n",
    "    d.origin,\n",
    ")"
   ]
  },
  {
   "cell_type": "code",
   "execution_count": 48,
   "metadata": {},
   "outputs": [
    {
     "data": {
      "text/plain": [
       "-36.584622160798745"
      ]
     },
     "execution_count": 48,
     "metadata": {},
     "output_type": "execute_result"
    }
   ],
   "source": [
    "i, j, k, l = 2, 0, 0, 0\n",
    "electron_repulsion(\n",
    "    a.exps[i],\n",
    "    a.lmn,\n",
    "    a.origin,\n",
    "    b.exps[j],\n",
    "    b.lmn,\n",
    "    b.origin,\n",
    "    c.exps[k],\n",
    "    c.lmn,\n",
    "    c.origin,\n",
    "    d.exps[l],\n",
    "    d.lmn,\n",
    "    d.origin,\n",
    ")"
   ]
  }
 ],
 "metadata": {
  "kernelspec": {
   "display_name": "physics",
   "language": "python",
   "name": "python3"
  },
  "language_info": {
   "codemirror_mode": {
    "name": "ipython",
    "version": 3
   },
   "file_extension": ".py",
   "mimetype": "text/x-python",
   "name": "python",
   "nbconvert_exporter": "python",
   "pygments_lexer": "ipython3",
   "version": "3.10.12"
  }
 },
 "nbformat": 4,
 "nbformat_minor": 2
}
