{
 "cells": [
  {
   "cell_type": "code",
   "execution_count": 1,
   "metadata": {
    "metadata": {}
   },
   "outputs": [],
   "source": [
    "import sys\n",
    "\n",
    "sys.path.append(\"../src/stong_core_cython\")"
   ]
  },
  {
   "cell_type": "code",
   "execution_count": 2,
   "metadata": {
    "metadata": {}
   },
   "outputs": [],
   "source": [
    "import gaussian_overlap\n",
    "import importlib\n",
    "import numpy as np\n",
    "from scipy.special import factorial2 as fact2\n",
    "\n",
    "importlib.reload(gaussian_overlap)\n",
    "from gaussian_overlap import *"
   ]
  },
  {
   "cell_type": "code",
   "execution_count": 3,
   "metadata": {
    "metadata": {}
   },
   "outputs": [
    {
     "name": "stdout",
     "output_type": "stream",
     "text": [
      "CPU times: user 17 µs, sys: 3 µs, total: 20 µs\n",
      "Wall time: 21.5 µs\n",
      "CPU times: user 89 µs, sys: 16 µs, total: 105 µs\n",
      "Wall time: 113 µs\n",
      "CPU times: user 0 ns, sys: 1.66 ms, total: 1.66 ms\n",
      "Wall time: 1.39 ms\n",
      "CPU times: user 802 ms, sys: 18.6 ms, total: 820 ms\n",
      "Wall time: 820 ms\n"
     ]
    },
    {
     "data": {
      "text/plain": [
       "0.17496143269511694"
      ]
     },
     "execution_count": 3,
     "metadata": {},
     "output_type": "execute_result"
    }
   ],
   "source": [
    "center_a = np.array([0.0, 0.0, 0.0])\n",
    "lmn_a = (2, 1, 1)\n",
    "exps_a = np.array([1.0, 2.0, 3.0])\n",
    "coefs_a = np.array([1.0, 2.0, 1.0])\n",
    "basis_a = BasisFunction(center_a, lmn_a, exps_a, coefs_a)\n",
    "center_b = np.array([1.0, 0.0, 0.0])\n",
    "lmn_b = (2, 1, 1)\n",
    "exps_b = np.array([1.0, 2.0, 3.0])\n",
    "coefs_b = np.array([1.0, 2.0, 1.0])\n",
    "basis_b = BasisFunction(center_b, lmn_b, exps_b, coefs_b)\n",
    "%time S(basis_a, basis_b)\n",
    "%time T(basis_a, basis_b)\n",
    "%time V(basis_a, basis_b, np.array([0.0, 0.0, 0.0]))\n",
    "%time ERI(basis_a, basis_b, basis_a, basis_b)"
   ]
  },
  {
   "cell_type": "code",
   "execution_count": 4,
   "metadata": {
    "metadata": {}
   },
   "outputs": [
    {
     "data": {
      "text/plain": [
       "6.683076777167257"
      ]
     },
     "execution_count": 4,
     "metadata": {},
     "output_type": "execute_result"
    }
   ],
   "source": [
    "center_a = np.array([0.0, 0.0, 0.0])\n",
    "lmn_a = (1, 1, 0)\n",
    "exps_a = np.array([1.0, 2.0, 3.0])\n",
    "coefs_a = np.array([1.0, 2.0, 1.0])\n",
    "basis_a = BasisFunction(center_a, lmn_a, exps_a, coefs_a)\n",
    "T(basis_a, basis_a)"
   ]
  }
 ],
 "metadata": {
  "kernelspec": {
   "display_name": "physics",
   "language": "python",
   "name": "python3"
  },
  "language_info": {
   "codemirror_mode": {
    "name": "ipython",
    "version": 3
   },
   "file_extension": ".py",
   "mimetype": "text/x-python",
   "name": "python",
   "nbconvert_exporter": "python",
   "pygments_lexer": "ipython3",
   "version": "3.10.12"
  }
 },
 "nbformat": 4,
 "nbformat_minor": 2
}
