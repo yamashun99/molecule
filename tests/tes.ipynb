{
 "cells": [
  {
   "cell_type": "code",
   "execution_count": 5,
   "metadata": {},
   "outputs": [],
   "source": [
    "import example\n",
    "import importlib\n",
    "import numpy as np\n",
    "from scipy.special import factorial2 as fact2\n",
    "\n",
    "importlib.reload(example)\n",
    "from example import *"
   ]
  },
  {
   "cell_type": "code",
   "execution_count": 6,
   "metadata": {},
   "outputs": [
    {
     "name": "stdout",
     "output_type": "stream",
     "text": [
      "CPU times: user 19 µs, sys: 0 ns, total: 19 µs\n",
      "Wall time: 19.6 µs\n",
      "CPU times: user 78 µs, sys: 0 ns, total: 78 µs\n",
      "Wall time: 79.2 µs\n"
     ]
    },
    {
     "data": {
      "text/plain": [
       "1.9079242243817802"
      ]
     },
     "execution_count": 6,
     "metadata": {},
     "output_type": "execute_result"
    }
   ],
   "source": [
    "center_a = np.array([0.0, 0.0, 0.0])\n",
    "lmn_a = (2, 1, 1)\n",
    "exps_a = np.array([1.0, 2.0, 3.0])\n",
    "coefs_a = np.array([1.0, 2.0, 1.0])\n",
    "basis_a = BasisFunction(center_a, lmn_a, exps_a, coefs_a)\n",
    "center_b = np.array([1.0, 0.0, 0.0])\n",
    "lmn_b = (2, 1, 1)\n",
    "exps_b = np.array([1.0, 2.0, 3.0])\n",
    "coefs_b = np.array([1.0, 2.0, 1.0])\n",
    "basis_b = BasisFunction(center_b, lmn_b, exps_b, coefs_b)\n",
    "%time S(basis_a, basis_b)\n",
    "%time T(basis_a, basis_b)"
   ]
  }
 ],
 "metadata": {
  "kernelspec": {
   "display_name": "physics",
   "language": "python",
   "name": "python3"
  },
  "language_info": {
   "codemirror_mode": {
    "name": "ipython",
    "version": 3
   },
   "file_extension": ".py",
   "mimetype": "text/x-python",
   "name": "python",
   "nbconvert_exporter": "python",
   "pygments_lexer": "ipython3",
   "version": "3.10.12"
  }
 },
 "nbformat": 4,
 "nbformat_minor": 2
}
