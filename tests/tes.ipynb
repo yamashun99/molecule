{
 "cells": [
  {
   "cell_type": "code",
   "execution_count": 40,
   "metadata": {},
   "outputs": [],
   "source": [
    "import sys\n",
    "\n",
    "sys.path.append(\"../src/stong_core_cython\")\n",
    "sys.path.append(\"../src/stong_core_cython/md\")"
   ]
  },
  {
   "cell_type": "code",
   "execution_count": 41,
   "metadata": {},
   "outputs": [],
   "source": [
    "import numpy as np\n",
    "import pandas as pd\n",
    "import hartree_fock\n",
    "import basis_data\n",
    "import importlib\n",
    "import matrix\n",
    "import two_electron\n",
    "from scipy.optimize import minimize\n",
    "\n",
    "importlib.reload(hartree_fock)\n",
    "importlib.reload(basis_data)\n",
    "importlib.reload(matrix)\n",
    "importlib.reload(two_electron)\n",
    "\n",
    "from atom import *\n",
    "from hartree_fock import *\n",
    "from basis_data import *\n",
    "from matrix import *\n",
    "from two_electron import *"
   ]
  },
  {
   "cell_type": "code",
   "execution_count": 42,
   "metadata": {},
   "outputs": [],
   "source": [
    "df = pd.read_csv(\"../examples/make_base/sto_3g.csv\")"
   ]
  },
  {
   "cell_type": "code",
   "execution_count": 43,
   "metadata": {},
   "outputs": [],
   "source": [
    "zetas = [1, 1, 1]\n",
    "basis_data = {\"H\": create_basis_data(df, zetas, 3, 1)}\n",
    "molecule = Molecule(\n",
    "    [Atom(\"H\", np.array([0.0, 0.0, 0.0])), Atom(\"H\", np.array([0.0, 0.0, 0.74]))]\n",
    ")\n",
    "basis_functions = create_basis_function(molecule, basis_data)"
   ]
  }
 ],
 "metadata": {
  "kernelspec": {
   "display_name": "physics",
   "language": "python",
   "name": "python3"
  },
  "language_info": {
   "codemirror_mode": {
    "name": "ipython",
    "version": 3
   },
   "file_extension": ".py",
   "mimetype": "text/x-python",
   "name": "python",
   "nbconvert_exporter": "python",
   "pygments_lexer": "ipython3",
   "version": "3.10.12"
  }
 },
 "nbformat": 4,
 "nbformat_minor": 2
}
